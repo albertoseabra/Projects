{
 "cells": [
  {
   "cell_type": "code",
   "execution_count": 1,
   "metadata": {},
   "outputs": [],
   "source": [
    "import pandas as pd\n",
    "import numpy as np\n",
    "import matplotlib.pyplot as plt\n",
    "import seaborn as sns\n",
    "%matplotlib inline\n",
    "plt.style.use('fivethirtyeight')\n",
    "\n",
    "import pymongo"
   ]
  },
  {
   "cell_type": "code",
   "execution_count": 2,
   "metadata": {},
   "outputs": [
    {
     "name": "stdout",
     "output_type": "stream",
     "text": [
      "Connected successfully!!!\n"
     ]
    },
    {
     "data": {
      "text/plain": [
       "MongoClient(host=['localhost:27017'], document_class=dict, tz_aware=False, connect=True)"
      ]
     },
     "execution_count": 2,
     "metadata": {},
     "output_type": "execute_result"
    }
   ],
   "source": [
    "try:\n",
    "    conn=pymongo.MongoClient()\n",
    "    print (\"Connected successfully!!!\")\n",
    "except pymongo.errors.ConnectionFailure as e:\n",
    "    print (\"Could not connect to MongoDB: {}s\".format(e)) \n",
    "conn"
   ]
  },
  {
   "cell_type": "code",
   "execution_count": 3,
   "metadata": {},
   "outputs": [
    {
     "data": {
      "text/plain": [
       "['admin', 'local', 'morphia_example', 'rails_test', 'testing', 'vscode']"
      ]
     },
     "execution_count": 3,
     "metadata": {},
     "output_type": "execute_result"
    }
   ],
   "source": [
    "conn.database_names()"
   ]
  },
  {
   "cell_type": "code",
   "execution_count": 4,
   "metadata": {},
   "outputs": [],
   "source": [
    "vscode = conn.vscode"
   ]
  },
  {
   "cell_type": "code",
   "execution_count": 5,
   "metadata": {},
   "outputs": [
    {
     "data": {
      "text/plain": [
       "['Issues']"
      ]
     },
     "execution_count": 5,
     "metadata": {},
     "output_type": "execute_result"
    }
   ],
   "source": [
    "vscode.collection_names()"
   ]
  },
  {
   "cell_type": "code",
   "execution_count": 6,
   "metadata": {},
   "outputs": [],
   "source": [
    "vs = vscode.Issues"
   ]
  },
  {
   "cell_type": "code",
   "execution_count": 7,
   "metadata": {},
   "outputs": [
    {
     "data": {
      "text/plain": [
       "52533"
      ]
     },
     "execution_count": 7,
     "metadata": {},
     "output_type": "execute_result"
    }
   ],
   "source": [
    "vs.find().count()"
   ]
  },
  {
   "cell_type": "code",
   "execution_count": 8,
   "metadata": {},
   "outputs": [
    {
     "data": {
      "text/plain": [
       "{'_id': ObjectId('5b2debe95660c81c085b8321'),\n",
       " 'assigned': [['22350', '2015-11-18T17:24:48Z'],\n",
       "  ['900690', '2015-11-19T14:23:33Z'],\n",
       "  ['22350', '2015-12-21T19:59:15Z']],\n",
       " 'body': \"Whenever I try to install any extension, using _ext install_, I get a **connect ETIMEDOUT 191.238.172.191:443** error.\\n\\nTrying to navigate to **https://191.238.172.191** in the browser produces a warning regarding the certificate being valid only for ***.market.visualstudio.com**, but I'm allowed to proceed.\\n\\nShouldn't VSCode try to connect to the name instead of the IP?\\n\\nI'm behind a proxy, VSCode updates just fine behind it, and also lists the available extensions. The firewall here logs the invalid certificate but allows the connection to proceed. Doesn't look like a problem in my end...\\n\\n**OS:** Windows 7\\n**VSCode:** 0.10.1\\n\",\n",
       " 'className': 'Issue',\n",
       " 'comments': 118,\n",
       " 'created_at': '2015-11-18T17:22:44Z',\n",
       " 'creator': 759416,\n",
       " 'crossReferences': ['https://api.github.com/repos/Microsoft/vscode/issues/155',\n",
       "  'https://api.github.com/repos/Microsoft/vscode/issues/186',\n",
       "  'https://api.github.com/repos/Microsoft/vscode/issues/215',\n",
       "  'https://api.github.com/repos/Microsoft/vscode/issues/262',\n",
       "  'https://api.github.com/repos/Microsoft/vscode/issues/319',\n",
       "  'https://api.github.com/repos/Microsoft/vscode/issues/479',\n",
       "  'https://api.github.com/repos/Microsoft/vscode-vsce/issues/49',\n",
       "  'https://api.github.com/repos/Microsoft/vscode/issues/954',\n",
       "  'https://api.github.com/repos/Microsoft/vscode/issues/1320',\n",
       "  'https://api.github.com/repos/Microsoft/vscode/issues/1826',\n",
       "  'https://api.github.com/repos/Microsoft/vscode/issues/1853',\n",
       "  'https://api.github.com/repos/Microsoft/vscode/issues/2260',\n",
       "  'https://api.github.com/repos/Microsoft/vscode/issues/2384',\n",
       "  'https://api.github.com/repos/wallabyjs/public/issues/426',\n",
       "  'https://api.github.com/repos/Microsoft/vscode-extension-vscode/issues/8'],\n",
       " 'labeled': ['bug', 'important', 'verified'],\n",
       " 'mentioned': 54,\n",
       " 'number': 69,\n",
       " 'organization': 'Microsoft',\n",
       " 'reponame': 'vscode',\n",
       " 'state': 'closed',\n",
       " 'status': [['closed', '2015-11-19T09:57:51Z'],\n",
       "  ['reopened', '2015-11-19T14:23:21Z'],\n",
       "  ['closed', '2015-11-20T09:32:28Z'],\n",
       "  ['reopened', '2015-12-21T19:58:56Z'],\n",
       "  ['closed', '2016-01-04T16:41:42Z']],\n",
       " 'subscribed': 54,\n",
       " 'title': 'Proxy support for extension gallery',\n",
       " 'unassigned': [['22350', '2015-11-19T14:23:33Z'],\n",
       "  ['900690', '2015-12-21T19:59:15Z']],\n",
       " 'url': 'https://api.github.com/repos/Microsoft/vscode/issues/69'}"
      ]
     },
     "execution_count": 8,
     "metadata": {},
     "output_type": "execute_result"
    }
   ],
   "source": [
    "vs.find_one({'number':69})"
   ]
  },
  {
   "cell_type": "code",
   "execution_count": 9,
   "metadata": {},
   "outputs": [
    {
     "data": {
      "text/plain": [
       "['bug', 'important', 'verified']"
      ]
     },
     "execution_count": 9,
     "metadata": {},
     "output_type": "execute_result"
    }
   ],
   "source": [
    "vs.find_one({'number':69})[\"labeled\"]"
   ]
  },
  {
   "cell_type": "code",
   "execution_count": 10,
   "metadata": {},
   "outputs": [
    {
     "data": {
      "text/plain": [
       "dict_keys(['_id', 'className', 'url', 'number', 'title', 'body', 'state', 'creator', 'created_at', 'reponame', 'organization', 'comments', 'subscribed', 'mentioned', 'labeled', 'status', 'assigned', 'unassigned', 'crossReferences'])"
      ]
     },
     "execution_count": 10,
     "metadata": {},
     "output_type": "execute_result"
    }
   ],
   "source": [
    "vs.find_one({'number':69}).keys()"
   ]
  },
  {
   "cell_type": "code",
   "execution_count": 11,
   "metadata": {},
   "outputs": [
    {
     "data": {
      "text/plain": [
       "11864"
      ]
     },
     "execution_count": 11,
     "metadata": {},
     "output_type": "execute_result"
    }
   ],
   "source": [
    "vs.find({\"labeled\":\"bug\"}).count()"
   ]
  },
  {
   "cell_type": "code",
   "execution_count": 12,
   "metadata": {},
   "outputs": [],
   "source": [
    "labels = [cur['labeled'] for cur in vs.find() if 'labeled' in cur]"
   ]
  },
  {
   "cell_type": "code",
   "execution_count": 13,
   "metadata": {},
   "outputs": [
    {
     "data": {
      "text/plain": [
       "46386"
      ]
     },
     "execution_count": 13,
     "metadata": {},
     "output_type": "execute_result"
    }
   ],
   "source": [
    "len(labels)"
   ]
  },
  {
   "cell_type": "code",
   "execution_count": 14,
   "metadata": {},
   "outputs": [
    {
     "data": {
      "text/plain": [
       "['tasks', 'WSL']"
      ]
     },
     "execution_count": 14,
     "metadata": {},
     "output_type": "execute_result"
    }
   ],
   "source": [
    "labels[55]"
   ]
  },
  {
   "cell_type": "code",
   "execution_count": 15,
   "metadata": {},
   "outputs": [],
   "source": [
    "df = pd.DataFrame(labels)"
   ]
  },
  {
   "cell_type": "code",
   "execution_count": 16,
   "metadata": {},
   "outputs": [
    {
     "data": {
      "text/html": [
       "<div>\n",
       "<style scoped>\n",
       "    .dataframe tbody tr th:only-of-type {\n",
       "        vertical-align: middle;\n",
       "    }\n",
       "\n",
       "    .dataframe tbody tr th {\n",
       "        vertical-align: top;\n",
       "    }\n",
       "\n",
       "    .dataframe thead th {\n",
       "        text-align: right;\n",
       "    }\n",
       "</style>\n",
       "<table border=\"1\" class=\"dataframe\">\n",
       "  <thead>\n",
       "    <tr style=\"text-align: right;\">\n",
       "      <th></th>\n",
       "      <th>0</th>\n",
       "      <th>1</th>\n",
       "      <th>2</th>\n",
       "      <th>3</th>\n",
       "      <th>4</th>\n",
       "      <th>5</th>\n",
       "      <th>6</th>\n",
       "      <th>7</th>\n",
       "      <th>8</th>\n",
       "      <th>9</th>\n",
       "      <th>10</th>\n",
       "      <th>11</th>\n",
       "      <th>12</th>\n",
       "      <th>13</th>\n",
       "    </tr>\n",
       "  </thead>\n",
       "  <tbody>\n",
       "    <tr>\n",
       "      <th>0</th>\n",
       "      <td>extensions</td>\n",
       "      <td>None</td>\n",
       "      <td>None</td>\n",
       "      <td>None</td>\n",
       "      <td>None</td>\n",
       "      <td>None</td>\n",
       "      <td>None</td>\n",
       "      <td>None</td>\n",
       "      <td>None</td>\n",
       "      <td>None</td>\n",
       "      <td>None</td>\n",
       "      <td>None</td>\n",
       "      <td>None</td>\n",
       "      <td>None</td>\n",
       "    </tr>\n",
       "    <tr>\n",
       "      <th>1</th>\n",
       "      <td>javascript</td>\n",
       "      <td>None</td>\n",
       "      <td>None</td>\n",
       "      <td>None</td>\n",
       "      <td>None</td>\n",
       "      <td>None</td>\n",
       "      <td>None</td>\n",
       "      <td>None</td>\n",
       "      <td>None</td>\n",
       "      <td>None</td>\n",
       "      <td>None</td>\n",
       "      <td>None</td>\n",
       "      <td>None</td>\n",
       "      <td>None</td>\n",
       "    </tr>\n",
       "    <tr>\n",
       "      <th>2</th>\n",
       "      <td>debug</td>\n",
       "      <td>question</td>\n",
       "      <td>None</td>\n",
       "      <td>None</td>\n",
       "      <td>None</td>\n",
       "      <td>None</td>\n",
       "      <td>None</td>\n",
       "      <td>None</td>\n",
       "      <td>None</td>\n",
       "      <td>None</td>\n",
       "      <td>None</td>\n",
       "      <td>None</td>\n",
       "      <td>None</td>\n",
       "      <td>None</td>\n",
       "    </tr>\n",
       "    <tr>\n",
       "      <th>3</th>\n",
       "      <td>editor</td>\n",
       "      <td>editor-core</td>\n",
       "      <td>None</td>\n",
       "      <td>None</td>\n",
       "      <td>None</td>\n",
       "      <td>None</td>\n",
       "      <td>None</td>\n",
       "      <td>None</td>\n",
       "      <td>None</td>\n",
       "      <td>None</td>\n",
       "      <td>None</td>\n",
       "      <td>None</td>\n",
       "      <td>None</td>\n",
       "      <td>None</td>\n",
       "    </tr>\n",
       "    <tr>\n",
       "      <th>4</th>\n",
       "      <td>feature-request</td>\n",
       "      <td>file-explorer</td>\n",
       "      <td>None</td>\n",
       "      <td>None</td>\n",
       "      <td>None</td>\n",
       "      <td>None</td>\n",
       "      <td>None</td>\n",
       "      <td>None</td>\n",
       "      <td>None</td>\n",
       "      <td>None</td>\n",
       "      <td>None</td>\n",
       "      <td>None</td>\n",
       "      <td>None</td>\n",
       "      <td>None</td>\n",
       "    </tr>\n",
       "  </tbody>\n",
       "</table>\n",
       "</div>"
      ],
      "text/plain": [
       "                0              1     2     3     4     5     6     7     8   \\\n",
       "0       extensions           None  None  None  None  None  None  None  None   \n",
       "1       javascript           None  None  None  None  None  None  None  None   \n",
       "2            debug       question  None  None  None  None  None  None  None   \n",
       "3           editor    editor-core  None  None  None  None  None  None  None   \n",
       "4  feature-request  file-explorer  None  None  None  None  None  None  None   \n",
       "\n",
       "     9     10    11    12    13  \n",
       "0  None  None  None  None  None  \n",
       "1  None  None  None  None  None  \n",
       "2  None  None  None  None  None  \n",
       "3  None  None  None  None  None  \n",
       "4  None  None  None  None  None  "
      ]
     },
     "execution_count": 16,
     "metadata": {},
     "output_type": "execute_result"
    }
   ],
   "source": [
    "df.head()"
   ]
  },
  {
   "cell_type": "markdown",
   "metadata": {},
   "source": [
    "## Assigned users"
   ]
  },
  {
   "cell_type": "code",
   "execution_count": 17,
   "metadata": {},
   "outputs": [],
   "source": [
    "users = [cur['assigned'] for cur in vs.find() if 'assigned' in cur]"
   ]
  },
  {
   "cell_type": "code",
   "execution_count": 18,
   "metadata": {},
   "outputs": [],
   "source": [
    "users2 = [eachuser[0] for sublist in users for eachuser in sublist]"
   ]
  },
  {
   "cell_type": "code",
   "execution_count": 19,
   "metadata": {},
   "outputs": [],
   "source": [
    "pd_users = pd.Series(users2)"
   ]
  },
  {
   "cell_type": "code",
   "execution_count": 20,
   "metadata": {},
   "outputs": [
    {
     "data": {
      "text/plain": [
       "<matplotlib.axes._subplots.AxesSubplot at 0x7f2878e311d0>"
      ]
     },
     "execution_count": 20,
     "metadata": {},
     "output_type": "execute_result"
    },
    {
     "data": {
      "image/png": "[encoded data removed]",
      "text/plain": [
       "<matplotlib.figure.Figure at 0x7f2878e31240>"
      ]
     },
     "metadata": {},
     "output_type": "display_data"
    }
   ],
   "source": [
    "plt.figure(figsize=(16,8))\n",
    "plt.xticks(rotation='vertical')\n",
    "\n",
    "sns.countplot(pd_users)"
   ]
  },
  {
   "cell_type": "markdown",
   "metadata": {},
   "source": [
    "## Unassigned users"
   ]
  },
  {
   "cell_type": "code",
   "execution_count": 21,
   "metadata": {},
   "outputs": [],
   "source": [
    "unassiged = [cur['unassigned'] for cur in vs.find() if 'unassigned' in cur]\n",
    "unassigned2 = [eachuser[0] for sublist in unassiged for eachuser in sublist]"
   ]
  },
  {
   "cell_type": "code",
   "execution_count": 22,
   "metadata": {},
   "outputs": [
    {
     "data": {
      "text/plain": [
       "<matplotlib.axes._subplots.AxesSubplot at 0x7f287387b940>"
      ]
     },
     "execution_count": 22,
     "metadata": {},
     "output_type": "execute_result"
    },
    {
     "data": {
      "image/png": "[encoded data removed]",
      "text/plain": [
       "<matplotlib.figure.Figure at 0x7f287387bb00>"
      ]
     },
     "metadata": {},
     "output_type": "display_data"
    }
   ],
   "source": [
    "pd_unassigned = pd.Series(unassigned2)\n",
    "\n",
    "plt.figure(figsize=(16,8))\n",
    "plt.xticks(rotation='vertical')\n",
    "\n",
    "sns.countplot(pd_unassigned)"
   ]
  },
  {
   "cell_type": "code",
   "execution_count": 23,
   "metadata": {},
   "outputs": [
    {
     "data": {
      "text/plain": [
       "900690      9113\n",
       "22350       6170\n",
       "5047891     5355\n",
       "1926584     5072\n",
       "12821956    4660\n",
       "2193314     4330\n",
       "6461412     4225\n",
       "1794099     4120\n",
       "10746682    2841\n",
       "1931590     2503\n",
       "1898161     2426\n",
       "323878      2172\n",
       "876920      1895\n",
       "9205389     1180\n",
       "16890566    1025\n",
       "172399       663\n",
       "2449568      595\n",
       "4674940      466\n",
       "11839736     361\n",
       "1487073      354\n",
       "1704059      248\n",
       "3672607      200\n",
       "4033249      172\n",
       "2239563      166\n",
       "1051190      152\n",
       "12818376     126\n",
       "17869538     113\n",
       "19785531     106\n",
       "762848       100\n",
       "18324331      76\n",
       "13241824      74\n",
       "6561887       67\n",
       "35271042      65\n",
       "25272315      58\n",
       "15158320      52\n",
       "173559        51\n",
       "2146228       50\n",
       "5607882       38\n",
       "8586769       30\n",
       "12900364      27\n",
       "79405         26\n",
       "1948812       16\n",
       "17735796      15\n",
       "856858         7\n",
       "7109548        7\n",
       "6909617        7\n",
       "242340         4\n",
       "5591113        4\n",
       "8125011        3\n",
       "6494226        2\n",
       "223467         2\n",
       "18324209       2\n",
       "212305         1\n",
       "10201666       1\n",
       "6344099        1\n",
       "7251102        1\n",
       "dtype: int64"
      ]
     },
     "execution_count": 23,
     "metadata": {},
     "output_type": "execute_result"
    }
   ],
   "source": [
    "pd_users.value_counts()"
   ]
  },
  {
   "cell_type": "code",
   "execution_count": 24,
   "metadata": {},
   "outputs": [
    {
     "data": {
      "text/plain": [
       "900690      3650\n",
       "5047891     2064\n",
       "1926584     1924\n",
       "22350       1586\n",
       "1794099     1162\n",
       "6461412      918\n",
       "1898161      915\n",
       "1931590      791\n",
       "10746682     672\n",
       "2193314      560\n",
       "876920       535\n",
       "323878       377\n",
       "12821956     374\n",
       "9205389      243\n",
       "11839736     201\n",
       "16890566     198\n",
       "172399       179\n",
       "2449568      171\n",
       "4674940      123\n",
       "1487073       97\n",
       "17869538      91\n",
       "2239563       80\n",
       "762848        80\n",
       "4033249       62\n",
       "1704059       60\n",
       "1051190       40\n",
       "15158320      39\n",
       "12818376      32\n",
       "173559        28\n",
       "5607882       28\n",
       "13241824      28\n",
       "3672607       27\n",
       "2146228       24\n",
       "6561887       17\n",
       "18324331      15\n",
       "79405         13\n",
       "856858         7\n",
       "7109548        6\n",
       "35271042       5\n",
       "8586769        4\n",
       "12900364       4\n",
       "25272315       3\n",
       "19785531       3\n",
       "5591113        3\n",
       "6909617        3\n",
       "6494226        2\n",
       "8125011        2\n",
       "1948812        2\n",
       "223467         1\n",
       "10201666       1\n",
       "7251102        1\n",
       "212305         1\n",
       "dtype: int64"
      ]
     },
     "execution_count": 24,
     "metadata": {},
     "output_type": "execute_result"
    }
   ],
   "source": [
    "pd_unassigned.value_counts()"
   ]
  },
  {
   "cell_type": "code",
   "execution_count": 25,
   "metadata": {},
   "outputs": [],
   "source": [
    "df = pd.DataFrame(index= pd_users.value_counts().index)"
   ]
  },
  {
   "cell_type": "code",
   "execution_count": 26,
   "metadata": {},
   "outputs": [],
   "source": [
    "df = df.assign(assigned=pd_users.value_counts().values)\n"
   ]
  },
  {
   "cell_type": "code",
   "execution_count": 27,
   "metadata": {},
   "outputs": [],
   "source": [
    "unass = pd.DataFrame(pd_unassigned.value_counts())"
   ]
  },
  {
   "cell_type": "code",
   "execution_count": 28,
   "metadata": {},
   "outputs": [],
   "source": [
    "df = df.join(unass, how='left')\n",
    "df.columns=[\"times_assigned\", \"times_unassigned\"]"
   ]
  },
  {
   "cell_type": "code",
   "execution_count": 29,
   "metadata": {},
   "outputs": [
    {
     "data": {
      "text/html": [
       "<div>\n",
       "<style scoped>\n",
       "    .dataframe tbody tr th:only-of-type {\n",
       "        vertical-align: middle;\n",
       "    }\n",
       "\n",
       "    .dataframe tbody tr th {\n",
       "        vertical-align: top;\n",
       "    }\n",
       "\n",
       "    .dataframe thead th {\n",
       "        text-align: right;\n",
       "    }\n",
       "</style>\n",
       "<table border=\"1\" class=\"dataframe\">\n",
       "  <thead>\n",
       "    <tr style=\"text-align: right;\">\n",
       "      <th></th>\n",
       "      <th>times_assigned</th>\n",
       "      <th>times_unassigned</th>\n",
       "    </tr>\n",
       "  </thead>\n",
       "  <tbody>\n",
       "    <tr>\n",
       "      <th>900690</th>\n",
       "      <td>9113</td>\n",
       "      <td>3650.0</td>\n",
       "    </tr>\n",
       "    <tr>\n",
       "      <th>22350</th>\n",
       "      <td>6170</td>\n",
       "      <td>1586.0</td>\n",
       "    </tr>\n",
       "    <tr>\n",
       "      <th>5047891</th>\n",
       "      <td>5355</td>\n",
       "      <td>2064.0</td>\n",
       "    </tr>\n",
       "    <tr>\n",
       "      <th>1926584</th>\n",
       "      <td>5072</td>\n",
       "      <td>1924.0</td>\n",
       "    </tr>\n",
       "    <tr>\n",
       "      <th>12821956</th>\n",
       "      <td>4660</td>\n",
       "      <td>374.0</td>\n",
       "    </tr>\n",
       "  </tbody>\n",
       "</table>\n",
       "</div>"
      ],
      "text/plain": [
       "          times_assigned  times_unassigned\n",
       "900690              9113            3650.0\n",
       "22350               6170            1586.0\n",
       "5047891             5355            2064.0\n",
       "1926584             5072            1924.0\n",
       "12821956            4660             374.0"
      ]
     },
     "execution_count": 29,
     "metadata": {},
     "output_type": "execute_result"
    }
   ],
   "source": [
    "df.head()"
   ]
  },
  {
   "cell_type": "code",
   "execution_count": 37,
   "metadata": {},
   "outputs": [
    {
     "name": "stdout",
     "output_type": "stream",
     "text": [
      "<class 'pandas.core.frame.DataFrame'>\n",
      "Index: 56 entries, 900690 to 7251102\n",
      "Data columns (total 2 columns):\n",
      "times_assigned      56 non-null int64\n",
      "times_unassigned    52 non-null float64\n",
      "dtypes: float64(1), int64(1)\n",
      "memory usage: 3.8+ KB\n"
     ]
    }
   ],
   "source": [
    "df.info()"
   ]
  },
  {
   "cell_type": "code",
   "execution_count": null,
   "metadata": {},
   "outputs": [],
   "source": []
  },
  {
   "cell_type": "code",
   "execution_count": 39,
   "metadata": {},
   "outputs": [
    {
     "data": {
      "image/png": "[encoded data removed]",
      "text/plain": [
       "<matplotlib.figure.Figure at 0x7f287a5df828>"
      ]
     },
     "metadata": {},
     "output_type": "display_data"
    }
   ],
   "source": [
    "fig, axs = plt.subplots(2,1,  figsize=[12,12], sharex=True)\n",
    "\n",
    "sns.barplot(x=df.index, y='times_assigned', data=df, ax=axs[0])\n",
    "sns.barplot(x=df.index, y='times_unassigned', data=df, ax=axs[1])\n",
    "plt.xticks(rotation=\"vertical\");"
   ]
  },
  {
   "cell_type": "code",
   "execution_count": 40,
   "metadata": {},
   "outputs": [
    {
     "data": {
      "text/html": [
       "<div>\n",
       "<style scoped>\n",
       "    .dataframe tbody tr th:only-of-type {\n",
       "        vertical-align: middle;\n",
       "    }\n",
       "\n",
       "    .dataframe tbody tr th {\n",
       "        vertical-align: top;\n",
       "    }\n",
       "\n",
       "    .dataframe thead th {\n",
       "        text-align: right;\n",
       "    }\n",
       "</style>\n",
       "<table border=\"1\" class=\"dataframe\">\n",
       "  <thead>\n",
       "    <tr style=\"text-align: right;\">\n",
       "      <th></th>\n",
       "      <th>times_assigned</th>\n",
       "      <th>times_unassigned</th>\n",
       "    </tr>\n",
       "  </thead>\n",
       "  <tbody>\n",
       "    <tr>\n",
       "      <th>900690</th>\n",
       "      <td>9113</td>\n",
       "      <td>3650.0</td>\n",
       "    </tr>\n",
       "    <tr>\n",
       "      <th>22350</th>\n",
       "      <td>6170</td>\n",
       "      <td>1586.0</td>\n",
       "    </tr>\n",
       "    <tr>\n",
       "      <th>5047891</th>\n",
       "      <td>5355</td>\n",
       "      <td>2064.0</td>\n",
       "    </tr>\n",
       "    <tr>\n",
       "      <th>1926584</th>\n",
       "      <td>5072</td>\n",
       "      <td>1924.0</td>\n",
       "    </tr>\n",
       "    <tr>\n",
       "      <th>12821956</th>\n",
       "      <td>4660</td>\n",
       "      <td>374.0</td>\n",
       "    </tr>\n",
       "  </tbody>\n",
       "</table>\n",
       "</div>"
      ],
      "text/plain": [
       "          times_assigned  times_unassigned\n",
       "900690              9113            3650.0\n",
       "22350               6170            1586.0\n",
       "5047891             5355            2064.0\n",
       "1926584             5072            1924.0\n",
       "12821956            4660             374.0"
      ]
     },
     "execution_count": 40,
     "metadata": {},
     "output_type": "execute_result"
    }
   ],
   "source": [
    "df.head()"
   ]
  },
  {
   "cell_type": "code",
   "execution_count": 41,
   "metadata": {},
   "outputs": [],
   "source": [
    "df[\"reassignments_%\"] = df[\"times_unassigned\"]/df[\"times_assigned\"]"
   ]
  },
  {
   "cell_type": "code",
   "execution_count": 42,
   "metadata": {},
   "outputs": [
    {
     "data": {
      "text/html": [
       "<div>\n",
       "<style scoped>\n",
       "    .dataframe tbody tr th:only-of-type {\n",
       "        vertical-align: middle;\n",
       "    }\n",
       "\n",
       "    .dataframe tbody tr th {\n",
       "        vertical-align: top;\n",
       "    }\n",
       "\n",
       "    .dataframe thead th {\n",
       "        text-align: right;\n",
       "    }\n",
       "</style>\n",
       "<table border=\"1\" class=\"dataframe\">\n",
       "  <thead>\n",
       "    <tr style=\"text-align: right;\">\n",
       "      <th></th>\n",
       "      <th>times_assigned</th>\n",
       "      <th>times_unassigned</th>\n",
       "      <th>reassignments_%</th>\n",
       "    </tr>\n",
       "  </thead>\n",
       "  <tbody>\n",
       "    <tr>\n",
       "      <th>900690</th>\n",
       "      <td>9113</td>\n",
       "      <td>3650.0</td>\n",
       "      <td>0.400527</td>\n",
       "    </tr>\n",
       "    <tr>\n",
       "      <th>22350</th>\n",
       "      <td>6170</td>\n",
       "      <td>1586.0</td>\n",
       "      <td>0.257050</td>\n",
       "    </tr>\n",
       "    <tr>\n",
       "      <th>5047891</th>\n",
       "      <td>5355</td>\n",
       "      <td>2064.0</td>\n",
       "      <td>0.385434</td>\n",
       "    </tr>\n",
       "    <tr>\n",
       "      <th>1926584</th>\n",
       "      <td>5072</td>\n",
       "      <td>1924.0</td>\n",
       "      <td>0.379338</td>\n",
       "    </tr>\n",
       "    <tr>\n",
       "      <th>12821956</th>\n",
       "      <td>4660</td>\n",
       "      <td>374.0</td>\n",
       "      <td>0.080258</td>\n",
       "    </tr>\n",
       "  </tbody>\n",
       "</table>\n",
       "</div>"
      ],
      "text/plain": [
       "          times_assigned  times_unassigned  reassignments_%\n",
       "900690              9113            3650.0         0.400527\n",
       "22350               6170            1586.0         0.257050\n",
       "5047891             5355            2064.0         0.385434\n",
       "1926584             5072            1924.0         0.379338\n",
       "12821956            4660             374.0         0.080258"
      ]
     },
     "execution_count": 42,
     "metadata": {},
     "output_type": "execute_result"
    }
   ],
   "source": [
    "df.head()"
   ]
  },
  {
   "cell_type": "code",
   "execution_count": 48,
   "metadata": {},
   "outputs": [
    {
     "data": {
      "text/plain": [
       "<matplotlib.axes._subplots.AxesSubplot at 0x7f287ae3ea58>"
      ]
     },
     "execution_count": 48,
     "metadata": {},
     "output_type": "execute_result"
    },
    {
     "data": {
      "image/png": "[encoded data removed]",
      "text/plain": [
       "<matplotlib.figure.Figure at 0x7f287ae282e8>"
      ]
     },
     "metadata": {},
     "output_type": "display_data"
    }
   ],
   "source": [
    "df[\"reassignments_%\"].hist(bins=10)"
   ]
  },
  {
   "cell_type": "code",
   "execution_count": 50,
   "metadata": {},
   "outputs": [
    {
     "data": {
      "text/html": [
       "<div>\n",
       "<style scoped>\n",
       "    .dataframe tbody tr th:only-of-type {\n",
       "        vertical-align: middle;\n",
       "    }\n",
       "\n",
       "    .dataframe tbody tr th {\n",
       "        vertical-align: top;\n",
       "    }\n",
       "\n",
       "    .dataframe thead th {\n",
       "        text-align: right;\n",
       "    }\n",
       "</style>\n",
       "<table border=\"1\" class=\"dataframe\">\n",
       "  <thead>\n",
       "    <tr style=\"text-align: right;\">\n",
       "      <th></th>\n",
       "      <th>times_assigned</th>\n",
       "      <th>times_unassigned</th>\n",
       "      <th>reassignments_%</th>\n",
       "    </tr>\n",
       "  </thead>\n",
       "  <tbody>\n",
       "    <tr>\n",
       "      <th>7251102</th>\n",
       "      <td>1</td>\n",
       "      <td>1.0</td>\n",
       "      <td>1.000000</td>\n",
       "    </tr>\n",
       "    <tr>\n",
       "      <th>856858</th>\n",
       "      <td>7</td>\n",
       "      <td>7.0</td>\n",
       "      <td>1.000000</td>\n",
       "    </tr>\n",
       "    <tr>\n",
       "      <th>10201666</th>\n",
       "      <td>1</td>\n",
       "      <td>1.0</td>\n",
       "      <td>1.000000</td>\n",
       "    </tr>\n",
       "    <tr>\n",
       "      <th>212305</th>\n",
       "      <td>1</td>\n",
       "      <td>1.0</td>\n",
       "      <td>1.000000</td>\n",
       "    </tr>\n",
       "    <tr>\n",
       "      <th>6494226</th>\n",
       "      <td>2</td>\n",
       "      <td>2.0</td>\n",
       "      <td>1.000000</td>\n",
       "    </tr>\n",
       "    <tr>\n",
       "      <th>7109548</th>\n",
       "      <td>7</td>\n",
       "      <td>6.0</td>\n",
       "      <td>0.857143</td>\n",
       "    </tr>\n",
       "    <tr>\n",
       "      <th>17869538</th>\n",
       "      <td>113</td>\n",
       "      <td>91.0</td>\n",
       "      <td>0.805310</td>\n",
       "    </tr>\n",
       "    <tr>\n",
       "      <th>762848</th>\n",
       "      <td>100</td>\n",
       "      <td>80.0</td>\n",
       "      <td>0.800000</td>\n",
       "    </tr>\n",
       "    <tr>\n",
       "      <th>5591113</th>\n",
       "      <td>4</td>\n",
       "      <td>3.0</td>\n",
       "      <td>0.750000</td>\n",
       "    </tr>\n",
       "    <tr>\n",
       "      <th>15158320</th>\n",
       "      <td>52</td>\n",
       "      <td>39.0</td>\n",
       "      <td>0.750000</td>\n",
       "    </tr>\n",
       "    <tr>\n",
       "      <th>5607882</th>\n",
       "      <td>38</td>\n",
       "      <td>28.0</td>\n",
       "      <td>0.736842</td>\n",
       "    </tr>\n",
       "    <tr>\n",
       "      <th>8125011</th>\n",
       "      <td>3</td>\n",
       "      <td>2.0</td>\n",
       "      <td>0.666667</td>\n",
       "    </tr>\n",
       "    <tr>\n",
       "      <th>11839736</th>\n",
       "      <td>361</td>\n",
       "      <td>201.0</td>\n",
       "      <td>0.556787</td>\n",
       "    </tr>\n",
       "    <tr>\n",
       "      <th>173559</th>\n",
       "      <td>51</td>\n",
       "      <td>28.0</td>\n",
       "      <td>0.549020</td>\n",
       "    </tr>\n",
       "    <tr>\n",
       "      <th>223467</th>\n",
       "      <td>2</td>\n",
       "      <td>1.0</td>\n",
       "      <td>0.500000</td>\n",
       "    </tr>\n",
       "    <tr>\n",
       "      <th>79405</th>\n",
       "      <td>26</td>\n",
       "      <td>13.0</td>\n",
       "      <td>0.500000</td>\n",
       "    </tr>\n",
       "    <tr>\n",
       "      <th>2239563</th>\n",
       "      <td>166</td>\n",
       "      <td>80.0</td>\n",
       "      <td>0.481928</td>\n",
       "    </tr>\n",
       "    <tr>\n",
       "      <th>2146228</th>\n",
       "      <td>50</td>\n",
       "      <td>24.0</td>\n",
       "      <td>0.480000</td>\n",
       "    </tr>\n",
       "    <tr>\n",
       "      <th>6909617</th>\n",
       "      <td>7</td>\n",
       "      <td>3.0</td>\n",
       "      <td>0.428571</td>\n",
       "    </tr>\n",
       "    <tr>\n",
       "      <th>900690</th>\n",
       "      <td>9113</td>\n",
       "      <td>3650.0</td>\n",
       "      <td>0.400527</td>\n",
       "    </tr>\n",
       "    <tr>\n",
       "      <th>5047891</th>\n",
       "      <td>5355</td>\n",
       "      <td>2064.0</td>\n",
       "      <td>0.385434</td>\n",
       "    </tr>\n",
       "    <tr>\n",
       "      <th>1926584</th>\n",
       "      <td>5072</td>\n",
       "      <td>1924.0</td>\n",
       "      <td>0.379338</td>\n",
       "    </tr>\n",
       "    <tr>\n",
       "      <th>13241824</th>\n",
       "      <td>74</td>\n",
       "      <td>28.0</td>\n",
       "      <td>0.378378</td>\n",
       "    </tr>\n",
       "    <tr>\n",
       "      <th>1898161</th>\n",
       "      <td>2426</td>\n",
       "      <td>915.0</td>\n",
       "      <td>0.377164</td>\n",
       "    </tr>\n",
       "    <tr>\n",
       "      <th>4033249</th>\n",
       "      <td>172</td>\n",
       "      <td>62.0</td>\n",
       "      <td>0.360465</td>\n",
       "    </tr>\n",
       "    <tr>\n",
       "      <th>1931590</th>\n",
       "      <td>2503</td>\n",
       "      <td>791.0</td>\n",
       "      <td>0.316021</td>\n",
       "    </tr>\n",
       "    <tr>\n",
       "      <th>2449568</th>\n",
       "      <td>595</td>\n",
       "      <td>171.0</td>\n",
       "      <td>0.287395</td>\n",
       "    </tr>\n",
       "    <tr>\n",
       "      <th>876920</th>\n",
       "      <td>1895</td>\n",
       "      <td>535.0</td>\n",
       "      <td>0.282322</td>\n",
       "    </tr>\n",
       "    <tr>\n",
       "      <th>1794099</th>\n",
       "      <td>4120</td>\n",
       "      <td>1162.0</td>\n",
       "      <td>0.282039</td>\n",
       "    </tr>\n",
       "    <tr>\n",
       "      <th>1487073</th>\n",
       "      <td>354</td>\n",
       "      <td>97.0</td>\n",
       "      <td>0.274011</td>\n",
       "    </tr>\n",
       "    <tr>\n",
       "      <th>172399</th>\n",
       "      <td>663</td>\n",
       "      <td>179.0</td>\n",
       "      <td>0.269985</td>\n",
       "    </tr>\n",
       "    <tr>\n",
       "      <th>4674940</th>\n",
       "      <td>466</td>\n",
       "      <td>123.0</td>\n",
       "      <td>0.263948</td>\n",
       "    </tr>\n",
       "    <tr>\n",
       "      <th>1051190</th>\n",
       "      <td>152</td>\n",
       "      <td>40.0</td>\n",
       "      <td>0.263158</td>\n",
       "    </tr>\n",
       "    <tr>\n",
       "      <th>22350</th>\n",
       "      <td>6170</td>\n",
       "      <td>1586.0</td>\n",
       "      <td>0.257050</td>\n",
       "    </tr>\n",
       "    <tr>\n",
       "      <th>12818376</th>\n",
       "      <td>126</td>\n",
       "      <td>32.0</td>\n",
       "      <td>0.253968</td>\n",
       "    </tr>\n",
       "    <tr>\n",
       "      <th>6561887</th>\n",
       "      <td>67</td>\n",
       "      <td>17.0</td>\n",
       "      <td>0.253731</td>\n",
       "    </tr>\n",
       "    <tr>\n",
       "      <th>1704059</th>\n",
       "      <td>248</td>\n",
       "      <td>60.0</td>\n",
       "      <td>0.241935</td>\n",
       "    </tr>\n",
       "    <tr>\n",
       "      <th>10746682</th>\n",
       "      <td>2841</td>\n",
       "      <td>672.0</td>\n",
       "      <td>0.236536</td>\n",
       "    </tr>\n",
       "    <tr>\n",
       "      <th>6461412</th>\n",
       "      <td>4225</td>\n",
       "      <td>918.0</td>\n",
       "      <td>0.217278</td>\n",
       "    </tr>\n",
       "    <tr>\n",
       "      <th>9205389</th>\n",
       "      <td>1180</td>\n",
       "      <td>243.0</td>\n",
       "      <td>0.205932</td>\n",
       "    </tr>\n",
       "    <tr>\n",
       "      <th>18324331</th>\n",
       "      <td>76</td>\n",
       "      <td>15.0</td>\n",
       "      <td>0.197368</td>\n",
       "    </tr>\n",
       "    <tr>\n",
       "      <th>16890566</th>\n",
       "      <td>1025</td>\n",
       "      <td>198.0</td>\n",
       "      <td>0.193171</td>\n",
       "    </tr>\n",
       "    <tr>\n",
       "      <th>323878</th>\n",
       "      <td>2172</td>\n",
       "      <td>377.0</td>\n",
       "      <td>0.173573</td>\n",
       "    </tr>\n",
       "    <tr>\n",
       "      <th>12900364</th>\n",
       "      <td>27</td>\n",
       "      <td>4.0</td>\n",
       "      <td>0.148148</td>\n",
       "    </tr>\n",
       "    <tr>\n",
       "      <th>3672607</th>\n",
       "      <td>200</td>\n",
       "      <td>27.0</td>\n",
       "      <td>0.135000</td>\n",
       "    </tr>\n",
       "    <tr>\n",
       "      <th>8586769</th>\n",
       "      <td>30</td>\n",
       "      <td>4.0</td>\n",
       "      <td>0.133333</td>\n",
       "    </tr>\n",
       "    <tr>\n",
       "      <th>2193314</th>\n",
       "      <td>4330</td>\n",
       "      <td>560.0</td>\n",
       "      <td>0.129330</td>\n",
       "    </tr>\n",
       "    <tr>\n",
       "      <th>1948812</th>\n",
       "      <td>16</td>\n",
       "      <td>2.0</td>\n",
       "      <td>0.125000</td>\n",
       "    </tr>\n",
       "    <tr>\n",
       "      <th>12821956</th>\n",
       "      <td>4660</td>\n",
       "      <td>374.0</td>\n",
       "      <td>0.080258</td>\n",
       "    </tr>\n",
       "    <tr>\n",
       "      <th>35271042</th>\n",
       "      <td>65</td>\n",
       "      <td>5.0</td>\n",
       "      <td>0.076923</td>\n",
       "    </tr>\n",
       "    <tr>\n",
       "      <th>25272315</th>\n",
       "      <td>58</td>\n",
       "      <td>3.0</td>\n",
       "      <td>0.051724</td>\n",
       "    </tr>\n",
       "    <tr>\n",
       "      <th>19785531</th>\n",
       "      <td>106</td>\n",
       "      <td>3.0</td>\n",
       "      <td>0.028302</td>\n",
       "    </tr>\n",
       "    <tr>\n",
       "      <th>17735796</th>\n",
       "      <td>15</td>\n",
       "      <td>NaN</td>\n",
       "      <td>NaN</td>\n",
       "    </tr>\n",
       "    <tr>\n",
       "      <th>242340</th>\n",
       "      <td>4</td>\n",
       "      <td>NaN</td>\n",
       "      <td>NaN</td>\n",
       "    </tr>\n",
       "    <tr>\n",
       "      <th>18324209</th>\n",
       "      <td>2</td>\n",
       "      <td>NaN</td>\n",
       "      <td>NaN</td>\n",
       "    </tr>\n",
       "    <tr>\n",
       "      <th>6344099</th>\n",
       "      <td>1</td>\n",
       "      <td>NaN</td>\n",
       "      <td>NaN</td>\n",
       "    </tr>\n",
       "  </tbody>\n",
       "</table>\n",
       "</div>"
      ],
      "text/plain": [
       "          times_assigned  times_unassigned  reassignments_%\n",
       "7251102                1               1.0         1.000000\n",
       "856858                 7               7.0         1.000000\n",
       "10201666               1               1.0         1.000000\n",
       "212305                 1               1.0         1.000000\n",
       "6494226                2               2.0         1.000000\n",
       "7109548                7               6.0         0.857143\n",
       "17869538             113              91.0         0.805310\n",
       "762848               100              80.0         0.800000\n",
       "5591113                4               3.0         0.750000\n",
       "15158320              52              39.0         0.750000\n",
       "5607882               38              28.0         0.736842\n",
       "8125011                3               2.0         0.666667\n",
       "11839736             361             201.0         0.556787\n",
       "173559                51              28.0         0.549020\n",
       "223467                 2               1.0         0.500000\n",
       "79405                 26              13.0         0.500000\n",
       "2239563              166              80.0         0.481928\n",
       "2146228               50              24.0         0.480000\n",
       "6909617                7               3.0         0.428571\n",
       "900690              9113            3650.0         0.400527\n",
       "5047891             5355            2064.0         0.385434\n",
       "1926584             5072            1924.0         0.379338\n",
       "13241824              74              28.0         0.378378\n",
       "1898161             2426             915.0         0.377164\n",
       "4033249              172              62.0         0.360465\n",
       "1931590             2503             791.0         0.316021\n",
       "2449568              595             171.0         0.287395\n",
       "876920              1895             535.0         0.282322\n",
       "1794099             4120            1162.0         0.282039\n",
       "1487073              354              97.0         0.274011\n",
       "172399               663             179.0         0.269985\n",
       "4674940              466             123.0         0.263948\n",
       "1051190              152              40.0         0.263158\n",
       "22350               6170            1586.0         0.257050\n",
       "12818376             126              32.0         0.253968\n",
       "6561887               67              17.0         0.253731\n",
       "1704059              248              60.0         0.241935\n",
       "10746682            2841             672.0         0.236536\n",
       "6461412             4225             918.0         0.217278\n",
       "9205389             1180             243.0         0.205932\n",
       "18324331              76              15.0         0.197368\n",
       "16890566            1025             198.0         0.193171\n",
       "323878              2172             377.0         0.173573\n",
       "12900364              27               4.0         0.148148\n",
       "3672607              200              27.0         0.135000\n",
       "8586769               30               4.0         0.133333\n",
       "2193314             4330             560.0         0.129330\n",
       "1948812               16               2.0         0.125000\n",
       "12821956            4660             374.0         0.080258\n",
       "35271042              65               5.0         0.076923\n",
       "25272315              58               3.0         0.051724\n",
       "19785531             106               3.0         0.028302\n",
       "17735796              15               NaN              NaN\n",
       "242340                 4               NaN              NaN\n",
       "18324209               2               NaN              NaN\n",
       "6344099                1               NaN              NaN"
      ]
     },
     "execution_count": 50,
     "metadata": {},
     "output_type": "execute_result"
    }
   ],
   "source": [
    "df.sort_values(by=\"reassignments_%\", ascending=False)"
   ]
  },
  {
   "cell_type": "code",
   "execution_count": null,
   "metadata": {},
   "outputs": [],
   "source": []
  }
 ],
 "metadata": {
  "kernelspec": {
   "display_name": "Python 3",
   "language": "python",
   "name": "python3"
  },
  "language_info": {
   "codemirror_mode": {
    "name": "ipython",
    "version": 3
   },
   "file_extension": ".py",
   "mimetype": "text/x-python",
   "name": "python",
   "nbconvert_exporter": "python",
   "pygments_lexer": "ipython3",
   "version": "3.6.4"
  }
 },
 "nbformat": 4,
 "nbformat_minor": 2
}
