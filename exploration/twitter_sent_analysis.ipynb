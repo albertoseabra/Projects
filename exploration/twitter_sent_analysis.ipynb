{
 "cells": [
  {
   "cell_type": "markdown",
   "metadata": {},
   "source": [
    "# Sentiment analysis with Python\n",
    "In this class we will:\n",
    "\n",
    "- Extract twitter data using tweepy and learn how to handle it using pandas.\n",
    "- Do some basic statistics and visualizations with numpy, matplotlib and seaborn.\n",
    "- Do sentiment analysis of extracted (Trump's) tweets using textblob.\n",
    "\n",
    "The requirements are:\n",
    "\n",
    "- NumPy: This is the fundamental package for scientific computing with Python. Besides its obvious scientific uses, NumPy can also be used as an efficient multi-dimensional container of generic data.\n",
    "- Pandas: This is an open source library providing high-performance, easy-to-use data structures and data analysis tools.\n",
    "- Matplotlib: This is a Python 2D plotting library which produces publication quality figures in a variety of hardcopy formats and interactive environments across platforms.\n",
    "- Seaborn: This is a Python visualization library based on matplotlib. It provides a high-level interface for drawing attractive statistical graphics.\n",
    "- Tweepy: This is an easy-to-use Python library for accessing the Twitter API.\n",
    "- Textblob: This is a Python library for processing textual data. It provides a simple API for diving into common natural language processing (NLP) tasks.\n",
    "\n",
    "All of them can be installed through *pip*. \n",
    "\n",
    "## 1. Extracting twitter data (tweepy + pandas)\n",
    "### 1.1. Importing our libraries"
   ]
  },
  {
   "cell_type": "code",
   "execution_count": 1,
   "metadata": {
    "collapsed": true
   },
   "outputs": [],
   "source": [
    "# General:\n",
    "import tweepy           # To consume Twitter's API\n",
    "import pandas as pd     # To handle data\n",
    "import numpy as np      # For number computing\n",
    "\n",
    "# For plotting and visualization:\n",
    "from IPython.display import display\n",
    "import matplotlib.pyplot as plt\n",
    "import seaborn as sns\n",
    "%matplotlib inline"
   ]
  },
  {
   "cell_type": "markdown",
   "metadata": {},
   "source": [
    "### 1.2. Creating a Twitter App\n",
    "\n",
    "In order to extract tweets for a posterior analysis, we need to access to our Twitter account and create an app. The website to do this is https://apps.twitter.com/. \n",
    "\n",
    "From this app that we're creating we will save the following information in a new cell that contains:\n",
    "\n",
    "- Consumer Key (API Key)\n",
    "- Consumer Secret (API Secret)\n",
    "- Access Token\n",
    "- Access Token Secret"
   ]
  },
  {
   "cell_type": "code",
   "execution_count": 2,
   "metadata": {
    "collapsed": true
   },
   "outputs": [],
   "source": [
    "# Twitter App access keys for @user\n",
    "\n",
    "# Consume:\n",
    "CONSUMER_KEY    = 'DnykLW2uASTVzIAovyULWgw0m'\n",
    "CONSUMER_SECRET = 'MpeIc7N1DxsZWauIM9vyN6c9MNQAHPjAfd02LEkpqTqiMcTiLK'\n",
    "\n",
    "# Access:\n",
    "ACCESS_TOKEN  = '940143631146606592-3laO4CKB35TTx0rRoK40Jta9jJKV3PN'\n",
    "ACCESS_SECRET = 'gLaLKuu2AhcgblgFR8EuWDsLzu6Ci5YuWihFHLitfOMhS'"
   ]
  },
  {
   "cell_type": "markdown",
   "metadata": {},
   "source": [
    "We will now setup the Twitter API"
   ]
  },
  {
   "cell_type": "code",
   "execution_count": 3,
   "metadata": {
    "collapsed": true
   },
   "outputs": [],
   "source": [
    "# API's setup:\n",
    "def twitter_setup():\n",
    "    \"\"\"\n",
    "    Utility function to setup the Twitter's API\n",
    "    with our access keys provided.\n",
    "    \"\"\"\n",
    "    # Authentication and access using keys:\n",
    "    auth = tweepy.OAuthHandler(CONSUMER_KEY, CONSUMER_SECRET)\n",
    "    auth.set_access_token(ACCESS_TOKEN, ACCESS_SECRET)\n",
    "\n",
    "    # Return API with authentication:\n",
    "    api = tweepy.API(auth)\n",
    "    return api"
   ]
  },
  {
   "cell_type": "markdown",
   "metadata": {},
   "source": [
    "So far, so easy right? We're now ready to extract tweets in the next section.\n",
    "\n",
    "### 1.3. Tweets extraction\n",
    "\n",
    "Now that we've created a function to setup the Twitter API, we can use this function to create an \"**extractor**\" object. After this, we will useTweepy's function `extractor.user_timeline(screen_name, count)` to extract from `screen_name`'s user the quantity of `count` tweets.\n",
    "\n",
    "I've chosen <a href=\"https://twitter.com/realDonaldTrump\">@realDonaldTrump</a> as the user to extract data for a posterior analysis. Yeah, we wanna keep it interesting :)\n",
    "\n",
    "The way to extract Twitter's data is as follows:"
   ]
  },
  {
   "cell_type": "code",
   "execution_count": 4,
   "metadata": {},
   "outputs": [
    {
     "name": "stdout",
     "output_type": "stream",
     "text": [
      "Number of tweets extracted: 200.\n",
      "\n",
      "5 recent tweets:\n",
      "\n",
      "Wow, more than 90% of Fake News Media coverage of me is negative, with numerous forced retractions of untrue storie… https://t.co/nyZJca6Hnm\n",
      "\n",
      "The reason I originally endorsed Luther Strange (and his numbers went up mightily), is that I said Roy Moore will n… https://t.co/DcgJPmLTXy\n",
      "\n",
      "Congratulations to Doug Jones on a hard fought victory. The write-in votes played a very big factor, but a win is a… https://t.co/QLFQ88UaLM\n",
      "\n",
      "Wishing all of those celebrating #Hanukkah around the world a happy and healthy eight nights in the company of thos… https://t.co/ZTNEFIV6cB\n",
      "\n",
      "Consumer Confidence is at an All-Time High, along with a Record High Stock Market. Unemployment is at a 17 year low… https://t.co/zeDQbntlYG\n",
      "\n"
     ]
    }
   ],
   "source": [
    "# We create an extractor object:\n",
    "extractor = twitter_setup()\n",
    "\n",
    "# We create a tweet list as follows:\n",
    "tweets = extractor.user_timeline(screen_name=\"realDonaldTrump\", count=200)\n",
    "print(\"Number of tweets extracted: {}.\\n\".format(len(tweets)))\n",
    "\n",
    "# We print the most recent 5 tweets:\n",
    "print(\"5 recent tweets:\\n\")\n",
    "for tweet in tweets[:5]:\n",
    "    print(tweet.text)\n",
    "    print()"
   ]
  },
  {
   "cell_type": "markdown",
   "metadata": {},
   "source": [
    "### 1.4. Creating a Pandas DataFrame\n",
    "We now have initial information to construct a Pandas `DataFrame`, in order to manipulate the info in a very easy way.\n",
    "\n",
    "IPython's `display` function plots an output in a friendly way, and the `head` method of a dataframe allows us to visualize the first 5 elements of the dataframe (or the first number of elements that are passed as an argument).\n",
    "\n",
    "So, using Python's list comprehension:"
   ]
  },
  {
   "cell_type": "code",
   "execution_count": 5,
   "metadata": {},
   "outputs": [
    {
     "data": {
      "text/html": [
       "<div>\n",
       "<style>\n",
       "    .dataframe thead tr:only-child th {\n",
       "        text-align: right;\n",
       "    }\n",
       "\n",
       "    .dataframe thead th {\n",
       "        text-align: left;\n",
       "    }\n",
       "\n",
       "    .dataframe tbody tr th {\n",
       "        vertical-align: top;\n",
       "    }\n",
       "</style>\n",
       "<table border=\"1\" class=\"dataframe\">\n",
       "  <thead>\n",
       "    <tr style=\"text-align: right;\">\n",
       "      <th></th>\n",
       "      <th>Tweets</th>\n",
       "    </tr>\n",
       "  </thead>\n",
       "  <tbody>\n",
       "    <tr>\n",
       "      <th>0</th>\n",
       "      <td>Wow, more than 90% of Fake News Media coverage...</td>\n",
       "    </tr>\n",
       "    <tr>\n",
       "      <th>1</th>\n",
       "      <td>The reason I originally endorsed Luther Strang...</td>\n",
       "    </tr>\n",
       "    <tr>\n",
       "      <th>2</th>\n",
       "      <td>Congratulations to Doug Jones on a hard fought...</td>\n",
       "    </tr>\n",
       "    <tr>\n",
       "      <th>3</th>\n",
       "      <td>Wishing all of those celebrating #Hanukkah aro...</td>\n",
       "    </tr>\n",
       "    <tr>\n",
       "      <th>4</th>\n",
       "      <td>Consumer Confidence is at an All-Time High, al...</td>\n",
       "    </tr>\n",
       "    <tr>\n",
       "      <th>5</th>\n",
       "      <td>The people of Alabama will do the right thing....</td>\n",
       "    </tr>\n",
       "    <tr>\n",
       "      <th>6</th>\n",
       "      <td>Lightweight Senator Kirsten Gillibrand, a tota...</td>\n",
       "    </tr>\n",
       "    <tr>\n",
       "      <th>7</th>\n",
       "      <td>Despite thousands of hours wasted and many mil...</td>\n",
       "    </tr>\n",
       "    <tr>\n",
       "      <th>8</th>\n",
       "      <td>Another false story, this time in the Failing ...</td>\n",
       "    </tr>\n",
       "    <tr>\n",
       "      <th>9</th>\n",
       "      <td>Very little discussion of all the purposely fa...</td>\n",
       "    </tr>\n",
       "  </tbody>\n",
       "</table>\n",
       "</div>"
      ],
      "text/plain": [
       "                                              Tweets\n",
       "0  Wow, more than 90% of Fake News Media coverage...\n",
       "1  The reason I originally endorsed Luther Strang...\n",
       "2  Congratulations to Doug Jones on a hard fought...\n",
       "3  Wishing all of those celebrating #Hanukkah aro...\n",
       "4  Consumer Confidence is at an All-Time High, al...\n",
       "5  The people of Alabama will do the right thing....\n",
       "6  Lightweight Senator Kirsten Gillibrand, a tota...\n",
       "7  Despite thousands of hours wasted and many mil...\n",
       "8  Another false story, this time in the Failing ...\n",
       "9  Very little discussion of all the purposely fa..."
      ]
     },
     "metadata": {},
     "output_type": "display_data"
    }
   ],
   "source": [
    "# We create a pandas dataframe as follows:\n",
    "data = pd.DataFrame(data=[tweet.text for tweet in tweets], columns=['Tweets'])\n",
    "\n",
    "# We display the first 10 elements of the dataframe:\n",
    "display(data.head(10))"
   ]
  },
  {
   "cell_type": "markdown",
   "metadata": {},
   "source": [
    "So we now have a nice table with ordered data.\n",
    "\n",
    "An interesting thing is the number if internal methods that the `tweet` structure has in Tweepy:"
   ]
  },
  {
   "cell_type": "code",
   "execution_count": 6,
   "metadata": {},
   "outputs": [
    {
     "name": "stdout",
     "output_type": "stream",
     "text": [
      "['__class__', '__delattr__', '__dict__', '__dir__', '__doc__', '__eq__', '__format__', '__ge__', '__getattribute__', '__getstate__', '__gt__', '__hash__', '__init__', '__init_subclass__', '__le__', '__lt__', '__module__', '__ne__', '__new__', '__reduce__', '__reduce_ex__', '__repr__', '__setattr__', '__sizeof__', '__str__', '__subclasshook__', '__weakref__', '_api', '_json', 'author', 'contributors', 'coordinates', 'created_at', 'destroy', 'entities', 'favorite', 'favorite_count', 'favorited', 'geo', 'id', 'id_str', 'in_reply_to_screen_name', 'in_reply_to_status_id', 'in_reply_to_status_id_str', 'in_reply_to_user_id', 'in_reply_to_user_id_str', 'is_quote_status', 'lang', 'parse', 'parse_list', 'place', 'retweet', 'retweet_count', 'retweeted', 'retweets', 'source', 'source_url', 'text', 'truncated', 'user']\n"
     ]
    }
   ],
   "source": [
    "# Internal methods of a single tweet object:\n",
    "print(dir(tweets[0]))"
   ]
  },
  {
   "cell_type": "markdown",
   "metadata": {},
   "source": [
    "The interesting part from here is the quantity of metadata contained in a single tweet. If we want to obtain data such as the creation date, or the source of creation, we can access the info with this attributes. An example is the following:"
   ]
  },
  {
   "cell_type": "code",
   "execution_count": 7,
   "metadata": {},
   "outputs": [
    {
     "name": "stdout",
     "output_type": "stream",
     "text": [
      "940930017365778432\n",
      "2017-12-13 13:02:52\n",
      "Twitter for iPhone\n",
      "29629\n",
      "7572\n",
      "None\n",
      "None\n",
      "{'hashtags': [], 'symbols': [], 'user_mentions': [], 'urls': [{'url': 'https://t.co/nyZJca6Hnm', 'expanded_url': 'https://twitter.com/i/web/status/940930017365778432', 'display_url': 'twitter.com/i/web/status/9…', 'indices': [117, 140]}]}\n"
     ]
    }
   ],
   "source": [
    "# We print info from the first tweet:\n",
    "print(tweets[0].id)\n",
    "print(tweets[0].created_at)\n",
    "print(tweets[0].source)\n",
    "print(tweets[0].favorite_count)\n",
    "print(tweets[0].retweet_count)\n",
    "print(tweets[0].geo)\n",
    "print(tweets[0].coordinates)\n",
    "print(tweets[0].entities)"
   ]
  },
  {
   "cell_type": "markdown",
   "metadata": {},
   "source": [
    "We're now able to order the relevant data and add it to our dataframe.\n",
    "\n",
    "### 1.5. Adding relevant info to our dataframe\n",
    "\n",
    "As we can see, we can obtain a lot of data from a single tweet. But not all this data is always useful for specific stuff. In our case we well just add some data to our dataframe. For this we will use Pythons list comprehension and a new column will be added to the dataframe by just simply adding the name of the content between square brackets and assign the content. The code goes as follows:"
   ]
  },
  {
   "cell_type": "code",
   "execution_count": 8,
   "metadata": {
    "collapsed": true
   },
   "outputs": [],
   "source": [
    "# We add relevant data:\n",
    "data['len'] = np.array([len(tweet.text) for tweet in tweets])\n",
    "data['ID'] = np.array([tweet.id for tweet in tweets])\n",
    "data['Date'] = np.array([tweet.created_at for tweet in tweets])\n",
    "data['Source'] = np.array([tweet.source for tweet in tweets])\n",
    "data['Likes'] = np.array([tweet.favorite_count for tweet in tweets])\n",
    "data['RTs'] = np.array([tweet.retweet_count for tweet in tweets])"
   ]
  },
  {
   "cell_type": "markdown",
   "metadata": {},
   "source": [
    "And to display again the dataframe to see the changes, we just need to run the following code:"
   ]
  },
  {
   "cell_type": "code",
   "execution_count": 9,
   "metadata": {},
   "outputs": [
    {
     "data": {
      "text/html": [
       "<div>\n",
       "<style>\n",
       "    .dataframe thead tr:only-child th {\n",
       "        text-align: right;\n",
       "    }\n",
       "\n",
       "    .dataframe thead th {\n",
       "        text-align: left;\n",
       "    }\n",
       "\n",
       "    .dataframe tbody tr th {\n",
       "        vertical-align: top;\n",
       "    }\n",
       "</style>\n",
       "<table border=\"1\" class=\"dataframe\">\n",
       "  <thead>\n",
       "    <tr style=\"text-align: right;\">\n",
       "      <th></th>\n",
       "      <th>Tweets</th>\n",
       "      <th>len</th>\n",
       "      <th>ID</th>\n",
       "      <th>Date</th>\n",
       "      <th>Source</th>\n",
       "      <th>Likes</th>\n",
       "      <th>RTs</th>\n",
       "    </tr>\n",
       "  </thead>\n",
       "  <tbody>\n",
       "    <tr>\n",
       "      <th>0</th>\n",
       "      <td>Wow, more than 90% of Fake News Media coverage...</td>\n",
       "      <td>140</td>\n",
       "      <td>940930017365778432</td>\n",
       "      <td>2017-12-13 13:02:52</td>\n",
       "      <td>Twitter for iPhone</td>\n",
       "      <td>29629</td>\n",
       "      <td>7572</td>\n",
       "    </tr>\n",
       "    <tr>\n",
       "      <th>1</th>\n",
       "      <td>The reason I originally endorsed Luther Strang...</td>\n",
       "      <td>140</td>\n",
       "      <td>940904649728708609</td>\n",
       "      <td>2017-12-13 11:22:04</td>\n",
       "      <td>Twitter for iPhone</td>\n",
       "      <td>30444</td>\n",
       "      <td>6869</td>\n",
       "    </tr>\n",
       "    <tr>\n",
       "      <th>2</th>\n",
       "      <td>Congratulations to Doug Jones on a hard fought...</td>\n",
       "      <td>140</td>\n",
       "      <td>940795587733151744</td>\n",
       "      <td>2017-12-13 04:08:41</td>\n",
       "      <td>Twitter for iPhone</td>\n",
       "      <td>88671</td>\n",
       "      <td>19837</td>\n",
       "    </tr>\n",
       "    <tr>\n",
       "      <th>3</th>\n",
       "      <td>Wishing all of those celebrating #Hanukkah aro...</td>\n",
       "      <td>140</td>\n",
       "      <td>940706127309926400</td>\n",
       "      <td>2017-12-12 22:13:12</td>\n",
       "      <td>Twitter for iPhone</td>\n",
       "      <td>57757</td>\n",
       "      <td>13569</td>\n",
       "    </tr>\n",
       "    <tr>\n",
       "      <th>4</th>\n",
       "      <td>Consumer Confidence is at an All-Time High, al...</td>\n",
       "      <td>140</td>\n",
       "      <td>940588025964265472</td>\n",
       "      <td>2017-12-12 14:23:55</td>\n",
       "      <td>Twitter for iPhone</td>\n",
       "      <td>82419</td>\n",
       "      <td>18552</td>\n",
       "    </tr>\n",
       "    <tr>\n",
       "      <th>5</th>\n",
       "      <td>The people of Alabama will do the right thing....</td>\n",
       "      <td>140</td>\n",
       "      <td>940584383605563392</td>\n",
       "      <td>2017-12-12 14:09:26</td>\n",
       "      <td>Twitter for iPhone</td>\n",
       "      <td>76282</td>\n",
       "      <td>21083</td>\n",
       "    </tr>\n",
       "    <tr>\n",
       "      <th>6</th>\n",
       "      <td>Lightweight Senator Kirsten Gillibrand, a tota...</td>\n",
       "      <td>140</td>\n",
       "      <td>940567812053053441</td>\n",
       "      <td>2017-12-12 13:03:35</td>\n",
       "      <td>Twitter for iPhone</td>\n",
       "      <td>81292</td>\n",
       "      <td>22168</td>\n",
       "    </tr>\n",
       "    <tr>\n",
       "      <th>7</th>\n",
       "      <td>Despite thousands of hours wasted and many mil...</td>\n",
       "      <td>140</td>\n",
       "      <td>940554567414091776</td>\n",
       "      <td>2017-12-12 12:10:58</td>\n",
       "      <td>Twitter for iPhone</td>\n",
       "      <td>132382</td>\n",
       "      <td>35200</td>\n",
       "    </tr>\n",
       "    <tr>\n",
       "      <th>8</th>\n",
       "      <td>Another false story, this time in the Failing ...</td>\n",
       "      <td>139</td>\n",
       "      <td>940223974985871360</td>\n",
       "      <td>2017-12-11 14:17:18</td>\n",
       "      <td>Twitter for iPhone</td>\n",
       "      <td>133943</td>\n",
       "      <td>33288</td>\n",
       "    </tr>\n",
       "    <tr>\n",
       "      <th>9</th>\n",
       "      <td>Very little discussion of all the purposely fa...</td>\n",
       "      <td>139</td>\n",
       "      <td>939967625362276354</td>\n",
       "      <td>2017-12-10 21:18:40</td>\n",
       "      <td>Twitter for iPhone</td>\n",
       "      <td>116902</td>\n",
       "      <td>30292</td>\n",
       "    </tr>\n",
       "  </tbody>\n",
       "</table>\n",
       "</div>"
      ],
      "text/plain": [
       "                                              Tweets  len                  ID  \\\n",
       "0  Wow, more than 90% of Fake News Media coverage...  140  940930017365778432   \n",
       "1  The reason I originally endorsed Luther Strang...  140  940904649728708609   \n",
       "2  Congratulations to Doug Jones on a hard fought...  140  940795587733151744   \n",
       "3  Wishing all of those celebrating #Hanukkah aro...  140  940706127309926400   \n",
       "4  Consumer Confidence is at an All-Time High, al...  140  940588025964265472   \n",
       "5  The people of Alabama will do the right thing....  140  940584383605563392   \n",
       "6  Lightweight Senator Kirsten Gillibrand, a tota...  140  940567812053053441   \n",
       "7  Despite thousands of hours wasted and many mil...  140  940554567414091776   \n",
       "8  Another false story, this time in the Failing ...  139  940223974985871360   \n",
       "9  Very little discussion of all the purposely fa...  139  939967625362276354   \n",
       "\n",
       "                 Date              Source   Likes    RTs  \n",
       "0 2017-12-13 13:02:52  Twitter for iPhone   29629   7572  \n",
       "1 2017-12-13 11:22:04  Twitter for iPhone   30444   6869  \n",
       "2 2017-12-13 04:08:41  Twitter for iPhone   88671  19837  \n",
       "3 2017-12-12 22:13:12  Twitter for iPhone   57757  13569  \n",
       "4 2017-12-12 14:23:55  Twitter for iPhone   82419  18552  \n",
       "5 2017-12-12 14:09:26  Twitter for iPhone   76282  21083  \n",
       "6 2017-12-12 13:03:35  Twitter for iPhone   81292  22168  \n",
       "7 2017-12-12 12:10:58  Twitter for iPhone  132382  35200  \n",
       "8 2017-12-11 14:17:18  Twitter for iPhone  133943  33288  \n",
       "9 2017-12-10 21:18:40  Twitter for iPhone  116902  30292  "
      ]
     },
     "metadata": {},
     "output_type": "display_data"
    }
   ],
   "source": [
    "# Display of first 10 elements from dataframe:\n",
    "display(data.head(10))"
   ]
  },
  {
   "cell_type": "markdown",
   "metadata": {},
   "source": [
    "Now that we have extracted and have the data in a easy-to-handle ordered way, we're ready to do a bit more of manipulation to visualize some plots and gather some statistical data. The first part of the post is done.\n",
    "\n",
    "## 2. Visualization and basic statistics\n",
    "### 2.1. Averages and popularity\n",
    "\n",
    "We first want to calculate some basic statistical data, such as the mean of the length of characters of all tweets, the tweet with more likes and retweets, etc.\n",
    "\n",
    "From now, I'll just add some input code and the output right below the code.\n",
    "\n",
    "To obtain the mean, using numpy:"
   ]
  },
  {
   "cell_type": "code",
   "execution_count": 10,
   "metadata": {},
   "outputs": [
    {
     "name": "stdout",
     "output_type": "stream",
     "text": [
      "The lenght's average in tweets: 125.415\n"
     ]
    }
   ],
   "source": [
    "# We extract the mean of lenghts:\n",
    "mean = np.mean(data['len'])\n",
    "\n",
    "print(\"The lenght's average in tweets: {}\".format(mean))"
   ]
  },
  {
   "cell_type": "markdown",
   "metadata": {},
   "source": [
    "To extract more data, we will use some Pandas' functionalities:"
   ]
  },
  {
   "cell_type": "code",
   "execution_count": 11,
   "metadata": {},
   "outputs": [
    {
     "name": "stdout",
     "output_type": "stream",
     "text": [
      "The tweet with more likes is: \n",
      "Now that the three basketball players are out of China and saved from years in jail, LaVar Ball, the father of LiAn… https://t.co/371qJ1biwh\n",
      "Number of likes: 275124\n",
      "140 characters.\n",
      "\n",
      "The tweet with more retweets is: \n",
      "Now that the three basketball players are out of China and saved from years in jail, LaVar Ball, the father of LiAn… https://t.co/371qJ1biwh\n",
      "Number of retweets: 76845\n",
      "140 characters.\n",
      "\n"
     ]
    }
   ],
   "source": [
    "# We extract the tweet with more FAVs and more RTs:\n",
    "\n",
    "fav_max = np.max(data['Likes'])\n",
    "rt_max  = np.max(data['RTs'])\n",
    "\n",
    "fav = data[data.Likes == fav_max].index[0]\n",
    "rt  = data[data.RTs == rt_max].index[0]\n",
    "\n",
    "# Max FAVs:\n",
    "print(\"The tweet with more likes is: \\n{}\".format(data['Tweets'][fav]))\n",
    "print(\"Number of likes: {}\".format(fav_max))\n",
    "print(\"{} characters.\\n\".format(data['len'][fav]))\n",
    "\n",
    "# Max RTs:\n",
    "print(\"The tweet with more retweets is: \\n{}\".format(data['Tweets'][rt]))\n",
    "print(\"Number of retweets: {}\".format(rt_max))\n",
    "print(\"{} characters.\\n\".format(data['len'][rt]))"
   ]
  },
  {
   "cell_type": "markdown",
   "metadata": {},
   "source": [
    "This is common, but it won't necessarily happen: the tweet with more likes is the tweet with more retweets. What we're doing is that we find the maximum number of likes from the '*Likes*' column and the maximum number of retweets from the '*RTs*' using numpy's `max` function. With this we just look for the index in each of both columns that satisfy to be the maximum. Since more than one could have the same number of likes/retweets (the maximum) we just need to take the first one found, and that's why we use `.index[0]` to assign the index to the variables `fav` and `rt`. To print the tweet that satisfies, we access the data in the same way we would access a matrix or any indexed object.\n",
    "\n",
    "We're now ready to plot some stuff :)\n",
    "\n",
    "### 2.2. Time series\n",
    "\n",
    "Pandas has its own object for time series. Since we have a whole vector with creation dates, we can construct time series respect tweets lengths, likes and retweets.\n",
    "\n",
    "The way we do it is:"
   ]
  },
  {
   "cell_type": "code",
   "execution_count": 12,
   "metadata": {
    "collapsed": true
   },
   "outputs": [],
   "source": [
    "# We create time series for data:\n",
    "\n",
    "tlen = pd.Series(data=data['len'].values, index=data['Date'])\n",
    "tfav = pd.Series(data=data['Likes'].values, index=data['Date'])\n",
    "tret = pd.Series(data=data['RTs'].values, index=data['Date'])"
   ]
  },
  {
   "cell_type": "markdown",
   "metadata": {},
   "source": [
    "And if we want to plot the time series, Pandas already has its own method in the object. We can plot a time series as follows:"
   ]
  },
  {
   "cell_type": "code",
   "execution_count": 13,
   "metadata": {},
   "outputs": [
    {
     "data": {
      "image/png": "[encoded data removed]",
      "text/plain": [
       "<matplotlib.figure.Figure at 0x14a8f8189b0>"
      ]
     },
     "metadata": {},
     "output_type": "display_data"
    }
   ],
   "source": [
    "# Lenghts along time:\n",
    "tlen.plot(figsize=(16,4), color='r');"
   ]
  },
  {
   "cell_type": "markdown",
   "metadata": {},
   "source": [
    "And to plot the likes versus the retweets in the same chart:"
   ]
  },
  {
   "cell_type": "code",
   "execution_count": 14,
   "metadata": {},
   "outputs": [
    {
     "data": {
      "image/png": "[encoded data removed]",
      "text/plain": [
       "<matplotlib.figure.Figure at 0x14a8fa48550>"
      ]
     },
     "metadata": {},
     "output_type": "display_data"
    }
   ],
   "source": [
    "# Likes vs retweets visualization:\n",
    "tfav.plot(figsize=(16,4), label=\"Likes\", legend=True)\n",
    "tret.plot(figsize=(16,4), label=\"Retweets\", legend=True);"
   ]
  },
  {
   "cell_type": "markdown",
   "metadata": {},
   "source": [
    "### 2.3. Pie charts of sources\n",
    "\n",
    "We're almost done with this second section of the post. Now we will plot the sources in a pie chart, since we realized that not every tweet is tweeted from the same source (😱🤔). We first clean all the sources:"
   ]
  },
  {
   "cell_type": "code",
   "execution_count": 15,
   "metadata": {},
   "outputs": [
    {
     "name": "stdout",
     "output_type": "stream",
     "text": [
      "Creation of content sources:\n",
      "* Twitter for iPhone\n",
      "* Media Studio\n",
      "* Twitter for iPad\n",
      "* Twitter Web Client\n"
     ]
    }
   ],
   "source": [
    "# We obtain all possible sources:\n",
    "sources = []\n",
    "for source in data['Source']:\n",
    "    if source not in sources:\n",
    "        sources.append(source)\n",
    "\n",
    "# We print sources list:\n",
    "print(\"Creation of content sources:\")\n",
    "for source in sources:\n",
    "    print(\"* {}\".format(source))"
   ]
  },
  {
   "cell_type": "markdown",
   "metadata": {},
   "source": [
    "We now count the number of each source and create a pie chart."
   ]
  },
  {
   "cell_type": "code",
   "execution_count": 16,
   "metadata": {},
   "outputs": [
    {
     "data": {
      "image/png": "[encoded data removed]",
      "text/plain": [
       "<matplotlib.figure.Figure at 0x14a8fa66f98>"
      ]
     },
     "metadata": {},
     "output_type": "display_data"
    }
   ],
   "source": [
    "# We create a numpy vector mapped to labels:\n",
    "percent = np.zeros(len(sources))\n",
    "\n",
    "for source in data['Source']:\n",
    "    for index in range(len(sources)):\n",
    "        if source == sources[index]:\n",
    "            percent[index] += 1\n",
    "            pass\n",
    "\n",
    "percent /= 100\n",
    "\n",
    "# Pie chart:\n",
    "pie_chart = pd.Series(percent, index=sources, name='Sources')\n",
    "pie_chart.plot.pie(fontsize=11, autopct='%.2f', figsize=(6, 6));"
   ]
  },
  {
   "cell_type": "markdown",
   "metadata": {},
   "source": [
    "The plot shows us the percentage of tweets per source.\n",
    "\n",
    "We can now proceed to do sentiment analysis.\n",
    "\n",
    "## 3. Sentiment analysis\n",
    "### 3.1. Importing textblob\n",
    "\n",
    "As we mentioned at the beginning of this post, textblob will allow us to do sentiment analysis in a very simple way. We will also use the `re` library from Python, which is used to work with *regular expressions*. For this, I'll provide you two utility functions to: a) clean text (which means that any symbol distinct to an alphanumeric value will be remapped into a new one that satisfies this condition), and b) create a classifier to analyze the polarity of each tweet after cleaning the text in it. I won't explain the specific way in which the function that cleans works, since it would be extended and it might be better understood in the <a href=\"https://docs.python.org/3/library/re.html\">official re documentation</a>.\n",
    "\n",
    "TextBlob has two sentiment analyzers. First is `PatternAnalyzer` and second is `NaiveBayesAnalyzer`. The default implementation is `PatternAnalyzer`, but you can override the analyzer by passing another implementation into a TextBlob’s constructor. The output returned by the two analyzers is different: the first returns two attributes, `polarity` (in the range [-1.0, 1.0]) and `subjectivity` (in the range [0.0, 1.0], where 0.0 is very objective and 1.0 is very subjective). The NaiveBayesAnalyzer returns its result as a namedtuple of the form: Sentiment(classification, p_pos, p_neg). Note: to run the `NaiveBayesAnalyzer`, you might have to download some additional corpora to train the classifier, with the following command `python -m textblob.download_corpora`.\n",
    "\n",
    "The code using is the following:"
   ]
  },
  {
   "cell_type": "code",
   "execution_count": 17,
   "metadata": {
    "collapsed": true
   },
   "outputs": [],
   "source": [
    "from textblob import TextBlob\n",
    "from textblob.sentiments import NaiveBayesAnalyzer #Only necessary if you want to override the analyzer\n",
    "\n",
    "import re\n",
    "\n",
    "def clean_tweet(tweet):\n",
    "    '''\n",
    "    Utility function to clean the text in a tweet by removing \n",
    "    links and special characters using regex.\n",
    "    '''\n",
    "    return ' '.join(re.sub(\"(@[A-Za-z0-9]+)|([^0-9A-Za-z \\t])|(\\w+:\\/\\/\\S+)\", \" \", tweet).split())\n",
    "\n",
    "def analyze_sentiment(tweet):\n",
    "    '''\n",
    "    Utility function to classify the polarity of a tweet\n",
    "    using textblob.\n",
    "    '''\n",
    "    analysis = TextBlob(clean_tweet(tweet))\n",
    "    if analysis.sentiment.polarity > 0:\n",
    "        return 1\n",
    "    elif analysis.sentiment.polarity == 0:\n",
    "        return 0\n",
    "    else:\n",
    "        return -1\n",
    "    \n",
    "def analyze_sentiment_NB(tweet):\n",
    "    '''\n",
    "    Utility function to classify the polarity of a tweet\n",
    "    using textblob.\n",
    "    '''\n",
    "    analysis = TextBlob(clean_tweet(tweet), analyzer=NaiveBayesAnalyzer())\n",
    "    if analysis.sentiment.classification == 'pos':\n",
    "        return 1\n",
    "    elif analysis.sentiment.classification == 'neg':\n",
    "        return -1\n",
    "    else:\n",
    "        return 0"
   ]
  },
  {
   "cell_type": "markdown",
   "metadata": {},
   "source": [
    "The way it works is that textblob already provides a trained analyzer (cool, right?). Textblob can work with different *machine learning* models used in *natural language processing*. If you want to train your own classifier (or at least check how it works) feel free to check the following <a href=\"https://textblob.readthedocs.io/en/dev/classifiers.html\">link</a>. It might result relevant since we're working with a pre-trained model (for which we don't know the data that was used).\n",
    "\n",
    "Anyway, getting back to the code we will just add an extra column to our data. This column will contain the sentiment analysis and we can plot the dataframe to see the update:"
   ]
  },
  {
   "cell_type": "code",
   "execution_count": 18,
   "metadata": {},
   "outputs": [
    {
     "data": {
      "text/html": [
       "<div>\n",
       "<style>\n",
       "    .dataframe thead tr:only-child th {\n",
       "        text-align: right;\n",
       "    }\n",
       "\n",
       "    .dataframe thead th {\n",
       "        text-align: left;\n",
       "    }\n",
       "\n",
       "    .dataframe tbody tr th {\n",
       "        vertical-align: top;\n",
       "    }\n",
       "</style>\n",
       "<table border=\"1\" class=\"dataframe\">\n",
       "  <thead>\n",
       "    <tr style=\"text-align: right;\">\n",
       "      <th></th>\n",
       "      <th>Tweets</th>\n",
       "      <th>len</th>\n",
       "      <th>ID</th>\n",
       "      <th>Date</th>\n",
       "      <th>Source</th>\n",
       "      <th>Likes</th>\n",
       "      <th>RTs</th>\n",
       "      <th>SA</th>\n",
       "    </tr>\n",
       "  </thead>\n",
       "  <tbody>\n",
       "    <tr>\n",
       "      <th>0</th>\n",
       "      <td>Wow, more than 90% of Fake News Media coverage...</td>\n",
       "      <td>140</td>\n",
       "      <td>940930017365778432</td>\n",
       "      <td>2017-12-13 13:02:52</td>\n",
       "      <td>Twitter for iPhone</td>\n",
       "      <td>29629</td>\n",
       "      <td>7572</td>\n",
       "      <td>-1</td>\n",
       "    </tr>\n",
       "    <tr>\n",
       "      <th>1</th>\n",
       "      <td>The reason I originally endorsed Luther Strang...</td>\n",
       "      <td>140</td>\n",
       "      <td>940904649728708609</td>\n",
       "      <td>2017-12-13 11:22:04</td>\n",
       "      <td>Twitter for iPhone</td>\n",
       "      <td>30444</td>\n",
       "      <td>6869</td>\n",
       "      <td>1</td>\n",
       "    </tr>\n",
       "    <tr>\n",
       "      <th>2</th>\n",
       "      <td>Congratulations to Doug Jones on a hard fought...</td>\n",
       "      <td>140</td>\n",
       "      <td>940795587733151744</td>\n",
       "      <td>2017-12-13 04:08:41</td>\n",
       "      <td>Twitter for iPhone</td>\n",
       "      <td>88671</td>\n",
       "      <td>19837</td>\n",
       "      <td>1</td>\n",
       "    </tr>\n",
       "    <tr>\n",
       "      <th>3</th>\n",
       "      <td>Wishing all of those celebrating #Hanukkah aro...</td>\n",
       "      <td>140</td>\n",
       "      <td>940706127309926400</td>\n",
       "      <td>2017-12-12 22:13:12</td>\n",
       "      <td>Twitter for iPhone</td>\n",
       "      <td>57757</td>\n",
       "      <td>13569</td>\n",
       "      <td>1</td>\n",
       "    </tr>\n",
       "    <tr>\n",
       "      <th>4</th>\n",
       "      <td>Consumer Confidence is at an All-Time High, al...</td>\n",
       "      <td>140</td>\n",
       "      <td>940588025964265472</td>\n",
       "      <td>2017-12-12 14:23:55</td>\n",
       "      <td>Twitter for iPhone</td>\n",
       "      <td>82419</td>\n",
       "      <td>18552</td>\n",
       "      <td>1</td>\n",
       "    </tr>\n",
       "    <tr>\n",
       "      <th>5</th>\n",
       "      <td>The people of Alabama will do the right thing....</td>\n",
       "      <td>140</td>\n",
       "      <td>940584383605563392</td>\n",
       "      <td>2017-12-12 14:09:26</td>\n",
       "      <td>Twitter for iPhone</td>\n",
       "      <td>76282</td>\n",
       "      <td>21083</td>\n",
       "      <td>-1</td>\n",
       "    </tr>\n",
       "    <tr>\n",
       "      <th>6</th>\n",
       "      <td>Lightweight Senator Kirsten Gillibrand, a tota...</td>\n",
       "      <td>140</td>\n",
       "      <td>940567812053053441</td>\n",
       "      <td>2017-12-12 13:03:35</td>\n",
       "      <td>Twitter for iPhone</td>\n",
       "      <td>81292</td>\n",
       "      <td>22168</td>\n",
       "      <td>0</td>\n",
       "    </tr>\n",
       "    <tr>\n",
       "      <th>7</th>\n",
       "      <td>Despite thousands of hours wasted and many mil...</td>\n",
       "      <td>140</td>\n",
       "      <td>940554567414091776</td>\n",
       "      <td>2017-12-12 12:10:58</td>\n",
       "      <td>Twitter for iPhone</td>\n",
       "      <td>132382</td>\n",
       "      <td>35200</td>\n",
       "      <td>-1</td>\n",
       "    </tr>\n",
       "    <tr>\n",
       "      <th>8</th>\n",
       "      <td>Another false story, this time in the Failing ...</td>\n",
       "      <td>139</td>\n",
       "      <td>940223974985871360</td>\n",
       "      <td>2017-12-11 14:17:18</td>\n",
       "      <td>Twitter for iPhone</td>\n",
       "      <td>133943</td>\n",
       "      <td>33288</td>\n",
       "      <td>-1</td>\n",
       "    </tr>\n",
       "    <tr>\n",
       "      <th>9</th>\n",
       "      <td>Very little discussion of all the purposely fa...</td>\n",
       "      <td>139</td>\n",
       "      <td>939967625362276354</td>\n",
       "      <td>2017-12-10 21:18:40</td>\n",
       "      <td>Twitter for iPhone</td>\n",
       "      <td>116902</td>\n",
       "      <td>30292</td>\n",
       "      <td>-1</td>\n",
       "    </tr>\n",
       "  </tbody>\n",
       "</table>\n",
       "</div>"
      ],
      "text/plain": [
       "                                              Tweets  len                  ID  \\\n",
       "0  Wow, more than 90% of Fake News Media coverage...  140  940930017365778432   \n",
       "1  The reason I originally endorsed Luther Strang...  140  940904649728708609   \n",
       "2  Congratulations to Doug Jones on a hard fought...  140  940795587733151744   \n",
       "3  Wishing all of those celebrating #Hanukkah aro...  140  940706127309926400   \n",
       "4  Consumer Confidence is at an All-Time High, al...  140  940588025964265472   \n",
       "5  The people of Alabama will do the right thing....  140  940584383605563392   \n",
       "6  Lightweight Senator Kirsten Gillibrand, a tota...  140  940567812053053441   \n",
       "7  Despite thousands of hours wasted and many mil...  140  940554567414091776   \n",
       "8  Another false story, this time in the Failing ...  139  940223974985871360   \n",
       "9  Very little discussion of all the purposely fa...  139  939967625362276354   \n",
       "\n",
       "                 Date              Source   Likes    RTs  SA  \n",
       "0 2017-12-13 13:02:52  Twitter for iPhone   29629   7572  -1  \n",
       "1 2017-12-13 11:22:04  Twitter for iPhone   30444   6869   1  \n",
       "2 2017-12-13 04:08:41  Twitter for iPhone   88671  19837   1  \n",
       "3 2017-12-12 22:13:12  Twitter for iPhone   57757  13569   1  \n",
       "4 2017-12-12 14:23:55  Twitter for iPhone   82419  18552   1  \n",
       "5 2017-12-12 14:09:26  Twitter for iPhone   76282  21083  -1  \n",
       "6 2017-12-12 13:03:35  Twitter for iPhone   81292  22168   0  \n",
       "7 2017-12-12 12:10:58  Twitter for iPhone  132382  35200  -1  \n",
       "8 2017-12-11 14:17:18  Twitter for iPhone  133943  33288  -1  \n",
       "9 2017-12-10 21:18:40  Twitter for iPhone  116902  30292  -1  "
      ]
     },
     "metadata": {},
     "output_type": "display_data"
    }
   ],
   "source": [
    "# We create a column with the result of the analysis:\n",
    "data['SA'] = np.array([ analyze_sentiment(tweet) for tweet in data['Tweets'] ])\n",
    "\n",
    "# We display the updated dataframe with the new column:\n",
    "display(data.head(10))"
   ]
  },
  {
   "cell_type": "markdown",
   "metadata": {},
   "source": [
    "As we can see, the last column contains the sentiment analysis (`SA`). We now just need to check the results.\n",
    "\n",
    "### 3.2. Analyzing the results\n",
    "\n",
    "To have a simple way to verify the results, we will count the number of neutral, positive and negative tweets and extract the percentages."
   ]
  },
  {
   "cell_type": "code",
   "execution_count": 19,
   "metadata": {
    "collapsed": true
   },
   "outputs": [],
   "source": [
    "# We construct lists with classified tweets:\n",
    "\n",
    "pos_tweets = [ tweet for index, tweet in enumerate(data['Tweets']) if data['SA'][index] > 0]\n",
    "neu_tweets = [ tweet for index, tweet in enumerate(data['Tweets']) if data['SA'][index] == 0]\n",
    "neg_tweets = [ tweet for index, tweet in enumerate(data['Tweets']) if data['SA'][index] < 0]"
   ]
  },
  {
   "cell_type": "markdown",
   "metadata": {},
   "source": [
    "Now that we have the lists, we just print the percentages:"
   ]
  },
  {
   "cell_type": "code",
   "execution_count": 20,
   "metadata": {},
   "outputs": [
    {
     "name": "stdout",
     "output_type": "stream",
     "text": [
      "Percentage of positive tweets: 54.0%\n",
      "Percentage of neutral tweets: 22.0%\n",
      "Percentage de negative tweets: 24.0%\n"
     ]
    }
   ],
   "source": [
    "# We print percentages:\n",
    "\n",
    "print(\"Percentage of positive tweets: {}%\".format(len(pos_tweets)*100/len(data['Tweets'])))\n",
    "print(\"Percentage of neutral tweets: {}%\".format(len(neu_tweets)*100/len(data['Tweets'])))\n",
    "print(\"Percentage de negative tweets: {}%\".format(len(neg_tweets)*100/len(data['Tweets'])))"
   ]
  },
  {
   "cell_type": "markdown",
   "metadata": {},
   "source": [
    "We have to consider that we're working only with the 200 most recent tweets from D. Trump. For more accurate results we can consider more tweets. An interesting thing (an invitation to you) is to analyze the polarity of the tweets from different sources, it might be deterministic that by only considering the tweets from one source the polarity would result more positive/negative. Anyway, I hope this resulted interesting.\n",
    "\n",
    "As we saw, we can extract, manipulate, visualize and analyze data in a very simple way with Python. "
   ]
  },
  {
   "cell_type": "markdown",
   "metadata": {},
   "source": [
    "## Exercises\n",
    "1. Consider the tweets published in your own timeline (http://tweepy.readthedocs.io/en/v3.5.0/getting_started.html#hello-tweepy) and analyze their sentiments. This will help you capture with what content you get in touch with. Is it more positive-, neutral-, or negative-oriented?\n",
    "\n",
    "2. Consider the last 100 tweets that contain a keyword of your interest (http://docs.tweepy.org/en/latest/api.html#API.search) and analyze the lenght of their tweets, and the number of likes and retweets, and their sentiments. How are the sentiments over the keyword distributed?\n",
    "\n",
    "3. Consider the last 300 tweets that contain a location of your interest and analyze the lenght of their tweets, and the number of likes and retweets, and their sentiments. How are the sentiments of the users in that location?\n",
    "\n",
    "4. When you mention another user (http://docs.tweepy.org/en/latest/api.html#API.mentions_timeline), with which sentiments do you do it?\n",
    "\n",
    "5. Consider the last 200 tweets of two users you consider similar or relatable and compare the lenght of their tweets, and the number of likes and retweets. For each aspect we are considering (i.e., lenght, likes, and retwets) show one plot to compare the time series of those two users. Are the sentiments of the tweets of these two users distributed in similar ways?\n",
    "\n",
    "6. Repeat exercise 5 with two users you consider very different (e.g., Donald Trump and Hillary Clinton). Be creative with the choices :)\n",
    "\n",
    "7. Write a function to return if a tweet is more objective or subjective and run it in all the examples of the previous exercises (plus the Trump example we made during the class)."
   ]
  },
  {
   "cell_type": "markdown",
   "metadata": {},
   "source": [
    "### Consider the tweets published in your own timeline (http://tweepy.readthedocs.io/en/v3.5.0/getting_started.html#hello-tweepy) and analyze their sentiments. This will help you capture with what content you get in touch with. Is it more positive-, neutral-, or negative-oriented?"
   ]
  },
  {
   "cell_type": "code",
   "execution_count": 21,
   "metadata": {
    "collapsed": true
   },
   "outputs": [],
   "source": [
    "def create_dataframe(tweets, lenght=True, likes=True, retweets=True, date=True, source=True, user=True, followers=True, ids=True):\n",
    "    \"\"\" creates a pandas dataframe from the tweets\n",
    "        creates a column for each of the parameters set to true\"\"\"\n",
    "    \n",
    "    tweet_lst = [tweet.text for tweet in tweets]\n",
    "    df = pd.DataFrame(tweet_lst, columns=['tweet'])\n",
    "    \n",
    "    if lenght:\n",
    "        df['len'] = [len(tweet.text) for tweet in tweets]\n",
    "    if likes:\n",
    "        df['likes'] = [tweet.favorite_count for tweet in tweets]\n",
    "    if retweets:\n",
    "        df['retweets'] = [tweet.retweet_count for tweet in tweets]\n",
    "    if date:\n",
    "        df['date'] = [tweet.created_at for tweet in tweets]\n",
    "    if source:\n",
    "        df['source'] = [tweet.source for tweet in tweets]\n",
    "    if user:\n",
    "        df['user'] = [tweet.user.screen_name for tweet in tweets]\n",
    "    if followers:\n",
    "        df['user_followers'] = [tweet.user.followers_count for tweet in tweets]\n",
    "    if ids:\n",
    "        df['id'] = [tweet.id for tweet in tweets]\n",
    "    \n",
    "    return df"
   ]
  },
  {
   "cell_type": "code",
   "execution_count": 22,
   "metadata": {},
   "outputs": [
    {
     "name": "stdout",
     "output_type": "stream",
     "text": [
      "Number of tweets extracted: 99.\n",
      "\n"
     ]
    }
   ],
   "source": [
    "extractor = twitter_setup()\n",
    "\n",
    "tweets = extractor.home_timeline(count=100)\n",
    "print(\"Number of tweets extracted: {}.\\n\".format(len(tweets)))"
   ]
  },
  {
   "cell_type": "code",
   "execution_count": 23,
   "metadata": {},
   "outputs": [
    {
     "data": {
      "text/html": [
       "<div>\n",
       "<style>\n",
       "    .dataframe thead tr:only-child th {\n",
       "        text-align: right;\n",
       "    }\n",
       "\n",
       "    .dataframe thead th {\n",
       "        text-align: left;\n",
       "    }\n",
       "\n",
       "    .dataframe tbody tr th {\n",
       "        vertical-align: top;\n",
       "    }\n",
       "</style>\n",
       "<table border=\"1\" class=\"dataframe\">\n",
       "  <thead>\n",
       "    <tr style=\"text-align: right;\">\n",
       "      <th></th>\n",
       "      <th>tweet</th>\n",
       "      <th>len</th>\n",
       "      <th>likes</th>\n",
       "      <th>retweets</th>\n",
       "      <th>date</th>\n",
       "      <th>source</th>\n",
       "      <th>user</th>\n",
       "      <th>user_followers</th>\n",
       "      <th>id</th>\n",
       "    </tr>\n",
       "  </thead>\n",
       "  <tbody>\n",
       "    <tr>\n",
       "      <th>0</th>\n",
       "      <td>Busques com accedir a #BCN en transport públic...</td>\n",
       "      <td>137</td>\n",
       "      <td>0</td>\n",
       "      <td>0</td>\n",
       "      <td>2017-12-13 14:01:49</td>\n",
       "      <td>Hootsuite</td>\n",
       "      <td>TMB_Barcelona</td>\n",
       "      <td>181249</td>\n",
       "      <td>940944852459671552</td>\n",
       "    </tr>\n",
       "    <tr>\n",
       "      <th>1</th>\n",
       "      <td>#NeuralNetworks, Step 1: Where to Begin with N...</td>\n",
       "      <td>105</td>\n",
       "      <td>3</td>\n",
       "      <td>2</td>\n",
       "      <td>2017-12-13 14:00:53</td>\n",
       "      <td>Hootsuite</td>\n",
       "      <td>kdnuggets</td>\n",
       "      <td>101039</td>\n",
       "      <td>940944618631331840</td>\n",
       "    </tr>\n",
       "    <tr>\n",
       "      <th>2</th>\n",
       "      <td>Interesting Math Brain Teaser https://t.co/Aas...</td>\n",
       "      <td>77</td>\n",
       "      <td>5</td>\n",
       "      <td>2</td>\n",
       "      <td>2017-12-13 13:57:04</td>\n",
       "      <td>Buffer</td>\n",
       "      <td>DataScienceCtrl</td>\n",
       "      <td>105032</td>\n",
       "      <td>940943657406001152</td>\n",
       "    </tr>\n",
       "    <tr>\n",
       "      <th>3</th>\n",
       "      <td>The world transformed through AI\\n#AI #Machine...</td>\n",
       "      <td>139</td>\n",
       "      <td>83</td>\n",
       "      <td>77</td>\n",
       "      <td>2017-12-13 13:38:25</td>\n",
       "      <td>Twitter Web Client</td>\n",
       "      <td>DeepLearn007</td>\n",
       "      <td>77248</td>\n",
       "      <td>940938965816958982</td>\n",
       "    </tr>\n",
       "    <tr>\n",
       "      <th>4</th>\n",
       "      <td>RT @ipfconline1: #Cybersecurity's Next Frontie...</td>\n",
       "      <td>138</td>\n",
       "      <td>0</td>\n",
       "      <td>19</td>\n",
       "      <td>2017-12-13 13:35:37</td>\n",
       "      <td>Twitter Web Client</td>\n",
       "      <td>DeepLearn007</td>\n",
       "      <td>77248</td>\n",
       "      <td>940938258044813312</td>\n",
       "    </tr>\n",
       "  </tbody>\n",
       "</table>\n",
       "</div>"
      ],
      "text/plain": [
       "                                               tweet  len  likes  retweets  \\\n",
       "0  Busques com accedir a #BCN en transport públic...  137      0         0   \n",
       "1  #NeuralNetworks, Step 1: Where to Begin with N...  105      3         2   \n",
       "2  Interesting Math Brain Teaser https://t.co/Aas...   77      5         2   \n",
       "3  The world transformed through AI\\n#AI #Machine...  139     83        77   \n",
       "4  RT @ipfconline1: #Cybersecurity's Next Frontie...  138      0        19   \n",
       "\n",
       "                 date              source             user  user_followers  \\\n",
       "0 2017-12-13 14:01:49           Hootsuite    TMB_Barcelona          181249   \n",
       "1 2017-12-13 14:00:53           Hootsuite        kdnuggets          101039   \n",
       "2 2017-12-13 13:57:04              Buffer  DataScienceCtrl          105032   \n",
       "3 2017-12-13 13:38:25  Twitter Web Client     DeepLearn007           77248   \n",
       "4 2017-12-13 13:35:37  Twitter Web Client     DeepLearn007           77248   \n",
       "\n",
       "                   id  \n",
       "0  940944852459671552  \n",
       "1  940944618631331840  \n",
       "2  940943657406001152  \n",
       "3  940938965816958982  \n",
       "4  940938258044813312  "
      ]
     },
     "execution_count": 23,
     "metadata": {},
     "output_type": "execute_result"
    }
   ],
   "source": [
    "df_time = create_dataframe(tweets)\n",
    "df_time.head()"
   ]
  },
  {
   "cell_type": "code",
   "execution_count": 24,
   "metadata": {},
   "outputs": [
    {
     "name": "stdout",
     "output_type": "stream",
     "text": [
      "Percentage of positive tweets: 39.39%\n",
      "Percentage of neutral tweets: 52.53%\n",
      "Percentage de negative tweets: 8.08%\n"
     ]
    }
   ],
   "source": [
    "df_time['SA'] = [ analyze_sentiment(tweet) for tweet in df_time['tweet'] ]\n",
    "\n",
    "print(\"Percentage of positive tweets: {:.2f}%\".format(sum(df_time['SA'] == 1)*100/len(df_time['SA'])))\n",
    "print(\"Percentage of neutral tweets: {:.2f}%\".format(sum(df_time['SA'] == 0)*100/len(df_time['SA'])))\n",
    "print(\"Percentage de negative tweets: {:.2f}%\".format(sum(df_time['SA'] == -1)*100/len(df_time['SA'])))"
   ]
  },
  {
   "cell_type": "markdown",
   "metadata": {},
   "source": [
    "### Consider the last 100 tweets that contain a keyword of your interest (http://docs.tweepy.org/en/latest/api.html#API.search) and analyze the lenght of their tweets, and the number of likes and retweets, and their sentiments. How are the sentiments over the keyword distributed?"
   ]
  },
  {
   "cell_type": "code",
   "execution_count": 25,
   "metadata": {},
   "outputs": [
    {
     "name": "stdout",
     "output_type": "stream",
     "text": [
      "Number of tweets extracted: 100.\n",
      "\n"
     ]
    }
   ],
   "source": [
    "# We create an extractor object:\n",
    "extractor = twitter_setup()\n",
    "\n",
    "# We create a tweet list as follows:\n",
    "tweets = extractor.search(\"deep learning\", lang= 'en', count=100)\n",
    "print(\"Number of tweets extracted: {}.\\n\".format(len(tweets)))"
   ]
  },
  {
   "cell_type": "code",
   "execution_count": 26,
   "metadata": {},
   "outputs": [
    {
     "data": {
      "text/html": [
       "<div>\n",
       "<style>\n",
       "    .dataframe thead tr:only-child th {\n",
       "        text-align: right;\n",
       "    }\n",
       "\n",
       "    .dataframe thead th {\n",
       "        text-align: left;\n",
       "    }\n",
       "\n",
       "    .dataframe tbody tr th {\n",
       "        vertical-align: top;\n",
       "    }\n",
       "</style>\n",
       "<table border=\"1\" class=\"dataframe\">\n",
       "  <thead>\n",
       "    <tr style=\"text-align: right;\">\n",
       "      <th></th>\n",
       "      <th>tweet</th>\n",
       "      <th>len</th>\n",
       "      <th>likes</th>\n",
       "      <th>retweets</th>\n",
       "      <th>date</th>\n",
       "      <th>source</th>\n",
       "      <th>user</th>\n",
       "      <th>user_followers</th>\n",
       "      <th>id</th>\n",
       "    </tr>\n",
       "  </thead>\n",
       "  <tbody>\n",
       "    <tr>\n",
       "      <th>0</th>\n",
       "      <td>RT @Neuro_Skeptic: \"Deep learning can be achie...</td>\n",
       "      <td>140</td>\n",
       "      <td>0</td>\n",
       "      <td>23</td>\n",
       "      <td>2017-12-13 14:04:03</td>\n",
       "      <td>Twitter for iPhone</td>\n",
       "      <td>vaguiarpulido</td>\n",
       "      <td>3</td>\n",
       "      <td>940945414504710144</td>\n",
       "    </tr>\n",
       "    <tr>\n",
       "      <th>1</th>\n",
       "      <td>Learning how to deep condition natural hair &amp;a...</td>\n",
       "      <td>89</td>\n",
       "      <td>0</td>\n",
       "      <td>0</td>\n",
       "      <td>2017-12-13 14:03:59</td>\n",
       "      <td>Twitter for Android</td>\n",
       "      <td>CCK_Mojo</td>\n",
       "      <td>565</td>\n",
       "      <td>940945396368658433</td>\n",
       "    </tr>\n",
       "    <tr>\n",
       "      <th>2</th>\n",
       "      <td>Conventional computer vision coupled with deep...</td>\n",
       "      <td>136</td>\n",
       "      <td>0</td>\n",
       "      <td>0</td>\n",
       "      <td>2017-12-13 14:03:58</td>\n",
       "      <td>IFTTT</td>\n",
       "      <td>RetweetedRajeev</td>\n",
       "      <td>116</td>\n",
       "      <td>940945394502176768</td>\n",
       "    </tr>\n",
       "    <tr>\n",
       "      <th>3</th>\n",
       "      <td>@jeffbarr Are you doing to release videos from...</td>\n",
       "      <td>88</td>\n",
       "      <td>0</td>\n",
       "      <td>0</td>\n",
       "      <td>2017-12-13 14:03:09</td>\n",
       "      <td>Twitter Web Client</td>\n",
       "      <td>KLIvan</td>\n",
       "      <td>347</td>\n",
       "      <td>940945187056046081</td>\n",
       "    </tr>\n",
       "    <tr>\n",
       "      <th>4</th>\n",
       "      <td>Artificial Intelligence:Deep Learning in Real ...</td>\n",
       "      <td>140</td>\n",
       "      <td>0</td>\n",
       "      <td>0</td>\n",
       "      <td>2017-12-13 14:03:03</td>\n",
       "      <td>thuc.nv9</td>\n",
       "      <td>Learn_Unity3D</td>\n",
       "      <td>430</td>\n",
       "      <td>940945161252728832</td>\n",
       "    </tr>\n",
       "  </tbody>\n",
       "</table>\n",
       "</div>"
      ],
      "text/plain": [
       "                                               tweet  len  likes  retweets  \\\n",
       "0  RT @Neuro_Skeptic: \"Deep learning can be achie...  140      0        23   \n",
       "1  Learning how to deep condition natural hair &a...   89      0         0   \n",
       "2  Conventional computer vision coupled with deep...  136      0         0   \n",
       "3  @jeffbarr Are you doing to release videos from...   88      0         0   \n",
       "4  Artificial Intelligence:Deep Learning in Real ...  140      0         0   \n",
       "\n",
       "                 date               source             user  user_followers  \\\n",
       "0 2017-12-13 14:04:03   Twitter for iPhone    vaguiarpulido               3   \n",
       "1 2017-12-13 14:03:59  Twitter for Android         CCK_Mojo             565   \n",
       "2 2017-12-13 14:03:58                IFTTT  RetweetedRajeev             116   \n",
       "3 2017-12-13 14:03:09   Twitter Web Client           KLIvan             347   \n",
       "4 2017-12-13 14:03:03             thuc.nv9    Learn_Unity3D             430   \n",
       "\n",
       "                   id  \n",
       "0  940945414504710144  \n",
       "1  940945396368658433  \n",
       "2  940945394502176768  \n",
       "3  940945187056046081  \n",
       "4  940945161252728832  "
      ]
     },
     "execution_count": 26,
     "metadata": {},
     "output_type": "execute_result"
    }
   ],
   "source": [
    "df_word = create_dataframe(tweets)\n",
    "df_word.head()"
   ]
  },
  {
   "cell_type": "code",
   "execution_count": 27,
   "metadata": {},
   "outputs": [
    {
     "name": "stdout",
     "output_type": "stream",
     "text": [
      "The lenght's average in tweets: 133.38\n"
     ]
    }
   ],
   "source": [
    "print(\"The lenght's average in tweets: {}\".format(np.mean(df_word.len)))"
   ]
  },
  {
   "cell_type": "code",
   "execution_count": 28,
   "metadata": {},
   "outputs": [
    {
     "name": "stdout",
     "output_type": "stream",
     "text": [
      "The tweet with more likes is: \n",
      "MIT IBM Watson #AI  Lab debuts new video action recognition deep learning system to help in  automatically decipher… https://t.co/X992T2HbNZ\n",
      "Number of likes: 3\n",
      "140 characters.\n",
      "\n",
      "The tweet with more retweets is: \n",
      "RT @AndrewYNg: Here's our full paper on improving palliative care with deep learning. Neural net with 18 hidden layers inputs EHR, estimate…\n",
      "Number of retweets: 675\n",
      "140 characters.\n",
      "\n"
     ]
    }
   ],
   "source": [
    "# Max FAVs:\n",
    "print(\"The tweet with more likes is: \\n{}\".format(df_word['tweet'][df_word['likes'].idxmax()]))\n",
    "print(\"Number of likes: {}\".format(max(df_word['likes'])))\n",
    "print(\"{} characters.\\n\".format(df_word['len'][df_word['likes'].idxmax()]))\n",
    "\n",
    "# Max RTs:\n",
    "print(\"The tweet with more retweets is: \\n{}\".format(df_word['tweet'][df_word['retweets'].idxmax()]))\n",
    "print(\"Number of retweets: {}\".format(max(df_word['retweets'])))\n",
    "print(\"{} characters.\\n\".format(df_word['len'][df_word['retweets'].idxmax()]))"
   ]
  },
  {
   "cell_type": "code",
   "execution_count": 29,
   "metadata": {},
   "outputs": [
    {
     "data": {
      "text/html": [
       "<div>\n",
       "<style>\n",
       "    .dataframe thead tr:only-child th {\n",
       "        text-align: right;\n",
       "    }\n",
       "\n",
       "    .dataframe thead th {\n",
       "        text-align: left;\n",
       "    }\n",
       "\n",
       "    .dataframe tbody tr th {\n",
       "        vertical-align: top;\n",
       "    }\n",
       "</style>\n",
       "<table border=\"1\" class=\"dataframe\">\n",
       "  <thead>\n",
       "    <tr style=\"text-align: right;\">\n",
       "      <th></th>\n",
       "      <th>tweet</th>\n",
       "      <th>len</th>\n",
       "      <th>likes</th>\n",
       "      <th>retweets</th>\n",
       "      <th>date</th>\n",
       "      <th>source</th>\n",
       "      <th>user</th>\n",
       "      <th>user_followers</th>\n",
       "      <th>id</th>\n",
       "      <th>SA</th>\n",
       "    </tr>\n",
       "  </thead>\n",
       "  <tbody>\n",
       "    <tr>\n",
       "      <th>80</th>\n",
       "      <td>RT @AndrewYNg: Here's our full paper on improv...</td>\n",
       "      <td>140</td>\n",
       "      <td>0</td>\n",
       "      <td>675</td>\n",
       "      <td>2017-12-13 13:38:47</td>\n",
       "      <td>Twitter Web Client</td>\n",
       "      <td>PeterMStrain</td>\n",
       "      <td>31</td>\n",
       "      <td>940939054434144256</td>\n",
       "      <td>1</td>\n",
       "    </tr>\n",
       "    <tr>\n",
       "      <th>34</th>\n",
       "      <td>RT @ValaAfshar: The Fourth Industrial Revoluti...</td>\n",
       "      <td>140</td>\n",
       "      <td>0</td>\n",
       "      <td>337</td>\n",
       "      <td>2017-12-13 13:52:55</td>\n",
       "      <td>Twitter for Android</td>\n",
       "      <td>alelcantero</td>\n",
       "      <td>186</td>\n",
       "      <td>940942612076400640</td>\n",
       "      <td>0</td>\n",
       "    </tr>\n",
       "    <tr>\n",
       "      <th>92</th>\n",
       "      <td>RT @ValaAfshar: The Fourth Industrial Revoluti...</td>\n",
       "      <td>140</td>\n",
       "      <td>0</td>\n",
       "      <td>337</td>\n",
       "      <td>2017-12-13 13:35:58</td>\n",
       "      <td>Twitter for Android</td>\n",
       "      <td>Armando75</td>\n",
       "      <td>126</td>\n",
       "      <td>940938345907130368</td>\n",
       "      <td>0</td>\n",
       "    </tr>\n",
       "    <tr>\n",
       "      <th>51</th>\n",
       "      <td>RT @ValaAfshar: The Fourth Industrial Revoluti...</td>\n",
       "      <td>140</td>\n",
       "      <td>0</td>\n",
       "      <td>337</td>\n",
       "      <td>2017-12-13 13:46:30</td>\n",
       "      <td>Twitter Web Client</td>\n",
       "      <td>IAcrypto</td>\n",
       "      <td>7790</td>\n",
       "      <td>940940998254850048</td>\n",
       "      <td>0</td>\n",
       "    </tr>\n",
       "    <tr>\n",
       "      <th>26</th>\n",
       "      <td>RT @EricTopol: Deep learning #AI for pathology...</td>\n",
       "      <td>140</td>\n",
       "      <td>0</td>\n",
       "      <td>218</td>\n",
       "      <td>2017-12-13 13:56:56</td>\n",
       "      <td>Twitter for iPhone</td>\n",
       "      <td>FabienReyal</td>\n",
       "      <td>234</td>\n",
       "      <td>940943625923461120</td>\n",
       "      <td>1</td>\n",
       "    </tr>\n",
       "  </tbody>\n",
       "</table>\n",
       "</div>"
      ],
      "text/plain": [
       "                                                tweet  len  likes  retweets  \\\n",
       "80  RT @AndrewYNg: Here's our full paper on improv...  140      0       675   \n",
       "34  RT @ValaAfshar: The Fourth Industrial Revoluti...  140      0       337   \n",
       "92  RT @ValaAfshar: The Fourth Industrial Revoluti...  140      0       337   \n",
       "51  RT @ValaAfshar: The Fourth Industrial Revoluti...  140      0       337   \n",
       "26  RT @EricTopol: Deep learning #AI for pathology...  140      0       218   \n",
       "\n",
       "                  date               source          user  user_followers  \\\n",
       "80 2017-12-13 13:38:47   Twitter Web Client  PeterMStrain              31   \n",
       "34 2017-12-13 13:52:55  Twitter for Android   alelcantero             186   \n",
       "92 2017-12-13 13:35:58  Twitter for Android     Armando75             126   \n",
       "51 2017-12-13 13:46:30   Twitter Web Client      IAcrypto            7790   \n",
       "26 2017-12-13 13:56:56   Twitter for iPhone   FabienReyal             234   \n",
       "\n",
       "                    id  SA  \n",
       "80  940939054434144256   1  \n",
       "34  940942612076400640   0  \n",
       "92  940938345907130368   0  \n",
       "51  940940998254850048   0  \n",
       "26  940943625923461120   1  "
      ]
     },
     "execution_count": 29,
     "metadata": {},
     "output_type": "execute_result"
    }
   ],
   "source": [
    "df_word['SA'] = [ analyze_sentiment(tweet) for tweet in df_word['tweet'] ]\n",
    "df_word.sort_values(by='retweets', ascending=False).head(5)"
   ]
  },
  {
   "cell_type": "code",
   "execution_count": 30,
   "metadata": {},
   "outputs": [
    {
     "name": "stdout",
     "output_type": "stream",
     "text": [
      "Percentage of positive tweets: 61.00%\n",
      "Percentage of neutral tweets: 31.00%\n",
      "Percentage de negative tweets: 8.00%\n"
     ]
    }
   ],
   "source": [
    "print(\"Percentage of positive tweets: {:.2f}%\".format(sum(df_word['SA'] == 1)*100/len(df_word['SA'])))\n",
    "print(\"Percentage of neutral tweets: {:.2f}%\".format(sum(df_word['SA'] == 0)*100/len(df_word['SA'])))\n",
    "print(\"Percentage de negative tweets: {:.2f}%\".format(sum(df_word['SA'] == -1)*100/len(df_word['SA'])))"
   ]
  },
  {
   "cell_type": "markdown",
   "metadata": {
    "collapsed": true
   },
   "source": [
    "### Consider the last 300 tweets that contain a location of your interest and analyze the lenght of their tweets, and the number of likes and retweets, and their sentiments. How are the sentiments of the users in that location?"
   ]
  },
  {
   "cell_type": "code",
   "execution_count": 31,
   "metadata": {},
   "outputs": [
    {
     "name": "stdout",
     "output_type": "stream",
     "text": [
      "Number of tweets extracted: 100.\n",
      "\n"
     ]
    }
   ],
   "source": [
    "tweets = extractor.search(geocode='41.385064,2.1734,10km', lang= 'en',count=100)\n",
    "print(\"Number of tweets extracted: {}.\\n\".format(len(tweets)))"
   ]
  },
  {
   "cell_type": "markdown",
   "metadata": {},
   "source": [
    "#### to get more tweets we need to pick the ID of the last one and retrieve the tweets with a lower ID and append to our list"
   ]
  },
  {
   "cell_type": "code",
   "execution_count": 32,
   "metadata": {},
   "outputs": [
    {
     "name": "stdout",
     "output_type": "stream",
     "text": [
      "Number of tweets extracted: 100.\n",
      "\n",
      "Number of tweets: 200.\n",
      "\n"
     ]
    }
   ],
   "source": [
    "tweets2 = extractor.search(geocode='41.385064,2.1734,10km', lang= 'en',count=100, max_id=tweets[-1].id-1)\n",
    "tweets.extend(tweets2)\n",
    "print(\"Number of tweets extracted: {}.\\n\".format(len(tweets2)))\n",
    "print(\"Number of tweets: {}.\\n\".format(len(tweets)))"
   ]
  },
  {
   "cell_type": "code",
   "execution_count": 33,
   "metadata": {},
   "outputs": [
    {
     "name": "stdout",
     "output_type": "stream",
     "text": [
      "Number of tweets extracted: 100.\n",
      "\n",
      "Number of tweets: 300.\n",
      "\n"
     ]
    }
   ],
   "source": [
    "tweets3 = extractor.search(geocode='41.385064,2.1734,10km', lang= 'en',count=100, max_id=tweets[-1].id-1)\n",
    "tweets.extend(tweets3)\n",
    "print(\"Number of tweets extracted: {}.\\n\".format(len(tweets2)))\n",
    "print(\"Number of tweets: {}.\\n\".format(len(tweets)))"
   ]
  },
  {
   "cell_type": "code",
   "execution_count": 34,
   "metadata": {},
   "outputs": [
    {
     "data": {
      "text/html": [
       "<div>\n",
       "<style>\n",
       "    .dataframe thead tr:only-child th {\n",
       "        text-align: right;\n",
       "    }\n",
       "\n",
       "    .dataframe thead th {\n",
       "        text-align: left;\n",
       "    }\n",
       "\n",
       "    .dataframe tbody tr th {\n",
       "        vertical-align: top;\n",
       "    }\n",
       "</style>\n",
       "<table border=\"1\" class=\"dataframe\">\n",
       "  <thead>\n",
       "    <tr style=\"text-align: right;\">\n",
       "      <th></th>\n",
       "      <th>tweet</th>\n",
       "      <th>len</th>\n",
       "      <th>likes</th>\n",
       "      <th>retweets</th>\n",
       "      <th>date</th>\n",
       "      <th>source</th>\n",
       "      <th>user</th>\n",
       "      <th>user_followers</th>\n",
       "      <th>id</th>\n",
       "    </tr>\n",
       "  </thead>\n",
       "  <tbody>\n",
       "    <tr>\n",
       "      <th>0</th>\n",
       "      <td>The Most Insanely Precise Table Assembly You'l...</td>\n",
       "      <td>104</td>\n",
       "      <td>0</td>\n",
       "      <td>0</td>\n",
       "      <td>2017-12-13 14:04:30</td>\n",
       "      <td>IFTTT</td>\n",
       "      <td>marimarisisi</td>\n",
       "      <td>1822</td>\n",
       "      <td>940945529575559170</td>\n",
       "    </tr>\n",
       "    <tr>\n",
       "      <th>1</th>\n",
       "      <td>Can You Spot The 30 Famous Buildings Hidden In...</td>\n",
       "      <td>111</td>\n",
       "      <td>0</td>\n",
       "      <td>0</td>\n",
       "      <td>2017-12-13 14:04:29</td>\n",
       "      <td>IFTTT</td>\n",
       "      <td>marimarisisi</td>\n",
       "      <td>1822</td>\n",
       "      <td>940945523967709185</td>\n",
       "    </tr>\n",
       "    <tr>\n",
       "      <th>2</th>\n",
       "      <td>RT @ipobincatalunya: Of what use is restructur...</td>\n",
       "      <td>140</td>\n",
       "      <td>0</td>\n",
       "      <td>18</td>\n",
       "      <td>2017-12-13 14:04:29</td>\n",
       "      <td>Twitter for Android</td>\n",
       "      <td>EmmanuellaOkek2</td>\n",
       "      <td>38</td>\n",
       "      <td>940945522206048256</td>\n",
       "    </tr>\n",
       "    <tr>\n",
       "      <th>3</th>\n",
       "      <td>RT @sergimansilla: Parsing XML in #golang must...</td>\n",
       "      <td>140</td>\n",
       "      <td>0</td>\n",
       "      <td>1</td>\n",
       "      <td>2017-12-13 14:04:27</td>\n",
       "      <td>Cool Go</td>\n",
       "      <td>cool_golang</td>\n",
       "      <td>1704</td>\n",
       "      <td>940945516661301248</td>\n",
       "    </tr>\n",
       "    <tr>\n",
       "      <th>4</th>\n",
       "      <td>Cristal Box: An Outdoor Pergola You Can Escape...</td>\n",
       "      <td>111</td>\n",
       "      <td>0</td>\n",
       "      <td>0</td>\n",
       "      <td>2017-12-13 14:04:27</td>\n",
       "      <td>IFTTT</td>\n",
       "      <td>marimarisisi</td>\n",
       "      <td>1822</td>\n",
       "      <td>940945516627726336</td>\n",
       "    </tr>\n",
       "  </tbody>\n",
       "</table>\n",
       "</div>"
      ],
      "text/plain": [
       "                                               tweet  len  likes  retweets  \\\n",
       "0  The Most Insanely Precise Table Assembly You'l...  104      0         0   \n",
       "1  Can You Spot The 30 Famous Buildings Hidden In...  111      0         0   \n",
       "2  RT @ipobincatalunya: Of what use is restructur...  140      0        18   \n",
       "3  RT @sergimansilla: Parsing XML in #golang must...  140      0         1   \n",
       "4  Cristal Box: An Outdoor Pergola You Can Escape...  111      0         0   \n",
       "\n",
       "                 date               source             user  user_followers  \\\n",
       "0 2017-12-13 14:04:30                IFTTT     marimarisisi            1822   \n",
       "1 2017-12-13 14:04:29                IFTTT     marimarisisi            1822   \n",
       "2 2017-12-13 14:04:29  Twitter for Android  EmmanuellaOkek2              38   \n",
       "3 2017-12-13 14:04:27              Cool Go      cool_golang            1704   \n",
       "4 2017-12-13 14:04:27                IFTTT     marimarisisi            1822   \n",
       "\n",
       "                   id  \n",
       "0  940945529575559170  \n",
       "1  940945523967709185  \n",
       "2  940945522206048256  \n",
       "3  940945516661301248  \n",
       "4  940945516627726336  "
      ]
     },
     "execution_count": 34,
     "metadata": {},
     "output_type": "execute_result"
    }
   ],
   "source": [
    "df = create_dataframe(tweets)\n",
    "df.head()"
   ]
  },
  {
   "cell_type": "code",
   "execution_count": 35,
   "metadata": {},
   "outputs": [
    {
     "name": "stdout",
     "output_type": "stream",
     "text": [
      "The lenght's average in tweets: 102.11\n",
      "\n",
      "The tweet with more likes is: \n",
      "yo right now https://t.co/huWZhyUlbb\n",
      "Number of likes: 9\n",
      "36 characters.\n",
      "\n",
      "The tweet with more retweets is: \n",
      "RT @FCBarcelona: We've had some great times at Stamford Bridge, haven't we, @andresiniesta8? https://t.co/R9BZq99HN0\n",
      "Number of retweets: 11239\n",
      "116 characters.\n",
      "\n"
     ]
    }
   ],
   "source": [
    "print(\"The lenght's average in tweets: {}\".format(np.mean(df.len)))\n",
    "print()\n",
    "# Max FAVs:\n",
    "print(\"The tweet with more likes is: \\n{}\".format(df['tweet'][df['likes'].idxmax()]))\n",
    "print(\"Number of likes: {}\".format(max(df['likes'])))\n",
    "print(\"{} characters.\\n\".format(df['len'][df['likes'].idxmax()]))\n",
    "\n",
    "# Max RTs:\n",
    "print(\"The tweet with more retweets is: \\n{}\".format(df['tweet'][df['retweets'].idxmax()]))\n",
    "print(\"Number of retweets: {}\".format(max(df['retweets'])))\n",
    "print(\"{} characters.\\n\".format(df['len'][df['retweets'].idxmax()]))"
   ]
  },
  {
   "cell_type": "code",
   "execution_count": 36,
   "metadata": {},
   "outputs": [
    {
     "data": {
      "text/html": [
       "<div>\n",
       "<style>\n",
       "    .dataframe thead tr:only-child th {\n",
       "        text-align: right;\n",
       "    }\n",
       "\n",
       "    .dataframe thead th {\n",
       "        text-align: left;\n",
       "    }\n",
       "\n",
       "    .dataframe tbody tr th {\n",
       "        vertical-align: top;\n",
       "    }\n",
       "</style>\n",
       "<table border=\"1\" class=\"dataframe\">\n",
       "  <thead>\n",
       "    <tr style=\"text-align: right;\">\n",
       "      <th></th>\n",
       "      <th>tweet</th>\n",
       "      <th>len</th>\n",
       "      <th>likes</th>\n",
       "      <th>retweets</th>\n",
       "      <th>date</th>\n",
       "      <th>source</th>\n",
       "      <th>user</th>\n",
       "      <th>user_followers</th>\n",
       "      <th>id</th>\n",
       "      <th>SA</th>\n",
       "    </tr>\n",
       "  </thead>\n",
       "  <tbody>\n",
       "    <tr>\n",
       "      <th>237</th>\n",
       "      <td>RT @FCBarcelona: We've had some great times at...</td>\n",
       "      <td>116</td>\n",
       "      <td>0</td>\n",
       "      <td>11239</td>\n",
       "      <td>2017-12-13 13:57:39</td>\n",
       "      <td>Twitter for Android</td>\n",
       "      <td>MichelxClement</td>\n",
       "      <td>133</td>\n",
       "      <td>940943802684059649</td>\n",
       "      <td>1</td>\n",
       "    </tr>\n",
       "    <tr>\n",
       "      <th>79</th>\n",
       "      <td>RT @FCBarcelona: We've had some great times at...</td>\n",
       "      <td>116</td>\n",
       "      <td>0</td>\n",
       "      <td>11239</td>\n",
       "      <td>2017-12-13 14:01:57</td>\n",
       "      <td>Twitter for Android</td>\n",
       "      <td>Dario_rojo_</td>\n",
       "      <td>0</td>\n",
       "      <td>940944887817691138</td>\n",
       "      <td>1</td>\n",
       "    </tr>\n",
       "    <tr>\n",
       "      <th>87</th>\n",
       "      <td>RT @3gerardpique: 😍😍😍 Thank you! https://t.co/...</td>\n",
       "      <td>56</td>\n",
       "      <td>0</td>\n",
       "      <td>4189</td>\n",
       "      <td>2017-12-13 14:01:43</td>\n",
       "      <td>Twitter for iPhone</td>\n",
       "      <td>Hannahmcq18</td>\n",
       "      <td>112</td>\n",
       "      <td>940944829105786880</td>\n",
       "      <td>0</td>\n",
       "    </tr>\n",
       "    <tr>\n",
       "      <th>217</th>\n",
       "      <td>RT @FCBarcelona: About @ChelseaFC , our @Champ...</td>\n",
       "      <td>140</td>\n",
       "      <td>0</td>\n",
       "      <td>1580</td>\n",
       "      <td>2017-12-13 13:58:10</td>\n",
       "      <td>Twitter for Android</td>\n",
       "      <td>newsport9ja</td>\n",
       "      <td>10</td>\n",
       "      <td>940943935106580480</td>\n",
       "      <td>1</td>\n",
       "    </tr>\n",
       "    <tr>\n",
       "      <th>240</th>\n",
       "      <td>RT @UnrealAlexander: Satan: \"What evil shall w...</td>\n",
       "      <td>140</td>\n",
       "      <td>0</td>\n",
       "      <td>1054</td>\n",
       "      <td>2017-12-13 13:57:36</td>\n",
       "      <td>Twitter Web Client</td>\n",
       "      <td>Zero_Burn_</td>\n",
       "      <td>34</td>\n",
       "      <td>940943791342616581</td>\n",
       "      <td>-1</td>\n",
       "    </tr>\n",
       "  </tbody>\n",
       "</table>\n",
       "</div>"
      ],
      "text/plain": [
       "                                                 tweet  len  likes  retweets  \\\n",
       "237  RT @FCBarcelona: We've had some great times at...  116      0     11239   \n",
       "79   RT @FCBarcelona: We've had some great times at...  116      0     11239   \n",
       "87   RT @3gerardpique: 😍😍😍 Thank you! https://t.co/...   56      0      4189   \n",
       "217  RT @FCBarcelona: About @ChelseaFC , our @Champ...  140      0      1580   \n",
       "240  RT @UnrealAlexander: Satan: \"What evil shall w...  140      0      1054   \n",
       "\n",
       "                   date               source            user  user_followers  \\\n",
       "237 2017-12-13 13:57:39  Twitter for Android  MichelxClement             133   \n",
       "79  2017-12-13 14:01:57  Twitter for Android     Dario_rojo_               0   \n",
       "87  2017-12-13 14:01:43   Twitter for iPhone     Hannahmcq18             112   \n",
       "217 2017-12-13 13:58:10  Twitter for Android     newsport9ja              10   \n",
       "240 2017-12-13 13:57:36   Twitter Web Client      Zero_Burn_              34   \n",
       "\n",
       "                     id  SA  \n",
       "237  940943802684059649   1  \n",
       "79   940944887817691138   1  \n",
       "87   940944829105786880   0  \n",
       "217  940943935106580480   1  \n",
       "240  940943791342616581  -1  "
      ]
     },
     "execution_count": 36,
     "metadata": {},
     "output_type": "execute_result"
    }
   ],
   "source": [
    "df['SA'] = [ analyze_sentiment(tweet) for tweet in df['tweet'] ]\n",
    "df.sort_values(by='retweets', ascending=False).head(5)"
   ]
  },
  {
   "cell_type": "code",
   "execution_count": 37,
   "metadata": {},
   "outputs": [
    {
     "name": "stdout",
     "output_type": "stream",
     "text": [
      "Percentage of positive tweets: 44.33%\n",
      "Percentage of neutral tweets: 44.67%\n",
      "Percentage de negative tweets: 11.00%\n"
     ]
    }
   ],
   "source": [
    "print(\"Percentage of positive tweets: {:.2f}%\".format(sum(df['SA'] == 1)*100/len(df['SA'])))\n",
    "print(\"Percentage of neutral tweets: {:.2f}%\".format(sum(df['SA'] == 0)*100/len(df['SA'])))\n",
    "print(\"Percentage de negative tweets: {:.2f}%\".format(sum(df['SA'] == -1)*100/len(df['SA'])))"
   ]
  },
  {
   "cell_type": "markdown",
   "metadata": {
    "collapsed": true
   },
   "source": [
    "### When you mention another user (http://docs.tweepy.org/en/latest/api.html#API.mentions_timeline), with which sentiments do you do it?"
   ]
  },
  {
   "cell_type": "markdown",
   "metadata": {
    "collapsed": true
   },
   "source": [
    "#### Since i just created the account for this exercise i don't have any tweet, but if i had the code would be something like this:"
   ]
  },
  {
   "cell_type": "code",
   "execution_count": 38,
   "metadata": {},
   "outputs": [
    {
     "name": "stdout",
     "output_type": "stream",
     "text": [
      "Number of tweets extracted: 0.\n",
      "\n"
     ]
    }
   ],
   "source": [
    "extractor = twitter_setup()\n",
    "\n",
    "tweets = extractor.mentions_timeline()\n",
    "print(\"Number of tweets extracted: {}.\\n\".format(len(tweets)))"
   ]
  },
  {
   "cell_type": "code",
   "execution_count": null,
   "metadata": {
    "collapsed": true
   },
   "outputs": [],
   "source": [
    "df = create_dataframe(tweets)\n",
    "\n",
    "df['SA'] = [ analyze_sentiment(tweet) for tweet in df['tweet'] ]\n",
    "df.sort_values(by='retweets', ascending=False).head(5)\n",
    "\n",
    "print(\"Percentage of positive tweets: {:.2f}%\".format(sum(df['SA'] == 1)*100/len(df['SA'])))\n",
    "print(\"Percentage of neutral tweets: {:.2f}%\".format(sum(df['SA'] == 0)*100/len(df['SA'])))\n",
    "print(\"Percentage de negative tweets: {:.2f}%\".format(sum(df['SA'] == -1)*100/len(df['SA'])))"
   ]
  },
  {
   "cell_type": "markdown",
   "metadata": {},
   "source": [
    "### Consider the last 200 tweets of two users you consider similar or relatable and compare the lenght of their tweets, and the number of likes and retweets. For each aspect we are considering (i.e., lenght, likes, and retwets) show one plot to compare the time series of those two users. Are the sentiments of the tweets of these two users distributed in similar ways?"
   ]
  },
  {
   "cell_type": "markdown",
   "metadata": {
    "collapsed": true
   },
   "source": [
    "#### I am going to check the tweets from Manchester City and Manchester United, two of the biggest football clubs and adversaries but the tweets should be pretty similar right?"
   ]
  },
  {
   "cell_type": "code",
   "execution_count": 39,
   "metadata": {},
   "outputs": [
    {
     "name": "stdout",
     "output_type": "stream",
     "text": [
      "Number of tweets extracted: 200.\n",
      "\n",
      "Number of tweets extracted: 200.\n",
      "\n"
     ]
    }
   ],
   "source": [
    "extractor = twitter_setup()\n",
    "\n",
    "tweets_city = extractor.user_timeline(screen_name=\"@ManCity\", count=200)\n",
    "print(\"Number of tweets extracted: {}.\\n\".format(len(tweets_city)))\n",
    "\n",
    "tweets_utd = extractor.user_timeline(screen_name=\"@ManUtd\", count=200)\n",
    "print(\"Number of tweets extracted: {}.\\n\".format(len(tweets_utd)))"
   ]
  },
  {
   "cell_type": "code",
   "execution_count": 40,
   "metadata": {},
   "outputs": [
    {
     "data": {
      "text/html": [
       "<div>\n",
       "<style>\n",
       "    .dataframe thead tr:only-child th {\n",
       "        text-align: right;\n",
       "    }\n",
       "\n",
       "    .dataframe thead th {\n",
       "        text-align: left;\n",
       "    }\n",
       "\n",
       "    .dataframe tbody tr th {\n",
       "        vertical-align: top;\n",
       "    }\n",
       "</style>\n",
       "<table border=\"1\" class=\"dataframe\">\n",
       "  <thead>\n",
       "    <tr style=\"text-align: right;\">\n",
       "      <th></th>\n",
       "      <th>tweet</th>\n",
       "      <th>len</th>\n",
       "      <th>likes</th>\n",
       "      <th>retweets</th>\n",
       "      <th>date</th>\n",
       "      <th>source</th>\n",
       "      <th>user</th>\n",
       "      <th>user_followers</th>\n",
       "      <th>id</th>\n",
       "    </tr>\n",
       "  </thead>\n",
       "  <tbody>\n",
       "    <tr>\n",
       "      <th>0</th>\n",
       "      <td>Our last ten super strikes against the Swans! ...</td>\n",
       "      <td>84</td>\n",
       "      <td>81</td>\n",
       "      <td>15</td>\n",
       "      <td>2017-12-13 14:02:06</td>\n",
       "      <td>Media Studio</td>\n",
       "      <td>ManCity</td>\n",
       "      <td>5459019</td>\n",
       "      <td>940944924614078464</td>\n",
       "    </tr>\n",
       "    <tr>\n",
       "      <th>1</th>\n",
       "      <td>RT @YayaToure: Good vibes at training! 👍🏾 #Com...</td>\n",
       "      <td>77</td>\n",
       "      <td>0</td>\n",
       "      <td>342</td>\n",
       "      <td>2017-12-13 13:06:04</td>\n",
       "      <td>TweetDeck</td>\n",
       "      <td>ManCity</td>\n",
       "      <td>5459019</td>\n",
       "      <td>940930823271993344</td>\n",
       "    </tr>\n",
       "    <tr>\n",
       "      <th>2</th>\n",
       "      <td>RT @ManCity: Throwing back four years to when ...</td>\n",
       "      <td>125</td>\n",
       "      <td>0</td>\n",
       "      <td>117</td>\n",
       "      <td>2017-12-13 12:15:15</td>\n",
       "      <td>Twitter for iPhone</td>\n",
       "      <td>ManCity</td>\n",
       "      <td>5459019</td>\n",
       "      <td>940918035736653824</td>\n",
       "    </tr>\n",
       "    <tr>\n",
       "      <th>3</th>\n",
       "      <td>\"Keep our foot on the gas\" is the message from...</td>\n",
       "      <td>107</td>\n",
       "      <td>384</td>\n",
       "      <td>54</td>\n",
       "      <td>2017-12-13 12:05:18</td>\n",
       "      <td>TweetDeck</td>\n",
       "      <td>ManCity</td>\n",
       "      <td>5459019</td>\n",
       "      <td>940915529027653632</td>\n",
       "    </tr>\n",
       "    <tr>\n",
       "      <th>4</th>\n",
       "      <td>Who's the 🔵? 🤔 https://t.co/Gvw7Ghmngf</td>\n",
       "      <td>38</td>\n",
       "      <td>445</td>\n",
       "      <td>43</td>\n",
       "      <td>2017-12-13 10:29:22</td>\n",
       "      <td>TweetDeck</td>\n",
       "      <td>ManCity</td>\n",
       "      <td>5459019</td>\n",
       "      <td>940891390061481985</td>\n",
       "    </tr>\n",
       "  </tbody>\n",
       "</table>\n",
       "</div>"
      ],
      "text/plain": [
       "                                               tweet  len  likes  retweets  \\\n",
       "0  Our last ten super strikes against the Swans! ...   84     81        15   \n",
       "1  RT @YayaToure: Good vibes at training! 👍🏾 #Com...   77      0       342   \n",
       "2  RT @ManCity: Throwing back four years to when ...  125      0       117   \n",
       "3  \"Keep our foot on the gas\" is the message from...  107    384        54   \n",
       "4             Who's the 🔵? 🤔 https://t.co/Gvw7Ghmngf   38    445        43   \n",
       "\n",
       "                 date              source     user  user_followers  \\\n",
       "0 2017-12-13 14:02:06        Media Studio  ManCity         5459019   \n",
       "1 2017-12-13 13:06:04           TweetDeck  ManCity         5459019   \n",
       "2 2017-12-13 12:15:15  Twitter for iPhone  ManCity         5459019   \n",
       "3 2017-12-13 12:05:18           TweetDeck  ManCity         5459019   \n",
       "4 2017-12-13 10:29:22           TweetDeck  ManCity         5459019   \n",
       "\n",
       "                   id  \n",
       "0  940944924614078464  \n",
       "1  940930823271993344  \n",
       "2  940918035736653824  \n",
       "3  940915529027653632  \n",
       "4  940891390061481985  "
      ]
     },
     "execution_count": 40,
     "metadata": {},
     "output_type": "execute_result"
    }
   ],
   "source": [
    "df_city = create_dataframe(tweets_city)\n",
    "df_city.head()"
   ]
  },
  {
   "cell_type": "code",
   "execution_count": 41,
   "metadata": {},
   "outputs": [
    {
     "data": {
      "text/html": [
       "<div>\n",
       "<style>\n",
       "    .dataframe thead tr:only-child th {\n",
       "        text-align: right;\n",
       "    }\n",
       "\n",
       "    .dataframe thead th {\n",
       "        text-align: left;\n",
       "    }\n",
       "\n",
       "    .dataframe tbody tr th {\n",
       "        vertical-align: top;\n",
       "    }\n",
       "</style>\n",
       "<table border=\"1\" class=\"dataframe\">\n",
       "  <thead>\n",
       "    <tr style=\"text-align: right;\">\n",
       "      <th></th>\n",
       "      <th>tweet</th>\n",
       "      <th>len</th>\n",
       "      <th>likes</th>\n",
       "      <th>retweets</th>\n",
       "      <th>date</th>\n",
       "      <th>source</th>\n",
       "      <th>user</th>\n",
       "      <th>user_followers</th>\n",
       "      <th>id</th>\n",
       "    </tr>\n",
       "  </thead>\n",
       "  <tbody>\n",
       "    <tr>\n",
       "      <th>0</th>\n",
       "      <td>U18s: Join us live on Facebook at 18:30 GMT to...</td>\n",
       "      <td>135</td>\n",
       "      <td>408</td>\n",
       "      <td>80</td>\n",
       "      <td>2017-12-13 13:21:41</td>\n",
       "      <td>Falcon Social Media Management</td>\n",
       "      <td>ManUtd</td>\n",
       "      <td>16305250</td>\n",
       "      <td>940934754102337538</td>\n",
       "    </tr>\n",
       "    <tr>\n",
       "      <th>1</th>\n",
       "      <td>You can grab the latest issue of #UnitedReview...</td>\n",
       "      <td>130</td>\n",
       "      <td>490</td>\n",
       "      <td>98</td>\n",
       "      <td>2017-12-13 12:36:04</td>\n",
       "      <td>Falcon Social Media Management</td>\n",
       "      <td>ManUtd</td>\n",
       "      <td>16305250</td>\n",
       "      <td>940923272438386688</td>\n",
       "    </tr>\n",
       "    <tr>\n",
       "      <th>2</th>\n",
       "      <td>\"He has an incredible talent and has shown tha...</td>\n",
       "      <td>134</td>\n",
       "      <td>1933</td>\n",
       "      <td>446</td>\n",
       "      <td>2017-12-13 11:55:04</td>\n",
       "      <td>Falcon Social Media Management</td>\n",
       "      <td>ManUtd</td>\n",
       "      <td>16305250</td>\n",
       "      <td>940912953557180417</td>\n",
       "    </tr>\n",
       "    <tr>\n",
       "      <th>3</th>\n",
       "      <td>Think you can predict #MUFC's first goalscorer...</td>\n",
       "      <td>144</td>\n",
       "      <td>773</td>\n",
       "      <td>156</td>\n",
       "      <td>2017-12-13 11:00:27</td>\n",
       "      <td>Falcon Social Media Management</td>\n",
       "      <td>ManUtd</td>\n",
       "      <td>16305250</td>\n",
       "      <td>940899211331145728</td>\n",
       "    </tr>\n",
       "    <tr>\n",
       "      <th>4</th>\n",
       "      <td>65 years ago today, #MUFC legend Bill Foulkes ...</td>\n",
       "      <td>121</td>\n",
       "      <td>1774</td>\n",
       "      <td>407</td>\n",
       "      <td>2017-12-13 09:16:03</td>\n",
       "      <td>Falcon Social Media Management</td>\n",
       "      <td>ManUtd</td>\n",
       "      <td>16305250</td>\n",
       "      <td>940872938970124288</td>\n",
       "    </tr>\n",
       "  </tbody>\n",
       "</table>\n",
       "</div>"
      ],
      "text/plain": [
       "                                               tweet  len  likes  retweets  \\\n",
       "0  U18s: Join us live on Facebook at 18:30 GMT to...  135    408        80   \n",
       "1  You can grab the latest issue of #UnitedReview...  130    490        98   \n",
       "2  \"He has an incredible talent and has shown tha...  134   1933       446   \n",
       "3  Think you can predict #MUFC's first goalscorer...  144    773       156   \n",
       "4  65 years ago today, #MUFC legend Bill Foulkes ...  121   1774       407   \n",
       "\n",
       "                 date                           source    user  \\\n",
       "0 2017-12-13 13:21:41  Falcon Social Media Management   ManUtd   \n",
       "1 2017-12-13 12:36:04  Falcon Social Media Management   ManUtd   \n",
       "2 2017-12-13 11:55:04  Falcon Social Media Management   ManUtd   \n",
       "3 2017-12-13 11:00:27  Falcon Social Media Management   ManUtd   \n",
       "4 2017-12-13 09:16:03  Falcon Social Media Management   ManUtd   \n",
       "\n",
       "   user_followers                  id  \n",
       "0        16305250  940934754102337538  \n",
       "1        16305250  940923272438386688  \n",
       "2        16305250  940912953557180417  \n",
       "3        16305250  940899211331145728  \n",
       "4        16305250  940872938970124288  "
      ]
     },
     "execution_count": 41,
     "metadata": {},
     "output_type": "execute_result"
    }
   ],
   "source": [
    "df_utd = create_dataframe(tweets_utd)\n",
    "df_utd.head()"
   ]
  },
  {
   "cell_type": "code",
   "execution_count": 42,
   "metadata": {
    "collapsed": true
   },
   "outputs": [],
   "source": [
    "len_city = pd.Series(data=df_city['len'].values, index=df_city['date'])\n",
    "fav_city = pd.Series(data=df_city['likes'].values, index=df_city['date'])\n",
    "ret_city = pd.Series(data=df_city['retweets'].values, index=df_city['date'])\n",
    "\n",
    "len_utd = pd.Series(data=df_utd['len'].values, index=df_utd['date'])\n",
    "fav_utd = pd.Series(data=df_utd['likes'].values, index=df_utd['date'])\n",
    "ret_utd = pd.Series(data=df_utd['retweets'].values, index=df_utd['date'])"
   ]
  },
  {
   "cell_type": "code",
   "execution_count": 43,
   "metadata": {},
   "outputs": [
    {
     "data": {
      "image/png": "[encoded data removed]",
      "text/plain": [
       "<matplotlib.figure.Figure at 0x14a92845860>"
      ]
     },
     "metadata": {},
     "output_type": "display_data"
    }
   ],
   "source": [
    "len_city.plot(figsize=(16,4), color='b', label='City', legend=True)\n",
    "len_utd.plot(figsize=(16,4), color='r', label='United', legend=True);"
   ]
  },
  {
   "cell_type": "code",
   "execution_count": 44,
   "metadata": {},
   "outputs": [
    {
     "data": {
      "image/png": "[encoded data removed]",
      "text/plain": [
       "<matplotlib.figure.Figure at 0x14a92845208>"
      ]
     },
     "metadata": {},
     "output_type": "display_data"
    }
   ],
   "source": [
    "fig, axs = plt.subplots(2,1, sharex=True, figsize=(18,12))\n",
    "\n",
    "\n",
    "fav_city.plot(color='b', label='City', legend=True, ax=axs[0], title='LIKES')\n",
    "fav_utd.plot(color='r', label='United', legend=True, ax=axs[0])\n",
    "\n",
    "ret_city.plot(color='b', label='City', legend=True, ax=axs[1], title='RETWEETS')\n",
    "ret_utd.plot(color='r', label='United', legend=True, ax=axs[1]);"
   ]
  },
  {
   "cell_type": "markdown",
   "metadata": {},
   "source": [
    "Manchester United seems to have more fans on twiter, having almost always more likes and retweets than City.   \n",
    "The exception seems to be by the end of last sunday when they played against each other and City won, only at that time City got more likes and retweets consistently, but for a short time.   \n",
    "We can see also an increase in the ammout of tweets at the time of the game and with a closer analysis we probably could see the time of the goals from the amount of tweets, retweets and likes"
   ]
  },
  {
   "cell_type": "code",
   "execution_count": 45,
   "metadata": {},
   "outputs": [
    {
     "name": "stdout",
     "output_type": "stream",
     "text": [
      "Percentage of positive tweets by City: 42.00%\n",
      "Percentage of neutral tweets by City: 49.00%\n",
      "Percentage de negative tweets by City: 9.00%\n"
     ]
    }
   ],
   "source": [
    "df_city['SA'] = [ analyze_sentiment(tweet) for tweet in df_city['tweet'] ]\n",
    "\n",
    "print(\"Percentage of positive tweets by City: {:.2f}%\".format(sum(df_city['SA'] == 1)*100/len(df_city['SA'])))\n",
    "print(\"Percentage of neutral tweets by City: {:.2f}%\".format(sum(df_city['SA'] == 0)*100/len(df_city['SA'])))\n",
    "print(\"Percentage de negative tweets by City: {:.2f}%\".format(sum(df_city['SA'] == -1)*100/len(df_city['SA'])))"
   ]
  },
  {
   "cell_type": "code",
   "execution_count": 46,
   "metadata": {},
   "outputs": [
    {
     "name": "stdout",
     "output_type": "stream",
     "text": [
      "Percentage of positive tweets by United: 45.00%\n",
      "Percentage of neutral tweets by United: 40.50%\n",
      "Percentage de negative tweets by United: 14.50%\n"
     ]
    }
   ],
   "source": [
    "df_utd['SA'] = [ analyze_sentiment(tweet) for tweet in df_utd['tweet'] ]\n",
    "\n",
    "print(\"Percentage of positive tweets by United: {:.2f}%\".format(sum(df_utd['SA'] == 1)*100/len(df_utd['SA'])))\n",
    "print(\"Percentage of neutral tweets by United: {:.2f}%\".format(sum(df_utd['SA'] == 0)*100/len(df_utd['SA'])))\n",
    "print(\"Percentage de negative tweets by United: {:.2f}%\".format(sum(df_utd['SA'] == -1)*100/len(df_utd['SA'])))"
   ]
  },
  {
   "cell_type": "markdown",
   "metadata": {},
   "source": [
    "pretty similar the sentiment analysis, more interesting would be to compare the sentiment before the game and after the game"
   ]
  },
  {
   "cell_type": "markdown",
   "metadata": {},
   "source": [
    "### Repeat exercise 5 with two users you consider very different (e.g., Donald Trump and Hillary Clinton). Be creative with the choices :)"
   ]
  },
  {
   "cell_type": "code",
   "execution_count": 47,
   "metadata": {},
   "outputs": [
    {
     "name": "stdout",
     "output_type": "stream",
     "text": [
      "Number of tweets extracted: 200.\n",
      "\n",
      "Number of tweets extracted: 200.\n",
      "\n"
     ]
    }
   ],
   "source": [
    "extractor = twitter_setup()\n",
    "\n",
    "tweets_trump = extractor.user_timeline(screen_name=\"@realDonaldTrump\", count=200)\n",
    "print(\"Number of tweets extracted: {}.\\n\".format(len(tweets_trump)))\n",
    "\n",
    "tweets_musk = extractor.user_timeline(screen_name=\"@elonmusk\", count=200)\n",
    "print(\"Number of tweets extracted: {}.\\n\".format(len(tweets_musk)))"
   ]
  },
  {
   "cell_type": "code",
   "execution_count": 48,
   "metadata": {
    "collapsed": true
   },
   "outputs": [],
   "source": [
    "df_trump = create_dataframe(tweets_trump, user=False, followers=False)\n",
    "df_musk = create_dataframe(tweets_musk, user=False, followers=False)"
   ]
  },
  {
   "cell_type": "code",
   "execution_count": 49,
   "metadata": {
    "collapsed": true
   },
   "outputs": [],
   "source": [
    "len_trump = pd.Series(data=df_trump['len'].values, index=df_trump['date'])\n",
    "fav_trump = pd.Series(data=df_trump['likes'].values, index=df_trump['date'])\n",
    "ret_trump = pd.Series(data=df_trump['retweets'].values, index=df_trump['date'])\n",
    "\n",
    "len_musk = pd.Series(data=df_musk['len'].values, index=df_musk['date'])\n",
    "fav_musk = pd.Series(data=df_musk['likes'].values, index=df_musk['date'])\n",
    "ret_musk = pd.Series(data=df_musk['retweets'].values, index=df_musk['date'])"
   ]
  },
  {
   "cell_type": "code",
   "execution_count": 50,
   "metadata": {},
   "outputs": [
    {
     "data": {
      "image/png": "[encoded data removed]",
      "text/plain": [
       "<matplotlib.figure.Figure at 0x14a92cbf128>"
      ]
     },
     "metadata": {},
     "output_type": "display_data"
    }
   ],
   "source": [
    "len_trump.plot(figsize=(16,4), color='b', label='Donald Trump', legend=True)\n",
    "len_musk.plot(figsize=(16,4), color='r', label='Elon Musk', legend=True);"
   ]
  },
  {
   "cell_type": "code",
   "execution_count": 51,
   "metadata": {},
   "outputs": [
    {
     "data": {
      "image/png": "[encoded data removed]",
      "text/plain": [
       "<matplotlib.figure.Figure at 0x14a92d0bbe0>"
      ]
     },
     "metadata": {},
     "output_type": "display_data"
    }
   ],
   "source": [
    "fig, axs = plt.subplots(2,1, sharex=True, figsize=(18,12))\n",
    "\n",
    "\n",
    "fav_trump.plot(color='b', label='Donald Trump', legend=True, ax=axs[0], title='LIKES')\n",
    "fav_musk.plot(color='r', label='Elon Musk', legend=True, ax=axs[0])\n",
    "\n",
    "ret_trump.plot(color='b', label='Donald Trump', legend=True, ax=axs[1], title='RETWEETS')\n",
    "ret_musk.plot(color='r', label='Elon Musk', legend=True, ax=axs[1]);"
   ]
  },
  {
   "cell_type": "code",
   "execution_count": 52,
   "metadata": {},
   "outputs": [
    {
     "name": "stdout",
     "output_type": "stream",
     "text": [
      "Percentage of positive tweets by City: 54.00%\n",
      "Percentage of neutral tweets by City: 22.00%\n",
      "Percentage de negative tweets by City: 24.00%\n"
     ]
    }
   ],
   "source": [
    "df_trump['SA'] = [ analyze_sentiment(tweet) for tweet in df_trump['tweet'] ]\n",
    "\n",
    "print(\"Percentage of positive tweets by City: {:.2f}%\".format(sum(df_trump['SA'] == 1)*100/len(df_trump['SA'])))\n",
    "print(\"Percentage of neutral tweets by City: {:.2f}%\".format(sum(df_trump['SA'] == 0)*100/len(df_trump['SA'])))\n",
    "print(\"Percentage de negative tweets by City: {:.2f}%\".format(sum(df_trump['SA'] == -1)*100/len(df_trump['SA'])))"
   ]
  },
  {
   "cell_type": "code",
   "execution_count": 53,
   "metadata": {},
   "outputs": [
    {
     "name": "stdout",
     "output_type": "stream",
     "text": [
      "Percentage of positive tweets by City: 39.00%\n",
      "Percentage of neutral tweets by City: 41.00%\n",
      "Percentage de negative tweets by City: 20.00%\n"
     ]
    }
   ],
   "source": [
    "df_musk['SA'] = [analyze_sentiment(tweet) for tweet in df_musk['tweet']]\n",
    "\n",
    "print(\"Percentage of positive tweets by City: {:.2f}%\".format(sum(df_musk['SA'] == 1)*100/len(df_musk['SA'])))\n",
    "print(\"Percentage of neutral tweets by City: {:.2f}%\".format(sum(df_musk['SA'] == 0)*100/len(df_musk['SA'])))\n",
    "print(\"Percentage de negative tweets by City: {:.2f}%\".format(sum(df_musk['SA'] == -1)*100/len(df_musk['SA'])))"
   ]
  },
  {
   "cell_type": "markdown",
   "metadata": {},
   "source": [
    "### Write a function to return if a tweet is more objective or subjective and run it in all the examples of the previous exercises (plus the Trump example we made during the class)."
   ]
  },
  {
   "cell_type": "code",
   "execution_count": 54,
   "metadata": {
    "collapsed": true
   },
   "outputs": [],
   "source": [
    "def analyze_subjectivity(tweet):\n",
    "    '''\n",
    "    returns the subjectivity of the tweet\n",
    "    0 is very objective and 1 very subjective\n",
    "    '''\n",
    "    analysis = TextBlob(clean_tweet(tweet))\n",
    "    return analysis.sentiment.subjectivity"
   ]
  },
  {
   "cell_type": "code",
   "execution_count": 55,
   "metadata": {},
   "outputs": [
    {
     "name": "stdout",
     "output_type": "stream",
     "text": [
      "Elon Musk tweets average subjectivity is: 0.3570\n",
      "\n",
      "Donald Trump tweets average subjectivity is: 0.4358\n",
      "\n",
      "City tweets average subjectivity is: 0.2683\n",
      "\n",
      "United tweets average subjectivity is: 0.3376\n",
      "\n"
     ]
    }
   ],
   "source": [
    "df_musk['obj'] = [analyze_subjectivity(tweet) for tweet in df_musk['tweet']]\n",
    "print('Elon Musk tweets average subjectivity is: {:.4f}'.format(np.mean(df_musk['obj'])))\n",
    "print()\n",
    "df_trump['obj'] = [analyze_subjectivity(tweet) for tweet in df_trump['tweet']]\n",
    "print('Donald Trump tweets average subjectivity is: {:.4f}'.format(np.mean(df_trump['obj'])))\n",
    "print()\n",
    "df_city['obj'] = [analyze_subjectivity(tweet) for tweet in df_city['tweet']]\n",
    "print('City tweets average subjectivity is: {:.4f}'.format(np.mean(df_city['obj'])))\n",
    "print()\n",
    "df_utd['obj'] = [analyze_subjectivity(tweet) for tweet in df_utd['tweet']]\n",
    "print('United tweets average subjectivity is: {:.4f}'.format(np.mean(df_utd['obj'])))\n",
    "print()\n"
   ]
  },
  {
   "cell_type": "code",
   "execution_count": 56,
   "metadata": {},
   "outputs": [
    {
     "name": "stdout",
     "output_type": "stream",
     "text": [
      "My timeline tweets average subjectivity is: 0.2771\n",
      "\n",
      "Deep Learning tweets average subjectivity is: 0.4274\n",
      "\n",
      "Barcelona tweets average subjectivity is: 0.3199\n"
     ]
    }
   ],
   "source": [
    "df_time['obj'] = [analyze_subjectivity(tweet) for tweet in df_time['tweet']]\n",
    "print('My timeline tweets average subjectivity is: {:.4f}'.format(np.mean(df_time['obj'])))\n",
    "print()\n",
    "df_word['obj'] = [analyze_subjectivity(tweet) for tweet in df_word['tweet']]\n",
    "print('Deep Learning tweets average subjectivity is: {:.4f}'.format(np.mean(df_word['obj'])))\n",
    "print()\n",
    "df['obj'] = [analyze_subjectivity(tweet) for tweet in df['tweet']]\n",
    "print('Barcelona tweets average subjectivity is: {:.4f}'.format(np.mean(df['obj'])))"
   ]
  },
  {
   "cell_type": "code",
   "execution_count": null,
   "metadata": {
    "collapsed": true
   },
   "outputs": [],
   "source": []
  }
 ],
 "metadata": {
  "kernelspec": {
   "display_name": "Python 3",
   "language": "python",
   "name": "python3"
  },
  "language_info": {
   "codemirror_mode": {
    "name": "ipython",
    "version": 3
   },
   "file_extension": ".py",
   "mimetype": "text/x-python",
   "name": "python",
   "nbconvert_exporter": "python",
   "pygments_lexer": "ipython3",
   "version": "3.6.3"
  }
 },
 "nbformat": 4,
 "nbformat_minor": 2
}
