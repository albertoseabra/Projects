{
 "cells": [
  {
   "cell_type": "code",
   "execution_count": 1,
   "metadata": {
    "collapsed": true
   },
   "outputs": [],
   "source": [
    "import pandas as pd\n",
    "import numpy as np\n",
    "import matplotlib.pyplot as plt\n",
    "import seaborn as sns\n",
    "\n",
    "%matplotlib inline\n",
    "\n",
    "from sklearn.model_selection import train_test_split\n",
    "\n",
    "from sklearn.ensemble import RandomForestClassifier\n",
    "\n",
    "from sklearn.metrics import classification_report,confusion_matrix"
   ]
  },
  {
   "cell_type": "code",
   "execution_count": 2,
   "metadata": {
    "collapsed": true
   },
   "outputs": [],
   "source": [
    "flights = pd.read_csv('C:/bts_master/Data_Driven/second/final_data.csv')"
   ]
  },
  {
   "cell_type": "code",
   "execution_count": 3,
   "metadata": {},
   "outputs": [
    {
     "data": {
      "text/html": [
       "<div>\n",
       "<style>\n",
       "    .dataframe thead tr:only-child th {\n",
       "        text-align: right;\n",
       "    }\n",
       "\n",
       "    .dataframe thead th {\n",
       "        text-align: left;\n",
       "    }\n",
       "\n",
       "    .dataframe tbody tr th {\n",
       "        vertical-align: top;\n",
       "    }\n",
       "</style>\n",
       "<table border=\"1\" class=\"dataframe\">\n",
       "  <thead>\n",
       "    <tr style=\"text-align: right;\">\n",
       "      <th></th>\n",
       "      <th>Unnamed: 0</th>\n",
       "      <th>MONTH</th>\n",
       "      <th>DAY</th>\n",
       "      <th>DAY_OF_WEEK</th>\n",
       "      <th>AIRLINE</th>\n",
       "      <th>ARRIVAL_DELAY</th>\n",
       "      <th>departure_hour</th>\n",
       "      <th>arrival_hour</th>\n",
       "      <th>ORIGIN_STATE</th>\n",
       "      <th>DESTINATION_STATE</th>\n",
       "      <th>different_state</th>\n",
       "      <th>airport_size</th>\n",
       "    </tr>\n",
       "  </thead>\n",
       "  <tbody>\n",
       "    <tr>\n",
       "      <th>0</th>\n",
       "      <td>0</td>\n",
       "      <td>1</td>\n",
       "      <td>1</td>\n",
       "      <td>4</td>\n",
       "      <td>AS</td>\n",
       "      <td>-22.0</td>\n",
       "      <td>0</td>\n",
       "      <td>4</td>\n",
       "      <td>AK</td>\n",
       "      <td>WA</td>\n",
       "      <td>y</td>\n",
       "      <td>l</td>\n",
       "    </tr>\n",
       "    <tr>\n",
       "      <th>1</th>\n",
       "      <td>1</td>\n",
       "      <td>1</td>\n",
       "      <td>1</td>\n",
       "      <td>4</td>\n",
       "      <td>AA</td>\n",
       "      <td>-9.0</td>\n",
       "      <td>0</td>\n",
       "      <td>7</td>\n",
       "      <td>CA</td>\n",
       "      <td>FL</td>\n",
       "      <td>y</td>\n",
       "      <td>xl</td>\n",
       "    </tr>\n",
       "    <tr>\n",
       "      <th>2</th>\n",
       "      <td>2</td>\n",
       "      <td>1</td>\n",
       "      <td>1</td>\n",
       "      <td>4</td>\n",
       "      <td>US</td>\n",
       "      <td>5.0</td>\n",
       "      <td>0</td>\n",
       "      <td>8</td>\n",
       "      <td>CA</td>\n",
       "      <td>NC</td>\n",
       "      <td>y</td>\n",
       "      <td>xl</td>\n",
       "    </tr>\n",
       "    <tr>\n",
       "      <th>3</th>\n",
       "      <td>3</td>\n",
       "      <td>1</td>\n",
       "      <td>1</td>\n",
       "      <td>4</td>\n",
       "      <td>AA</td>\n",
       "      <td>-9.0</td>\n",
       "      <td>0</td>\n",
       "      <td>8</td>\n",
       "      <td>CA</td>\n",
       "      <td>FL</td>\n",
       "      <td>y</td>\n",
       "      <td>xl</td>\n",
       "    </tr>\n",
       "    <tr>\n",
       "      <th>4</th>\n",
       "      <td>4</td>\n",
       "      <td>1</td>\n",
       "      <td>1</td>\n",
       "      <td>4</td>\n",
       "      <td>AS</td>\n",
       "      <td>-21.0</td>\n",
       "      <td>0</td>\n",
       "      <td>3</td>\n",
       "      <td>WA</td>\n",
       "      <td>AK</td>\n",
       "      <td>y</td>\n",
       "      <td>xl</td>\n",
       "    </tr>\n",
       "  </tbody>\n",
       "</table>\n",
       "</div>"
      ],
      "text/plain": [
       "   Unnamed: 0  MONTH  DAY  DAY_OF_WEEK AIRLINE  ARRIVAL_DELAY  departure_hour  \\\n",
       "0           0      1    1            4      AS          -22.0               0   \n",
       "1           1      1    1            4      AA           -9.0               0   \n",
       "2           2      1    1            4      US            5.0               0   \n",
       "3           3      1    1            4      AA           -9.0               0   \n",
       "4           4      1    1            4      AS          -21.0               0   \n",
       "\n",
       "   arrival_hour ORIGIN_STATE DESTINATION_STATE different_state airport_size  \n",
       "0             4           AK                WA               y            l  \n",
       "1             7           CA                FL               y           xl  \n",
       "2             8           CA                NC               y           xl  \n",
       "3             8           CA                FL               y           xl  \n",
       "4             3           WA                AK               y           xl  "
      ]
     },
     "execution_count": 3,
     "metadata": {},
     "output_type": "execute_result"
    }
   ],
   "source": [
    "flights.head()"
   ]
  },
  {
   "cell_type": "markdown",
   "metadata": {},
   "source": [
    "## We can try to predict any delay superior to zero or we can also divide between a small delay, up to 15 minutes, and a bigger delay, and try to predict those."
   ]
  },
  {
   "cell_type": "code",
   "execution_count": 7,
   "metadata": {
    "collapsed": true
   },
   "outputs": [],
   "source": [
    "flights['delayed'] = flights['ARRIVAL_DELAY'].apply(lambda x: 1 if x > 0 else 0)"
   ]
  },
  {
   "cell_type": "code",
   "execution_count": 8,
   "metadata": {
    "collapsed": true
   },
   "outputs": [],
   "source": [
    "flights['delayed2'] = flights['ARRIVAL_DELAY'].apply(lambda x: 2 if x > 15 else (1 if x > 0 else 0))"
   ]
  },
  {
   "cell_type": "code",
   "execution_count": 9,
   "metadata": {},
   "outputs": [
    {
     "data": {
      "text/plain": [
       "0.64162554000409722"
      ]
     },
     "execution_count": 9,
     "metadata": {},
     "output_type": "execute_result"
    }
   ],
   "source": [
    "flights['delayed'].value_counts()[0] / flights.shape[0]"
   ]
  },
  {
   "cell_type": "code",
   "execution_count": 72,
   "metadata": {},
   "outputs": [
    {
     "data": {
      "text/plain": [
       "5120563"
      ]
     },
     "execution_count": 72,
     "metadata": {},
     "output_type": "execute_result"
    }
   ],
   "source": [
    "flights.shape[0]"
   ]
  },
  {
   "cell_type": "code",
   "execution_count": 10,
   "metadata": {},
   "outputs": [
    {
     "data": {
      "text/plain": [
       "<matplotlib.axes._subplots.AxesSubplot at 0x16b25a662e8>"
      ]
     },
     "execution_count": 10,
     "metadata": {},
     "output_type": "execute_result"
    },
    {
     "data": {
      "image/png": "[encoded data removed]",
      "text/plain": [
       "<matplotlib.figure.Figure at 0x16b76607550>"
      ]
     },
     "metadata": {},
     "output_type": "display_data"
    }
   ],
   "source": [
    "sns.countplot(flights.delayed)"
   ]
  },
  {
   "cell_type": "code",
   "execution_count": 11,
   "metadata": {},
   "outputs": [
    {
     "data": {
      "text/plain": [
       "<matplotlib.axes._subplots.AxesSubplot at 0x16b1e4ee9b0>"
      ]
     },
     "execution_count": 11,
     "metadata": {},
     "output_type": "execute_result"
    },
    {
     "data": {
      "image/png": "[encoded data removed]",
      "text/plain": [
       "<matplotlib.figure.Figure at 0x16b2333d5f8>"
      ]
     },
     "metadata": {},
     "output_type": "display_data"
    }
   ],
   "source": [
    "sns.countplot(flights.delayed2)"
   ]
  },
  {
   "cell_type": "markdown",
   "metadata": {},
   "source": [
    "### Will try to predict any delay larger than zero first:"
   ]
  },
  {
   "cell_type": "code",
   "execution_count": 24,
   "metadata": {
    "collapsed": true
   },
   "outputs": [],
   "source": [
    "new = flights.drop(['Unnamed: 0', 'DESTINATION_STATE', 'ARRIVAL_DELAY', 'delayed2'], axis=1)"
   ]
  },
  {
   "cell_type": "code",
   "execution_count": 25,
   "metadata": {
    "collapsed": true
   },
   "outputs": [],
   "source": [
    "new = pd.get_dummies(new, columns=['AIRLINE'], drop_first=True)\n",
    "new = pd.get_dummies(new, columns=['ORIGIN_STATE'], drop_first=True)\n",
    "new = pd.get_dummies(new, columns=['different_state'], drop_first=True)\n",
    "new = pd.get_dummies(new, columns=['airport_size'], drop_first=True)\n",
    "new = pd.get_dummies(new, columns=['DAY_OF_WEEK'], drop_first=True)\n",
    "new = pd.get_dummies(new, columns=['MONTH'], drop_first=True)\n",
    "new = pd.get_dummies(new, columns=['DAY'], drop_first=True)"
   ]
  },
  {
   "cell_type": "code",
   "execution_count": 26,
   "metadata": {
    "collapsed": true
   },
   "outputs": [],
   "source": [
    "x_data = new.drop('delayed', axis=1)\n",
    "y_data = new['delayed']"
   ]
  },
  {
   "cell_type": "code",
   "execution_count": 27,
   "metadata": {
    "collapsed": true
   },
   "outputs": [],
   "source": [
    "X_train, X_test, y_train, y_test = train_test_split(x_data, y_data)"
   ]
  },
  {
   "cell_type": "code",
   "execution_count": 28,
   "metadata": {},
   "outputs": [
    {
     "data": {
      "text/plain": [
       "RandomForestClassifier(bootstrap=True, class_weight=None, criterion='gini',\n",
       "            max_depth=10, max_features='sqrt', max_leaf_nodes=None,\n",
       "            min_impurity_decrease=0.0, min_impurity_split=None,\n",
       "            min_samples_leaf=1, min_samples_split=2,\n",
       "            min_weight_fraction_leaf=0.0, n_estimators=100, n_jobs=1,\n",
       "            oob_score=False, random_state=None, verbose=0,\n",
       "            warm_start=False)"
      ]
     },
     "execution_count": 28,
     "metadata": {},
     "output_type": "execute_result"
    }
   ],
   "source": [
    "forest = RandomForestClassifier(n_estimators=100, max_features='sqrt', max_depth=10)\n",
    "forest.fit(X_train, y_train)"
   ]
  },
  {
   "cell_type": "code",
   "execution_count": 29,
   "metadata": {
    "collapsed": true
   },
   "outputs": [],
   "source": [
    "forest_pred = forest.predict(X_test)"
   ]
  },
  {
   "cell_type": "code",
   "execution_count": 30,
   "metadata": {},
   "outputs": [
    {
     "data": {
      "text/plain": [
       "0.64239408002712206"
      ]
     },
     "execution_count": 30,
     "metadata": {},
     "output_type": "execute_result"
    }
   ],
   "source": [
    "forest.score(X_test, y_test)"
   ]
  },
  {
   "cell_type": "code",
   "execution_count": 31,
   "metadata": {},
   "outputs": [
    {
     "name": "stdout",
     "output_type": "stream",
     "text": [
      "             precision    recall  f1-score   support\n",
      "\n",
      "          0       0.64      1.00      0.78    821435\n",
      "          1       0.76      0.00      0.01    458706\n",
      "\n",
      "avg / total       0.68      0.64      0.50   1280141\n",
      "\n"
     ]
    }
   ],
   "source": [
    "print(classification_report(y_test,forest_pred))"
   ]
  },
  {
   "cell_type": "code",
   "execution_count": 32,
   "metadata": {},
   "outputs": [
    {
     "name": "stdout",
     "output_type": "stream",
     "text": [
      "[[820996    439]\n",
      " [457347   1359]]\n"
     ]
    }
   ],
   "source": [
    "print(confusion_matrix(y_test,forest_pred))"
   ]
  },
  {
   "cell_type": "code",
   "execution_count": 34,
   "metadata": {},
   "outputs": [
    {
     "data": {
      "text/plain": [
       "<matplotlib.axes._subplots.AxesSubplot at 0x16b1ff5e0b8>"
      ]
     },
     "execution_count": 34,
     "metadata": {},
     "output_type": "execute_result"
    },
    {
     "data": {
      "image/png": "[encoded data removed]",
      "text/plain": [
       "<matplotlib.figure.Figure at 0x16b207262e8>"
      ]
     },
     "metadata": {},
     "output_type": "display_data"
    }
   ],
   "source": [
    "plt.figure(figsize=(15,25))\n",
    "sns.barplot(y=X_train.columns, x=forest.feature_importances_)"
   ]
  },
  {
   "cell_type": "markdown",
   "metadata": {},
   "source": [
    "### The prediction is not exactly good"
   ]
  },
  {
   "cell_type": "markdown",
   "metadata": {},
   "source": [
    "## Trying with neural networks:"
   ]
  },
  {
   "cell_type": "code",
   "execution_count": 53,
   "metadata": {
    "collapsed": true
   },
   "outputs": [],
   "source": [
    "new = flights.drop(['Unnamed: 0', 'DESTINATION_STATE', 'ARRIVAL_DELAY', 'delayed2'], axis=1)"
   ]
  },
  {
   "cell_type": "code",
   "execution_count": 49,
   "metadata": {
    "collapsed": true
   },
   "outputs": [],
   "source": [
    "new = pd.get_dummies(new, columns=['AIRLINE'], drop_first=True)\n",
    "new = pd.get_dummies(new, columns=['ORIGIN_STATE'], drop_first=True)\n",
    "new = pd.get_dummies(new, columns=['different_state'], drop_first=True)\n",
    "new = pd.get_dummies(new, columns=['airport_size'], drop_first=True)\n",
    "new = pd.get_dummies(new, columns=['DAY_OF_WEEK'], drop_first=True)\n",
    "new = pd.get_dummies(new, columns=['MONTH'], drop_first=True)\n",
    "new = pd.get_dummies(new, columns=['DAY'], drop_first=True)"
   ]
  },
  {
   "cell_type": "code",
   "execution_count": 55,
   "metadata": {
    "collapsed": true
   },
   "outputs": [],
   "source": [
    "x_data = new.drop('delayed', axis=1).values\n",
    "y_data = new['delayed'].values"
   ]
  },
  {
   "cell_type": "code",
   "execution_count": 57,
   "metadata": {
    "collapsed": true
   },
   "outputs": [],
   "source": [
    "X_train, X_test, y_train, y_test = train_test_split(x_data, y_data)"
   ]
  },
  {
   "cell_type": "code",
   "execution_count": 58,
   "metadata": {
    "collapsed": true
   },
   "outputs": [],
   "source": [
    "from sklearn.preprocessing import StandardScaler"
   ]
  },
  {
   "cell_type": "code",
   "execution_count": 59,
   "metadata": {},
   "outputs": [
    {
     "name": "stderr",
     "output_type": "stream",
     "text": [
      "C:\\ProgramData\\Anaconda3\\lib\\site-packages\\sklearn\\utils\\validation.py:475: DataConversionWarning: Data with input dtype int64 was converted to float64 by StandardScaler.\n",
      "  warnings.warn(msg, DataConversionWarning)\n"
     ]
    }
   ],
   "source": [
    "scaler = StandardScaler()\n",
    "X_train = scaler.fit_transform(X_train)\n",
    "X_test = scaler.transform(X_test)"
   ]
  },
  {
   "cell_type": "code",
   "execution_count": 61,
   "metadata": {},
   "outputs": [],
   "source": [
    "import keras\n",
    "from keras.models import Sequential\n",
    "from keras.layers import Dense, Dropout"
   ]
  },
  {
   "cell_type": "code",
   "execution_count": 63,
   "metadata": {},
   "outputs": [
    {
     "data": {
      "text/plain": [
       "119"
      ]
     },
     "execution_count": 63,
     "metadata": {},
     "output_type": "execute_result"
    }
   ],
   "source": [
    "len(X_train[0])"
   ]
  },
  {
   "cell_type": "code",
   "execution_count": 99,
   "metadata": {},
   "outputs": [
    {
     "name": "stderr",
     "output_type": "stream",
     "text": [
      "C:\\ProgramData\\Anaconda3\\lib\\site-packages\\ipykernel_launcher.py:2: UserWarning: Update your `Dense` call to the Keras 2 API: `Dense(activation=\"relu\", input_dim=119, units=80)`\n",
      "  \n",
      "C:\\ProgramData\\Anaconda3\\lib\\site-packages\\ipykernel_launcher.py:4: UserWarning: Update your `Dense` call to the Keras 2 API: `Dense(activation=\"relu\", units=40)`\n",
      "  after removing the cwd from sys.path.\n",
      "C:\\ProgramData\\Anaconda3\\lib\\site-packages\\ipykernel_launcher.py:6: UserWarning: Update your `Dense` call to the Keras 2 API: `Dense(activation=\"relu\", units=60)`\n",
      "  \n",
      "C:\\ProgramData\\Anaconda3\\lib\\site-packages\\ipykernel_launcher.py:8: UserWarning: Update your `Dense` call to the Keras 2 API: `Dense(activation=\"sigmoid\", units=1)`\n",
      "  \n"
     ]
    }
   ],
   "source": [
    "classifier = Sequential()\n",
    "classifier.add(Dense(output_dim = 80, activation=\"relu\", input_dim=119))\n",
    "classifier.add(Dropout(0.1))\n",
    "classifier.add(Dense(output_dim = 40, activation=\"relu\"))\n",
    "classifier.add(Dropout(0.1))\n",
    "classifier.add(Dense(output_dim = 60, activation=\"relu\"))\n",
    "classifier.add(Dropout(0.1))\n",
    "classifier.add(Dense(output_dim = 1, activation=\"sigmoid\"))"
   ]
  },
  {
   "cell_type": "code",
   "execution_count": 100,
   "metadata": {
    "collapsed": true
   },
   "outputs": [],
   "source": [
    "classifier.compile(optimizer='adam', loss='binary_crossentropy', metrics=['accuracy'])"
   ]
  },
  {
   "cell_type": "code",
   "execution_count": 114,
   "metadata": {},
   "outputs": [
    {
     "name": "stdout",
     "output_type": "stream",
     "text": [
      "Epoch 1/10\n",
      "3840422/3840422 [==============================] - 120s 31us/step - loss: 0.6056 - acc: 0.6771\n",
      "Epoch 2/10\n",
      "3840422/3840422 [==============================] - 115s 30us/step - loss: 0.6051 - acc: 0.6776\n",
      "Epoch 3/10\n",
      "3840422/3840422 [==============================] - 113s 29us/step - loss: 0.6051 - acc: 0.6777\n",
      "Epoch 4/10\n",
      "3840422/3840422 [==============================] - 119s 31us/step - loss: 0.6050 - acc: 0.6779\n",
      "Epoch 5/10\n",
      "3840422/3840422 [==============================] - 122s 32us/step - loss: 0.6047 - acc: 0.6781\n",
      "Epoch 6/10\n",
      "3840422/3840422 [==============================] - 118s 31us/step - loss: 0.6046 - acc: 0.67810s - loss: 0.6046 - acc: 0.6 - ETA: 0s - loss: 0.6046 - acc: \n",
      "Epoch 7/10\n",
      "3840422/3840422 [==============================] - 119s 31us/step - loss: 0.6045 - acc: 0.6782\n",
      "Epoch 8/10\n",
      "3840422/3840422 [==============================] - 119s 31us/step - loss: 0.6043 - acc: 0.6783\n",
      "Epoch 9/10\n",
      "3840422/3840422 [==============================] - 119s 31us/step - loss: 0.6042 - acc: 0.6785\n",
      "Epoch 10/10\n",
      "3840422/3840422 [==============================] - 119s 31us/step - loss: 0.6043 - acc: 0.67830s - loss: 0.6043 - acc: 0.6\n"
     ]
    },
    {
     "data": {
      "text/plain": [
       "<keras.callbacks.History at 0x16b20fb3c50>"
      ]
     },
     "execution_count": 114,
     "metadata": {},
     "output_type": "execute_result"
    }
   ],
   "source": [
    "batch_size = 50\n",
    "epochs = 10\n",
    "classifier.fit(X_train, y_train, batch_size=batch_size, epochs=epochs)"
   ]
  },
  {
   "cell_type": "code",
   "execution_count": 115,
   "metadata": {
    "collapsed": true
   },
   "outputs": [],
   "source": [
    "dp_pred = classifier.predict(X_test)"
   ]
  },
  {
   "cell_type": "code",
   "execution_count": 116,
   "metadata": {},
   "outputs": [
    {
     "data": {
      "text/plain": [
       "array([[ 0.20184226],\n",
       "       [ 0.27029929],\n",
       "       [ 0.38533127],\n",
       "       ..., \n",
       "       [ 0.17141385],\n",
       "       [ 0.16755976],\n",
       "       [ 0.31304309]], dtype=float32)"
      ]
     },
     "execution_count": 116,
     "metadata": {},
     "output_type": "execute_result"
    }
   ],
   "source": [
    "dp_pred"
   ]
  },
  {
   "cell_type": "code",
   "execution_count": 117,
   "metadata": {
    "collapsed": true
   },
   "outputs": [],
   "source": [
    "dp_prediction = (dp_pred > 0.5)"
   ]
  },
  {
   "cell_type": "code",
   "execution_count": 118,
   "metadata": {},
   "outputs": [
    {
     "name": "stdout",
     "output_type": "stream",
     "text": [
      "[[741445  79541]\n",
      " [327678 131477]]\n"
     ]
    }
   ],
   "source": [
    "print(confusion_matrix(y_test,dp_prediction))"
   ]
  },
  {
   "cell_type": "code",
   "execution_count": 119,
   "metadata": {},
   "outputs": [
    {
     "name": "stdout",
     "output_type": "stream",
     "text": [
      "             precision    recall  f1-score   support\n",
      "\n",
      "          0       0.69      0.90      0.78    820986\n",
      "          1       0.62      0.29      0.39    459155\n",
      "\n",
      "avg / total       0.67      0.68      0.64   1280141\n",
      "\n"
     ]
    }
   ],
   "source": [
    "print(classification_report(y_test,dp_prediction))"
   ]
  },
  {
   "cell_type": "code",
   "execution_count": 131,
   "metadata": {},
   "outputs": [
    {
     "name": "stdout",
     "output_type": "stream",
     "text": [
      "Model accuracy: 0.6818951974821523\n"
     ]
    }
   ],
   "source": [
    "print('Model accuracy:', (741445+131477)/1280141)"
   ]
  },
  {
   "cell_type": "markdown",
   "metadata": {},
   "source": [
    "### Its Better but its not great 68,2% accuracy"
   ]
  },
  {
   "cell_type": "markdown",
   "metadata": {},
   "source": [
    "### Now to predict the two types of delays:"
   ]
  },
  {
   "cell_type": "code",
   "execution_count": 29,
   "metadata": {
    "collapsed": true
   },
   "outputs": [],
   "source": [
    "new2 = flights.drop(['MONTH', 'DAY', 'DESTINATION_STATE', 'ARRIVAL_DELAY', 'delayed'], axis=1)"
   ]
  },
  {
   "cell_type": "code",
   "execution_count": 30,
   "metadata": {
    "collapsed": true
   },
   "outputs": [],
   "source": [
    "new2 = pd.get_dummies(new2, columns=['AIRLINE'], drop_first=True)\n",
    "new2 = pd.get_dummies(new2, columns=['ORIGIN_STATE'], drop_first=True)\n",
    "new2 = pd.get_dummies(new2, columns=['different_state'], drop_first=True)\n",
    "new2 = pd.get_dummies(new2, columns=['airport_size'], drop_first=True)\n",
    "new2 = pd.get_dummies(new2, columns=['DAY_OF_WEEK'], drop_first=True)"
   ]
  },
  {
   "cell_type": "code",
   "execution_count": 31,
   "metadata": {
    "collapsed": true
   },
   "outputs": [],
   "source": [
    "x_data = new2.drop('delayed2', axis=1)\n",
    "y_data = new2['delayed2']"
   ]
  },
  {
   "cell_type": "code",
   "execution_count": 32,
   "metadata": {
    "collapsed": true
   },
   "outputs": [],
   "source": [
    "X_train, X_test, y_train, y_test = train_test_split(x_data, y_data)"
   ]
  },
  {
   "cell_type": "code",
   "execution_count": 35,
   "metadata": {},
   "outputs": [
    {
     "data": {
      "text/plain": [
       "RandomForestClassifier(bootstrap=True, class_weight=None, criterion='gini',\n",
       "            max_depth=7, max_features='sqrt', max_leaf_nodes=None,\n",
       "            min_impurity_decrease=0.0, min_impurity_split=None,\n",
       "            min_samples_leaf=1, min_samples_split=2,\n",
       "            min_weight_fraction_leaf=0.0, n_estimators=100, n_jobs=1,\n",
       "            oob_score=False, random_state=None, verbose=0,\n",
       "            warm_start=False)"
      ]
     },
     "execution_count": 35,
     "metadata": {},
     "output_type": "execute_result"
    }
   ],
   "source": [
    "forest2 = RandomForestClassifier(n_estimators=100, max_features='sqrt', max_depth=7)\n",
    "forest2.fit(X_train, y_train)"
   ]
  },
  {
   "cell_type": "code",
   "execution_count": 36,
   "metadata": {},
   "outputs": [
    {
     "data": {
      "text/plain": [
       "0.55911965947501097"
      ]
     },
     "execution_count": 36,
     "metadata": {},
     "output_type": "execute_result"
    }
   ],
   "source": [
    "forest_pred2 = forest2.predict(X_test)\n",
    "forest.score(X_test, y_test)"
   ]
  },
  {
   "cell_type": "code",
   "execution_count": 37,
   "metadata": {},
   "outputs": [
    {
     "name": "stdout",
     "output_type": "stream",
     "text": [
      "             precision    recall  f1-score   support\n",
      "\n",
      "          0       0.64      1.00      0.78    820755\n",
      "          1       0.00      0.00      0.00    245461\n",
      "          2       0.00      0.00      0.00    213925\n",
      "\n",
      "avg / total       0.41      0.64      0.50   1280141\n",
      "\n"
     ]
    },
    {
     "name": "stderr",
     "output_type": "stream",
     "text": [
      "C:\\ProgramData\\Anaconda3\\lib\\site-packages\\sklearn\\metrics\\classification.py:1135: UndefinedMetricWarning: Precision and F-score are ill-defined and being set to 0.0 in labels with no predicted samples.\n",
      "  'precision', 'predicted', average, warn_for)\n"
     ]
    }
   ],
   "source": [
    "print(classification_report(y_test,forest_pred2))"
   ]
  },
  {
   "cell_type": "code",
   "execution_count": 38,
   "metadata": {},
   "outputs": [
    {
     "name": "stdout",
     "output_type": "stream",
     "text": [
      "[[820755      0      0]\n",
      " [245461      0      0]\n",
      " [213925      0      0]]\n"
     ]
    }
   ],
   "source": [
    "print(confusion_matrix(y_test,forest_pred2))"
   ]
  },
  {
   "cell_type": "markdown",
   "metadata": {
    "collapsed": true
   },
   "source": [
    "### Seems to be useless"
   ]
  }
 ],
 "metadata": {
  "kernelspec": {
   "display_name": "Python 3",
   "language": "python",
   "name": "python3"
  },
  "language_info": {
   "codemirror_mode": {
    "name": "ipython",
    "version": 3
   },
   "file_extension": ".py",
   "mimetype": "text/x-python",
   "name": "python",
   "nbconvert_exporter": "python",
   "pygments_lexer": "ipython3",
   "version": "3.6.3"
  }
 },
 "nbformat": 4,
 "nbformat_minor": 2
}
