{
 "cells": [
  {
   "cell_type": "code",
   "execution_count": 1,
   "metadata": {
    "collapsed": true
   },
   "outputs": [],
   "source": [
    "import pandas as pd\n",
    "import numpy as np\n",
    "import os\n",
    "from datetime import datetime\n",
    "from datetime import timedelta\n",
    "import matplotlib.pyplot as plt\n",
    "import seaborn as sns\n",
    "import sqlite3\n",
    "%matplotlib inline\n",
    "\n",
    "from sklearn.model_selection import train_test_split\n",
    "from sklearn.ensemble import RandomForestClassifier\n",
    "from sklearn.metrics import accuracy_score\n",
    "\n",
    "os.chdir('C:\\BTS_Master\\Data_Driven\\data')"
   ]
  },
  {
   "cell_type": "code",
   "execution_count": 13,
   "metadata": {
    "collapsed": true
   },
   "outputs": [],
   "source": [
    "def create_dictionaries(table):\n",
    "    \"\"\"\n",
    "    connects with the database and extracts the data from the table, returns 2 dictionaries:\n",
    "    the first with customers id as keys and the products as values ordered by date of subsciption\n",
    "    the second with customers id as keys and the dates of the products as values ordered by date\n",
    "    \n",
    "    \"\"\"\n",
    "    # connecting with the database and querying it for the Customer ID and Products ordered by Date\n",
    "    database = \"C:\\BTS_Master\\Data_Driven\\data\\cajamar.db\"\n",
    "    connect = sqlite3.connect(database)\n",
    "    query = \"SELECT ID_Customer, Cod_Prod, Cod_Fecha FROM {} ORDER BY Cod_Fecha\".format(table)\n",
    "    query_result = pd.read_sql_query(query, connect)\n",
    "    connect.close()\n",
    "    \n",
    "    dict_prod = {}\n",
    "    for i in range(len(query_result)):\n",
    "        # if the ID is already in the dictionary appends the product to the list, if not adds the Customer and the product\n",
    "        if query_result.ID_Customer.values[i] in dict_prod:\n",
    "            dict_prod[query_result.ID_Customer.values[i]].append(query_result.Cod_Prod.values[i])\n",
    "        else:\n",
    "            dict_prod[query_result.ID_Customer.values[i]] = [query_result.Cod_Prod.values[i]]\n",
    "        \n",
    "        \n",
    "    dict_dates = {}\n",
    "    for i in range(len(query_result)):\n",
    "        # if the ID is already in the dictionary appends the product to the list, if not adds the Customer and the product\n",
    "        if query_result.ID_Customer.values[i] in dict_dates:\n",
    "            dict_dates[query_result.ID_Customer.values[i]].append(datetime.strptime(query_result.Cod_Fecha.values[i], '%Y-%m'))\n",
    "        else:\n",
    "            dict_dates[query_result.ID_Customer.values[i]] = [datetime.strptime(query_result.Cod_Fecha.values[i], '%Y-%m')]\n",
    "            \n",
    "    return dict_prod, dict_dates"
   ]
  },
  {
   "cell_type": "code",
   "execution_count": 14,
   "metadata": {
    "collapsed": true
   },
   "outputs": [],
   "source": [
    "def create_target(dict_prod):\n",
    "    \"\"\" \n",
    "    takes the dictionary of products and removes the last product for each client creating a new dataframe for the target\n",
    "    returns the dictionary of products without the target and a dataframe with the target\n",
    "    \"\"\"\n",
    "    # create a new dictionary with the last product subscibed for each customer and deletes that product from the dictionary\n",
    "    y = {}\n",
    "    for key, value in dict_prod.items():\n",
    "        y[key] = value.pop(-1)\n",
    "        \n",
    "    y_target = pd.DataFrame.from_dict(y, orient='index')\n",
    "    y_target.reset_index(inplace=True)\n",
    "    y_target.columns = [['ID_Customer','last_prod']]\n",
    "    \n",
    "    return dict_prod, y_target"
   ]
  },
  {
   "cell_type": "code",
   "execution_count": 15,
   "metadata": {
    "collapsed": true
   },
   "outputs": [],
   "source": [
    "def create_dataframe(original_file, dict_prod):\n",
    "    \"\"\"\n",
    "    creates the dataframe with the IDs, socio demografics variables and products subscribed vector\n",
    "    returns the dataframe\n",
    "    \"\"\"\n",
    "    df = pd.read_csv(original_file + '.txt', sep='|')\n",
    "    \n",
    "    # get the ID and the number of products \n",
    "    data = df.groupby(['ID_Customer']).count()['Cod_Prod'].reset_index()\n",
    "    data['num_products'] = data['Cod_Prod'] - 1\n",
    "    data.drop('Cod_Prod', axis=1, inplace=True)\n",
    "\n",
    "    data = data.merge(df.groupby(['ID_Customer']).mean()['Socio_Demo_01'].reset_index(), on='ID_Customer', how='left')\n",
    "    data = data.merge(df.groupby(['ID_Customer']).mean()['Socio_Demo_02'].reset_index(), on='ID_Customer', how='left')\n",
    "    data = data.merge(df.groupby(['ID_Customer']).mean()['Socio_Demo_03'].reset_index(), on='ID_Customer', how='left')\n",
    "    data = data.merge(df.groupby(['ID_Customer']).mean()['Socio_Demo_04'].reset_index(), on='ID_Customer', how='left')\n",
    "    data = data.merge(df.groupby(['ID_Customer']).mean()['Socio_Demo_05'].reset_index(), on='ID_Customer', how='left')\n",
    "    \n",
    "    \n",
    "    products = [value for value in df['Cod_Prod'].unique()]\n",
    "    for i in range(len(products)):\n",
    "        lista = []\n",
    "        for key, value in dict_prod.items():\n",
    "            if products[i] in value:\n",
    "                lista.append([key, 1])\n",
    "        dataframe = pd.DataFrame(lista)\n",
    "        # there are products never subscribed, this gives error trying to make the dataframe\n",
    "        try:\n",
    "            dataframe.columns = [['ID_Customer', 'Prod_'+str(products[i])]]\n",
    "            data = data.merge(dataframe, on='ID_Customer', how='left')\n",
    "        # will print a message if the product was not subscribed and create a column of zeros\n",
    "        except ValueError:\n",
    "            print('The product {} was never subscribed'.format(products[i]))\n",
    "            data['Prod_'+str(products[i])] = np.zeros(len(data))\n",
    "            \n",
    "    # replace the NaN for Zeros\n",
    "    for column in data.columns:\n",
    "        data[column].fillna(0, inplace=True)\n",
    "            \n",
    "    return data"
   ]
  },
  {
   "cell_type": "code",
   "execution_count": 16,
   "metadata": {
    "collapsed": true
   },
   "outputs": [],
   "source": [
    "def dates_dataframe(dict_dates):\n",
    "    \"\"\"\n",
    "    first deletes the last date from each customer, this is the date of the target\n",
    "    then creates a dataframe with the date of the oldest product and the date of the most recent one\n",
    "    returns the dataframe\n",
    "    \"\"\"\n",
    "    # delete most recent date for each customer, this is the date of the target\n",
    "    for key, value in dict_dates.items():\n",
    "        value.pop(-1)\n",
    "        \n",
    "    dates = []\n",
    "    for key, value in dict_dates.items():\n",
    "        try:\n",
    "            dates.append([key, value[0], value[-1]])\n",
    "        except IndexError:\n",
    "            dates.append([key])  \n",
    "            \n",
    "    df_dates = pd.DataFrame(dates, columns=['ID_Customer', 'old', 'recent'])\n",
    "    \n",
    "    return df_dates"
   ]
  },
  {
   "cell_type": "code",
   "execution_count": 17,
   "metadata": {
    "collapsed": true
   },
   "outputs": [],
   "source": [
    "def get_previous(dict_products, dataframe, pre_previous=False):\n",
    "    \"\"\"\n",
    "    get the previous product for each client from the dictionary and create a new column in the dataframe with the products\n",
    "    returns the new dataframe\n",
    "    if pre_previous is True does the same to the product before the previous\n",
    "    \"\"\"\n",
    "    previous = []\n",
    "    for key, value in dict_products.items():\n",
    "        try:\n",
    "            previous.append([key, value[-1]])\n",
    "        except IndexError:\n",
    "            previous.append([key, 0])\n",
    "    #  create DataFrame and merge\n",
    "    previ = pd.DataFrame(previous)\n",
    "    previ.columns = ['ID_Customer', 'previous']      \n",
    "    dataframe = dataframe.merge(previ, on='ID_Customer')\n",
    "    \n",
    "    if pre_previous:\n",
    "        pre_previous = []\n",
    "        for key, value in dict_products.items():\n",
    "            try:\n",
    "                pre_previous.append([key, value[-2]])\n",
    "            except IndexError:\n",
    "                pre_previous.append([key, 0])\n",
    "                \n",
    "    pre_previ = pd.DataFrame(pre_previous)\n",
    "    pre_previ.columns = ['ID_Customer', 'pre_previous']\n",
    "    dataframe = dataframe.merge(pre_previ, on='ID_Customer')\n",
    "\n",
    "    return dataframe"
   ]
  },
  {
   "cell_type": "markdown",
   "metadata": {
    "collapsed": true
   },
   "source": []
  },
  {
   "cell_type": "code",
   "execution_count": null,
   "metadata": {},
   "outputs": [
    {
     "data": {
      "text/html": [
       "<div>\n",
       "<style>\n",
       "    .dataframe thead tr:only-child th {\n",
       "        text-align: right;\n",
       "    }\n",
       "\n",
       "    .dataframe thead th {\n",
       "        text-align: left;\n",
       "    }\n",
       "\n",
       "    .dataframe tbody tr th {\n",
       "        vertical-align: top;\n",
       "    }\n",
       "</style>\n",
       "<table border=\"1\" class=\"dataframe\">\n",
       "  <thead>\n",
       "    <tr style=\"text-align: right;\">\n",
       "      <th></th>\n",
       "      <th>ID_Customer</th>\n",
       "      <th>last_prod</th>\n",
       "    </tr>\n",
       "  </thead>\n",
       "  <tbody>\n",
       "    <tr>\n",
       "      <th>0</th>\n",
       "      <td>A0495929</td>\n",
       "      <td>706</td>\n",
       "    </tr>\n",
       "    <tr>\n",
       "      <th>1</th>\n",
       "      <td>A0495930</td>\n",
       "      <td>706</td>\n",
       "    </tr>\n",
       "    <tr>\n",
       "      <th>2</th>\n",
       "      <td>A0495990</td>\n",
       "      <td>706</td>\n",
       "    </tr>\n",
       "    <tr>\n",
       "      <th>3</th>\n",
       "      <td>A0495941</td>\n",
       "      <td>301</td>\n",
       "    </tr>\n",
       "    <tr>\n",
       "      <th>4</th>\n",
       "      <td>A0495975</td>\n",
       "      <td>301</td>\n",
       "    </tr>\n",
       "  </tbody>\n",
       "</table>\n",
       "</div>"
      ],
      "text/plain": [
       "  ID_Customer  last_prod\n",
       "0    A0495929        706\n",
       "1    A0495930        706\n",
       "2    A0495990        706\n",
       "3    A0495941        301\n",
       "4    A0495975        301"
      ]
     },
     "execution_count": 18,
     "metadata": {},
     "output_type": "execute_result"
    }
   ],
   "source": [
    "train_prod, train_dates = create_dictionaries('train')\n",
    "train_prod, train_target = create_target(train_prod)\n",
    "train_target.head()"
   ]
  },
  {
   "cell_type": "code",
   "execution_count": null,
   "metadata": {
    "collapsed": true
   },
   "outputs": [],
   "source": [
    "train_data = create_dataframe('train', train_prod)\n",
    "train_data.head()"
   ]
  },
  {
   "cell_type": "code",
   "execution_count": 9,
   "metadata": {},
   "outputs": [
    {
     "data": {
      "text/html": [
       "<div>\n",
       "<style>\n",
       "    .dataframe thead tr:only-child th {\n",
       "        text-align: right;\n",
       "    }\n",
       "\n",
       "    .dataframe thead th {\n",
       "        text-align: left;\n",
       "    }\n",
       "\n",
       "    .dataframe tbody tr th {\n",
       "        vertical-align: top;\n",
       "    }\n",
       "</style>\n",
       "<table border=\"1\" class=\"dataframe\">\n",
       "  <thead>\n",
       "    <tr style=\"text-align: right;\">\n",
       "      <th></th>\n",
       "      <th>ID_Customer</th>\n",
       "      <th>old</th>\n",
       "      <th>recent</th>\n",
       "    </tr>\n",
       "  </thead>\n",
       "  <tbody>\n",
       "    <tr>\n",
       "      <th>0</th>\n",
       "      <td>A0495929</td>\n",
       "      <td>1954-03-01</td>\n",
       "      <td>2013-03-01</td>\n",
       "    </tr>\n",
       "    <tr>\n",
       "      <th>1</th>\n",
       "      <td>A0495930</td>\n",
       "      <td>1954-03-01</td>\n",
       "      <td>2014-07-01</td>\n",
       "    </tr>\n",
       "    <tr>\n",
       "      <th>2</th>\n",
       "      <td>A0495990</td>\n",
       "      <td>1954-09-01</td>\n",
       "      <td>2014-12-01</td>\n",
       "    </tr>\n",
       "    <tr>\n",
       "      <th>3</th>\n",
       "      <td>A0495941</td>\n",
       "      <td>1956-05-01</td>\n",
       "      <td>1956-05-01</td>\n",
       "    </tr>\n",
       "    <tr>\n",
       "      <th>4</th>\n",
       "      <td>A0495975</td>\n",
       "      <td>1956-11-01</td>\n",
       "      <td>1956-11-01</td>\n",
       "    </tr>\n",
       "  </tbody>\n",
       "</table>\n",
       "</div>"
      ],
      "text/plain": [
       "  ID_Customer        old     recent\n",
       "0    A0495929 1954-03-01 2013-03-01\n",
       "1    A0495930 1954-03-01 2014-07-01\n",
       "2    A0495990 1954-09-01 2014-12-01\n",
       "3    A0495941 1956-05-01 1956-05-01\n",
       "4    A0495975 1956-11-01 1956-11-01"
      ]
     },
     "execution_count": 9,
     "metadata": {},
     "output_type": "execute_result"
    }
   ],
   "source": [
    "train_dates = dates_dataframe(train_dates)\n",
    "train_dates.head()"
   ]
  },
  {
   "cell_type": "code",
   "execution_count": null,
   "metadata": {
    "collapsed": true
   },
   "outputs": [],
   "source": []
  },
  {
   "cell_type": "code",
   "execution_count": 10,
   "metadata": {},
   "outputs": [
    {
     "name": "stdout",
     "output_type": "stream",
     "text": [
      "The product 1308 was never subscribed\n"
     ]
    }
   ],
   "source": [
    "test_prod, test_dates = create_dictionaries('test')\n",
    "\n",
    "test_prod, test_target = create_target(test_prod)\n",
    "\n",
    "test_data = create_dataframe('test', test_prod)\n",
    "\n",
    "test_dates = dates_dataframe(test_dates)"
   ]
  },
  {
   "cell_type": "code",
   "execution_count": 11,
   "metadata": {},
   "outputs": [
    {
     "data": {
      "text/html": [
       "<div>\n",
       "<style>\n",
       "    .dataframe thead tr:only-child th {\n",
       "        text-align: right;\n",
       "    }\n",
       "\n",
       "    .dataframe thead th {\n",
       "        text-align: left;\n",
       "    }\n",
       "\n",
       "    .dataframe tbody tr th {\n",
       "        vertical-align: top;\n",
       "    }\n",
       "</style>\n",
       "<table border=\"1\" class=\"dataframe\">\n",
       "  <thead>\n",
       "    <tr style=\"text-align: right;\">\n",
       "      <th></th>\n",
       "      <th>ID_Customer</th>\n",
       "      <th>num_products</th>\n",
       "      <th>Socio_Demo_01</th>\n",
       "      <th>Socio_Demo_02</th>\n",
       "      <th>Socio_Demo_03</th>\n",
       "      <th>Socio_Demo_04</th>\n",
       "      <th>Socio_Demo_05</th>\n",
       "      <th>Prod_601</th>\n",
       "      <th>Prod_301</th>\n",
       "      <th>Prod_1021</th>\n",
       "      <th>...</th>\n",
       "      <th>Prod_706</th>\n",
       "      <th>Prod_707</th>\n",
       "      <th>Prod_1305</th>\n",
       "      <th>Prod_2502</th>\n",
       "      <th>Prod_1806</th>\n",
       "      <th>Prod_2201</th>\n",
       "      <th>Prod_502</th>\n",
       "      <th>Prod_9992</th>\n",
       "      <th>Prod_2901</th>\n",
       "      <th>Prod_1308</th>\n",
       "    </tr>\n",
       "  </thead>\n",
       "  <tbody>\n",
       "    <tr>\n",
       "      <th>0</th>\n",
       "      <td>B0676372</td>\n",
       "      <td>0</td>\n",
       "      <td>5.0</td>\n",
       "      <td>5.0</td>\n",
       "      <td>2.0</td>\n",
       "      <td>1.0</td>\n",
       "      <td>0.0</td>\n",
       "      <td>0.0</td>\n",
       "      <td>0.0</td>\n",
       "      <td>0.0</td>\n",
       "      <td>...</td>\n",
       "      <td>0.0</td>\n",
       "      <td>0.0</td>\n",
       "      <td>0.0</td>\n",
       "      <td>0.0</td>\n",
       "      <td>0.0</td>\n",
       "      <td>0.0</td>\n",
       "      <td>0.0</td>\n",
       "      <td>0.0</td>\n",
       "      <td>0.0</td>\n",
       "      <td>0.0</td>\n",
       "    </tr>\n",
       "    <tr>\n",
       "      <th>1</th>\n",
       "      <td>B0676373</td>\n",
       "      <td>0</td>\n",
       "      <td>5.0</td>\n",
       "      <td>5.0</td>\n",
       "      <td>2.0</td>\n",
       "      <td>1.0</td>\n",
       "      <td>0.0</td>\n",
       "      <td>0.0</td>\n",
       "      <td>0.0</td>\n",
       "      <td>0.0</td>\n",
       "      <td>...</td>\n",
       "      <td>0.0</td>\n",
       "      <td>0.0</td>\n",
       "      <td>0.0</td>\n",
       "      <td>0.0</td>\n",
       "      <td>0.0</td>\n",
       "      <td>0.0</td>\n",
       "      <td>0.0</td>\n",
       "      <td>0.0</td>\n",
       "      <td>0.0</td>\n",
       "      <td>0.0</td>\n",
       "    </tr>\n",
       "    <tr>\n",
       "      <th>2</th>\n",
       "      <td>B0676374</td>\n",
       "      <td>8</td>\n",
       "      <td>3.0</td>\n",
       "      <td>5.0</td>\n",
       "      <td>3.0</td>\n",
       "      <td>1.0</td>\n",
       "      <td>3.0</td>\n",
       "      <td>1.0</td>\n",
       "      <td>1.0</td>\n",
       "      <td>0.0</td>\n",
       "      <td>...</td>\n",
       "      <td>0.0</td>\n",
       "      <td>0.0</td>\n",
       "      <td>0.0</td>\n",
       "      <td>0.0</td>\n",
       "      <td>0.0</td>\n",
       "      <td>0.0</td>\n",
       "      <td>0.0</td>\n",
       "      <td>1.0</td>\n",
       "      <td>0.0</td>\n",
       "      <td>0.0</td>\n",
       "    </tr>\n",
       "    <tr>\n",
       "      <th>3</th>\n",
       "      <td>B0676376</td>\n",
       "      <td>4</td>\n",
       "      <td>5.0</td>\n",
       "      <td>5.0</td>\n",
       "      <td>3.0</td>\n",
       "      <td>2.0</td>\n",
       "      <td>0.0</td>\n",
       "      <td>1.0</td>\n",
       "      <td>0.0</td>\n",
       "      <td>0.0</td>\n",
       "      <td>...</td>\n",
       "      <td>0.0</td>\n",
       "      <td>1.0</td>\n",
       "      <td>0.0</td>\n",
       "      <td>0.0</td>\n",
       "      <td>0.0</td>\n",
       "      <td>0.0</td>\n",
       "      <td>0.0</td>\n",
       "      <td>0.0</td>\n",
       "      <td>0.0</td>\n",
       "      <td>0.0</td>\n",
       "    </tr>\n",
       "    <tr>\n",
       "      <th>4</th>\n",
       "      <td>B0676377</td>\n",
       "      <td>1</td>\n",
       "      <td>5.0</td>\n",
       "      <td>5.0</td>\n",
       "      <td>3.0</td>\n",
       "      <td>2.0</td>\n",
       "      <td>0.0</td>\n",
       "      <td>1.0</td>\n",
       "      <td>0.0</td>\n",
       "      <td>0.0</td>\n",
       "      <td>...</td>\n",
       "      <td>0.0</td>\n",
       "      <td>0.0</td>\n",
       "      <td>0.0</td>\n",
       "      <td>0.0</td>\n",
       "      <td>0.0</td>\n",
       "      <td>0.0</td>\n",
       "      <td>0.0</td>\n",
       "      <td>0.0</td>\n",
       "      <td>0.0</td>\n",
       "      <td>0.0</td>\n",
       "    </tr>\n",
       "  </tbody>\n",
       "</table>\n",
       "<p>5 rows × 101 columns</p>\n",
       "</div>"
      ],
      "text/plain": [
       "  ID_Customer  num_products  Socio_Demo_01  Socio_Demo_02  Socio_Demo_03  \\\n",
       "0    B0676372             0            5.0            5.0            2.0   \n",
       "1    B0676373             0            5.0            5.0            2.0   \n",
       "2    B0676374             8            3.0            5.0            3.0   \n",
       "3    B0676376             4            5.0            5.0            3.0   \n",
       "4    B0676377             1            5.0            5.0            3.0   \n",
       "\n",
       "   Socio_Demo_04  Socio_Demo_05  Prod_601  Prod_301  Prod_1021    ...      \\\n",
       "0            1.0            0.0       0.0       0.0        0.0    ...       \n",
       "1            1.0            0.0       0.0       0.0        0.0    ...       \n",
       "2            1.0            3.0       1.0       1.0        0.0    ...       \n",
       "3            2.0            0.0       1.0       0.0        0.0    ...       \n",
       "4            2.0            0.0       1.0       0.0        0.0    ...       \n",
       "\n",
       "   Prod_706  Prod_707  Prod_1305  Prod_2502  Prod_1806  Prod_2201  Prod_502  \\\n",
       "0       0.0       0.0        0.0        0.0        0.0        0.0       0.0   \n",
       "1       0.0       0.0        0.0        0.0        0.0        0.0       0.0   \n",
       "2       0.0       0.0        0.0        0.0        0.0        0.0       0.0   \n",
       "3       0.0       1.0        0.0        0.0        0.0        0.0       0.0   \n",
       "4       0.0       0.0        0.0        0.0        0.0        0.0       0.0   \n",
       "\n",
       "   Prod_9992  Prod_2901  Prod_1308  \n",
       "0        0.0        0.0        0.0  \n",
       "1        0.0        0.0        0.0  \n",
       "2        1.0        0.0        0.0  \n",
       "3        0.0        0.0        0.0  \n",
       "4        0.0        0.0        0.0  \n",
       "\n",
       "[5 rows x 101 columns]"
      ]
     },
     "execution_count": 11,
     "metadata": {},
     "output_type": "execute_result"
    }
   ],
   "source": [
    "test_data.head()"
   ]
  },
  {
   "cell_type": "code",
   "execution_count": 12,
   "metadata": {},
   "outputs": [
    {
     "data": {
      "text/html": [
       "<div>\n",
       "<style>\n",
       "    .dataframe thead tr:only-child th {\n",
       "        text-align: right;\n",
       "    }\n",
       "\n",
       "    .dataframe thead th {\n",
       "        text-align: left;\n",
       "    }\n",
       "\n",
       "    .dataframe tbody tr th {\n",
       "        vertical-align: top;\n",
       "    }\n",
       "</style>\n",
       "<table border=\"1\" class=\"dataframe\">\n",
       "  <thead>\n",
       "    <tr style=\"text-align: right;\">\n",
       "      <th></th>\n",
       "      <th>ID_Customer</th>\n",
       "      <th>old</th>\n",
       "      <th>recent</th>\n",
       "    </tr>\n",
       "  </thead>\n",
       "  <tbody>\n",
       "    <tr>\n",
       "      <th>0</th>\n",
       "      <td>B0891376</td>\n",
       "      <td>1954-01-01</td>\n",
       "      <td>1954-01-01</td>\n",
       "    </tr>\n",
       "    <tr>\n",
       "      <th>1</th>\n",
       "      <td>B0889436</td>\n",
       "      <td>1954-09-01</td>\n",
       "      <td>2016-01-01</td>\n",
       "    </tr>\n",
       "    <tr>\n",
       "      <th>2</th>\n",
       "      <td>B0889461</td>\n",
       "      <td>1957-01-01</td>\n",
       "      <td>2013-03-01</td>\n",
       "    </tr>\n",
       "    <tr>\n",
       "      <th>3</th>\n",
       "      <td>B0889491</td>\n",
       "      <td>1959-02-01</td>\n",
       "      <td>2013-06-01</td>\n",
       "    </tr>\n",
       "    <tr>\n",
       "      <th>4</th>\n",
       "      <td>B0889492</td>\n",
       "      <td>1959-02-01</td>\n",
       "      <td>2013-06-01</td>\n",
       "    </tr>\n",
       "  </tbody>\n",
       "</table>\n",
       "</div>"
      ],
      "text/plain": [
       "  ID_Customer        old     recent\n",
       "0    B0891376 1954-01-01 1954-01-01\n",
       "1    B0889436 1954-09-01 2016-01-01\n",
       "2    B0889461 1957-01-01 2013-03-01\n",
       "3    B0889491 1959-02-01 2013-06-01\n",
       "4    B0889492 1959-02-01 2013-06-01"
      ]
     },
     "execution_count": 12,
     "metadata": {},
     "output_type": "execute_result"
    }
   ],
   "source": [
    "test_dates.head()"
   ]
  },
  {
   "cell_type": "code",
   "execution_count": 13,
   "metadata": {
    "collapsed": true
   },
   "outputs": [],
   "source": [
    "train_data = get_previous(train_prod, train_data, pre_previous=True)\n",
    "test_data = get_previous(test_prod, test_data, pre_previous=True)"
   ]
  },
  {
   "cell_type": "code",
   "execution_count": 14,
   "metadata": {},
   "outputs": [
    {
     "data": {
      "text/html": [
       "<div>\n",
       "<style>\n",
       "    .dataframe thead tr:only-child th {\n",
       "        text-align: right;\n",
       "    }\n",
       "\n",
       "    .dataframe thead th {\n",
       "        text-align: left;\n",
       "    }\n",
       "\n",
       "    .dataframe tbody tr th {\n",
       "        vertical-align: top;\n",
       "    }\n",
       "</style>\n",
       "<table border=\"1\" class=\"dataframe\">\n",
       "  <thead>\n",
       "    <tr style=\"text-align: right;\">\n",
       "      <th></th>\n",
       "      <th>ID_Customer</th>\n",
       "      <th>num_products</th>\n",
       "      <th>Socio_Demo_01</th>\n",
       "      <th>Socio_Demo_02</th>\n",
       "      <th>Socio_Demo_03</th>\n",
       "      <th>Socio_Demo_04</th>\n",
       "      <th>Socio_Demo_05</th>\n",
       "      <th>Prod_601</th>\n",
       "      <th>Prod_704</th>\n",
       "      <th>Prod_2501</th>\n",
       "      <th>...</th>\n",
       "      <th>Prod_803</th>\n",
       "      <th>Prod_1308</th>\n",
       "      <th>Prod_2901</th>\n",
       "      <th>Prod_1312</th>\n",
       "      <th>Prod_502</th>\n",
       "      <th>Prod_2801</th>\n",
       "      <th>Prod_104</th>\n",
       "      <th>Prod_504</th>\n",
       "      <th>previous</th>\n",
       "      <th>pre_previous</th>\n",
       "    </tr>\n",
       "  </thead>\n",
       "  <tbody>\n",
       "    <tr>\n",
       "      <th>0</th>\n",
       "      <td>A0000001</td>\n",
       "      <td>4</td>\n",
       "      <td>5.0</td>\n",
       "      <td>4.0</td>\n",
       "      <td>3.0</td>\n",
       "      <td>1.0</td>\n",
       "      <td>0.0</td>\n",
       "      <td>1.0</td>\n",
       "      <td>0.0</td>\n",
       "      <td>1.0</td>\n",
       "      <td>...</td>\n",
       "      <td>0.0</td>\n",
       "      <td>0.0</td>\n",
       "      <td>0.0</td>\n",
       "      <td>0.0</td>\n",
       "      <td>0.0</td>\n",
       "      <td>0.0</td>\n",
       "      <td>0.0</td>\n",
       "      <td>0.0</td>\n",
       "      <td>1011</td>\n",
       "      <td>601</td>\n",
       "    </tr>\n",
       "    <tr>\n",
       "      <th>1</th>\n",
       "      <td>A0000002</td>\n",
       "      <td>3</td>\n",
       "      <td>5.0</td>\n",
       "      <td>5.0</td>\n",
       "      <td>1.0</td>\n",
       "      <td>1.0</td>\n",
       "      <td>0.0</td>\n",
       "      <td>1.0</td>\n",
       "      <td>0.0</td>\n",
       "      <td>0.0</td>\n",
       "      <td>...</td>\n",
       "      <td>0.0</td>\n",
       "      <td>0.0</td>\n",
       "      <td>0.0</td>\n",
       "      <td>0.0</td>\n",
       "      <td>0.0</td>\n",
       "      <td>0.0</td>\n",
       "      <td>0.0</td>\n",
       "      <td>0.0</td>\n",
       "      <td>801</td>\n",
       "      <td>601</td>\n",
       "    </tr>\n",
       "    <tr>\n",
       "      <th>2</th>\n",
       "      <td>A0000003</td>\n",
       "      <td>4</td>\n",
       "      <td>5.0</td>\n",
       "      <td>5.0</td>\n",
       "      <td>5.0</td>\n",
       "      <td>2.0</td>\n",
       "      <td>0.0</td>\n",
       "      <td>1.0</td>\n",
       "      <td>0.0</td>\n",
       "      <td>1.0</td>\n",
       "      <td>...</td>\n",
       "      <td>0.0</td>\n",
       "      <td>0.0</td>\n",
       "      <td>0.0</td>\n",
       "      <td>0.0</td>\n",
       "      <td>0.0</td>\n",
       "      <td>0.0</td>\n",
       "      <td>0.0</td>\n",
       "      <td>0.0</td>\n",
       "      <td>301</td>\n",
       "      <td>2503</td>\n",
       "    </tr>\n",
       "    <tr>\n",
       "      <th>3</th>\n",
       "      <td>A0000004</td>\n",
       "      <td>3</td>\n",
       "      <td>5.0</td>\n",
       "      <td>5.0</td>\n",
       "      <td>3.0</td>\n",
       "      <td>1.0</td>\n",
       "      <td>0.0</td>\n",
       "      <td>1.0</td>\n",
       "      <td>0.0</td>\n",
       "      <td>0.0</td>\n",
       "      <td>...</td>\n",
       "      <td>0.0</td>\n",
       "      <td>0.0</td>\n",
       "      <td>0.0</td>\n",
       "      <td>0.0</td>\n",
       "      <td>0.0</td>\n",
       "      <td>0.0</td>\n",
       "      <td>0.0</td>\n",
       "      <td>0.0</td>\n",
       "      <td>201</td>\n",
       "      <td>301</td>\n",
       "    </tr>\n",
       "    <tr>\n",
       "      <th>4</th>\n",
       "      <td>A0000005</td>\n",
       "      <td>1</td>\n",
       "      <td>5.0</td>\n",
       "      <td>5.0</td>\n",
       "      <td>3.0</td>\n",
       "      <td>1.0</td>\n",
       "      <td>0.0</td>\n",
       "      <td>0.0</td>\n",
       "      <td>0.0</td>\n",
       "      <td>0.0</td>\n",
       "      <td>...</td>\n",
       "      <td>0.0</td>\n",
       "      <td>0.0</td>\n",
       "      <td>0.0</td>\n",
       "      <td>0.0</td>\n",
       "      <td>0.0</td>\n",
       "      <td>0.0</td>\n",
       "      <td>0.0</td>\n",
       "      <td>0.0</td>\n",
       "      <td>301</td>\n",
       "      <td>0</td>\n",
       "    </tr>\n",
       "  </tbody>\n",
       "</table>\n",
       "<p>5 rows × 103 columns</p>\n",
       "</div>"
      ],
      "text/plain": [
       "  ID_Customer  num_products  Socio_Demo_01  Socio_Demo_02  Socio_Demo_03  \\\n",
       "0    A0000001             4            5.0            4.0            3.0   \n",
       "1    A0000002             3            5.0            5.0            1.0   \n",
       "2    A0000003             4            5.0            5.0            5.0   \n",
       "3    A0000004             3            5.0            5.0            3.0   \n",
       "4    A0000005             1            5.0            5.0            3.0   \n",
       "\n",
       "   Socio_Demo_04  Socio_Demo_05  Prod_601  Prod_704  Prod_2501      ...       \\\n",
       "0            1.0            0.0       1.0       0.0        1.0      ...        \n",
       "1            1.0            0.0       1.0       0.0        0.0      ...        \n",
       "2            2.0            0.0       1.0       0.0        1.0      ...        \n",
       "3            1.0            0.0       1.0       0.0        0.0      ...        \n",
       "4            1.0            0.0       0.0       0.0        0.0      ...        \n",
       "\n",
       "   Prod_803  Prod_1308  Prod_2901  Prod_1312  Prod_502  Prod_2801  Prod_104  \\\n",
       "0       0.0        0.0        0.0        0.0       0.0        0.0       0.0   \n",
       "1       0.0        0.0        0.0        0.0       0.0        0.0       0.0   \n",
       "2       0.0        0.0        0.0        0.0       0.0        0.0       0.0   \n",
       "3       0.0        0.0        0.0        0.0       0.0        0.0       0.0   \n",
       "4       0.0        0.0        0.0        0.0       0.0        0.0       0.0   \n",
       "\n",
       "   Prod_504  previous  pre_previous  \n",
       "0       0.0      1011           601  \n",
       "1       0.0       801           601  \n",
       "2       0.0       301          2503  \n",
       "3       0.0       201           301  \n",
       "4       0.0       301             0  \n",
       "\n",
       "[5 rows x 103 columns]"
      ]
     },
     "execution_count": 14,
     "metadata": {},
     "output_type": "execute_result"
    }
   ],
   "source": [
    "train_data.head()"
   ]
  },
  {
   "cell_type": "code",
   "execution_count": null,
   "metadata": {
    "collapsed": true
   },
   "outputs": [],
   "source": []
  },
  {
   "cell_type": "code",
   "execution_count": 15,
   "metadata": {},
   "outputs": [
    {
     "name": "stdout",
     "output_type": "stream",
     "text": [
      "oldest client in train data: 1954-03-01 00:00:00\n",
      "oldest client in test data: 1954-01-01 00:00:00\n"
     ]
    }
   ],
   "source": [
    "print('oldest client in train data:', min(train_dates.old))\n",
    "print('oldest client in test data:', min(test_dates.old))"
   ]
  },
  {
   "cell_type": "code",
   "execution_count": 16,
   "metadata": {},
   "outputs": [
    {
     "name": "stdout",
     "output_type": "stream",
     "text": [
      "most recent product in train data: 2017-03-01 00:00:00\n",
      "most recent product in test data: 2017-01-01 00:00:00\n"
     ]
    }
   ],
   "source": [
    "print('most recent product in train data:', max(train_dates.recent))\n",
    "print('most recent product in test data:', max(test_dates.recent))"
   ]
  },
  {
   "cell_type": "markdown",
   "metadata": {},
   "source": [
    "#### will use the most recent date as current date"
   ]
  },
  {
   "cell_type": "code",
   "execution_count": 17,
   "metadata": {
    "collapsed": true
   },
   "outputs": [],
   "source": [
    "current_date = max(train_dates.recent)"
   ]
  },
  {
   "cell_type": "code",
   "execution_count": 18,
   "metadata": {
    "collapsed": true
   },
   "outputs": [],
   "source": [
    "def from_current_date(date):\n",
    "    try:\n",
    "        days = (date - current_date).days\n",
    "    except:\n",
    "        days = 0\n",
    "    return days\n",
    "\n",
    "def time_variables(dataset, dates_dataset):\n",
    "    \"\"\"\n",
    "    \"\"\"\n",
    "    # get the number of days since the oldest product subscribed and since the most recent one\n",
    "    dates_dataset['delta_old'] = dates_dataset['old'].apply(from_current_date)\n",
    "    dates_dataset['delta_recent'] = dates_dataset['recent'].apply(from_current_date)\n",
    "    \n",
    "    dataset = dataset.merge(dates_dataset.drop(['old', 'recent'], axis=1), on='ID_Customer', how='left')\n",
    "    \n",
    "    # divide the difference of time between products by the number of products subscribed\n",
    "    dataset['dif_days_product'] = dataset.apply(lambda row: 0 if np.isnan(row['delta_old']) else (row['delta_old'] + row['delta_recent']) / row['num_products'], axis=1)\n",
    "    \n",
    "    # divide the number of days since the oldest product by the number of products subscribed\n",
    "    dataset['days_product'] = dataset.apply(lambda row: 0 if np.isnan(row['delta_old']) else row['delta_old'] / row['num_products'], axis=1)\n",
    "    \n",
    "    return dataset"
   ]
  },
  {
   "cell_type": "code",
   "execution_count": 19,
   "metadata": {},
   "outputs": [
    {
     "data": {
      "text/html": [
       "<div>\n",
       "<style>\n",
       "    .dataframe thead tr:only-child th {\n",
       "        text-align: right;\n",
       "    }\n",
       "\n",
       "    .dataframe thead th {\n",
       "        text-align: left;\n",
       "    }\n",
       "\n",
       "    .dataframe tbody tr th {\n",
       "        vertical-align: top;\n",
       "    }\n",
       "</style>\n",
       "<table border=\"1\" class=\"dataframe\">\n",
       "  <thead>\n",
       "    <tr style=\"text-align: right;\">\n",
       "      <th></th>\n",
       "      <th>ID_Customer</th>\n",
       "      <th>num_products</th>\n",
       "      <th>Socio_Demo_01</th>\n",
       "      <th>Socio_Demo_02</th>\n",
       "      <th>Socio_Demo_03</th>\n",
       "      <th>Socio_Demo_04</th>\n",
       "      <th>Socio_Demo_05</th>\n",
       "      <th>Prod_601</th>\n",
       "      <th>Prod_704</th>\n",
       "      <th>Prod_2501</th>\n",
       "      <th>...</th>\n",
       "      <th>Prod_502</th>\n",
       "      <th>Prod_2801</th>\n",
       "      <th>Prod_104</th>\n",
       "      <th>Prod_504</th>\n",
       "      <th>previous</th>\n",
       "      <th>pre_previous</th>\n",
       "      <th>delta_old</th>\n",
       "      <th>delta_recent</th>\n",
       "      <th>dif_days_product</th>\n",
       "      <th>days_product</th>\n",
       "    </tr>\n",
       "  </thead>\n",
       "  <tbody>\n",
       "    <tr>\n",
       "      <th>0</th>\n",
       "      <td>A0000001</td>\n",
       "      <td>4</td>\n",
       "      <td>5.0</td>\n",
       "      <td>4.0</td>\n",
       "      <td>3.0</td>\n",
       "      <td>1.0</td>\n",
       "      <td>0.0</td>\n",
       "      <td>1.0</td>\n",
       "      <td>0.0</td>\n",
       "      <td>1.0</td>\n",
       "      <td>...</td>\n",
       "      <td>0.0</td>\n",
       "      <td>0.0</td>\n",
       "      <td>0.0</td>\n",
       "      <td>0.0</td>\n",
       "      <td>1011</td>\n",
       "      <td>601</td>\n",
       "      <td>-4018.0</td>\n",
       "      <td>-2161.0</td>\n",
       "      <td>-1544.750000</td>\n",
       "      <td>-1004.500000</td>\n",
       "    </tr>\n",
       "    <tr>\n",
       "      <th>1</th>\n",
       "      <td>A0000002</td>\n",
       "      <td>3</td>\n",
       "      <td>5.0</td>\n",
       "      <td>5.0</td>\n",
       "      <td>1.0</td>\n",
       "      <td>1.0</td>\n",
       "      <td>0.0</td>\n",
       "      <td>1.0</td>\n",
       "      <td>0.0</td>\n",
       "      <td>0.0</td>\n",
       "      <td>...</td>\n",
       "      <td>0.0</td>\n",
       "      <td>0.0</td>\n",
       "      <td>0.0</td>\n",
       "      <td>0.0</td>\n",
       "      <td>801</td>\n",
       "      <td>601</td>\n",
       "      <td>-8036.0</td>\n",
       "      <td>-4046.0</td>\n",
       "      <td>-4027.333333</td>\n",
       "      <td>-2678.666667</td>\n",
       "    </tr>\n",
       "    <tr>\n",
       "      <th>2</th>\n",
       "      <td>A0000003</td>\n",
       "      <td>4</td>\n",
       "      <td>5.0</td>\n",
       "      <td>5.0</td>\n",
       "      <td>5.0</td>\n",
       "      <td>2.0</td>\n",
       "      <td>0.0</td>\n",
       "      <td>1.0</td>\n",
       "      <td>0.0</td>\n",
       "      <td>1.0</td>\n",
       "      <td>...</td>\n",
       "      <td>0.0</td>\n",
       "      <td>0.0</td>\n",
       "      <td>0.0</td>\n",
       "      <td>0.0</td>\n",
       "      <td>301</td>\n",
       "      <td>2503</td>\n",
       "      <td>-11443.0</td>\n",
       "      <td>-1765.0</td>\n",
       "      <td>-3302.000000</td>\n",
       "      <td>-2860.750000</td>\n",
       "    </tr>\n",
       "    <tr>\n",
       "      <th>3</th>\n",
       "      <td>A0000004</td>\n",
       "      <td>3</td>\n",
       "      <td>5.0</td>\n",
       "      <td>5.0</td>\n",
       "      <td>3.0</td>\n",
       "      <td>1.0</td>\n",
       "      <td>0.0</td>\n",
       "      <td>1.0</td>\n",
       "      <td>0.0</td>\n",
       "      <td>0.0</td>\n",
       "      <td>...</td>\n",
       "      <td>0.0</td>\n",
       "      <td>0.0</td>\n",
       "      <td>0.0</td>\n",
       "      <td>0.0</td>\n",
       "      <td>201</td>\n",
       "      <td>301</td>\n",
       "      <td>-3226.0</td>\n",
       "      <td>-821.0</td>\n",
       "      <td>-1349.000000</td>\n",
       "      <td>-1075.333333</td>\n",
       "    </tr>\n",
       "    <tr>\n",
       "      <th>4</th>\n",
       "      <td>A0000005</td>\n",
       "      <td>1</td>\n",
       "      <td>5.0</td>\n",
       "      <td>5.0</td>\n",
       "      <td>3.0</td>\n",
       "      <td>1.0</td>\n",
       "      <td>0.0</td>\n",
       "      <td>0.0</td>\n",
       "      <td>0.0</td>\n",
       "      <td>0.0</td>\n",
       "      <td>...</td>\n",
       "      <td>0.0</td>\n",
       "      <td>0.0</td>\n",
       "      <td>0.0</td>\n",
       "      <td>0.0</td>\n",
       "      <td>301</td>\n",
       "      <td>0</td>\n",
       "      <td>-12022.0</td>\n",
       "      <td>-12022.0</td>\n",
       "      <td>-24044.000000</td>\n",
       "      <td>-12022.000000</td>\n",
       "    </tr>\n",
       "  </tbody>\n",
       "</table>\n",
       "<p>5 rows × 107 columns</p>\n",
       "</div>"
      ],
      "text/plain": [
       "  ID_Customer  num_products  Socio_Demo_01  Socio_Demo_02  Socio_Demo_03  \\\n",
       "0    A0000001             4            5.0            4.0            3.0   \n",
       "1    A0000002             3            5.0            5.0            1.0   \n",
       "2    A0000003             4            5.0            5.0            5.0   \n",
       "3    A0000004             3            5.0            5.0            3.0   \n",
       "4    A0000005             1            5.0            5.0            3.0   \n",
       "\n",
       "   Socio_Demo_04  Socio_Demo_05  Prod_601  Prod_704  Prod_2501      ...       \\\n",
       "0            1.0            0.0       1.0       0.0        1.0      ...        \n",
       "1            1.0            0.0       1.0       0.0        0.0      ...        \n",
       "2            2.0            0.0       1.0       0.0        1.0      ...        \n",
       "3            1.0            0.0       1.0       0.0        0.0      ...        \n",
       "4            1.0            0.0       0.0       0.0        0.0      ...        \n",
       "\n",
       "   Prod_502  Prod_2801  Prod_104  Prod_504  previous  pre_previous  delta_old  \\\n",
       "0       0.0        0.0       0.0       0.0      1011           601    -4018.0   \n",
       "1       0.0        0.0       0.0       0.0       801           601    -8036.0   \n",
       "2       0.0        0.0       0.0       0.0       301          2503   -11443.0   \n",
       "3       0.0        0.0       0.0       0.0       201           301    -3226.0   \n",
       "4       0.0        0.0       0.0       0.0       301             0   -12022.0   \n",
       "\n",
       "   delta_recent  dif_days_product  days_product  \n",
       "0       -2161.0      -1544.750000  -1004.500000  \n",
       "1       -4046.0      -4027.333333  -2678.666667  \n",
       "2       -1765.0      -3302.000000  -2860.750000  \n",
       "3        -821.0      -1349.000000  -1075.333333  \n",
       "4      -12022.0     -24044.000000 -12022.000000  \n",
       "\n",
       "[5 rows x 107 columns]"
      ]
     },
     "execution_count": 19,
     "metadata": {},
     "output_type": "execute_result"
    }
   ],
   "source": [
    "train_data = time_variables(train_data, train_dates)\n",
    "train_data.head()"
   ]
  },
  {
   "cell_type": "code",
   "execution_count": 20,
   "metadata": {},
   "outputs": [
    {
     "data": {
      "text/html": [
       "<div>\n",
       "<style>\n",
       "    .dataframe thead tr:only-child th {\n",
       "        text-align: right;\n",
       "    }\n",
       "\n",
       "    .dataframe thead th {\n",
       "        text-align: left;\n",
       "    }\n",
       "\n",
       "    .dataframe tbody tr th {\n",
       "        vertical-align: top;\n",
       "    }\n",
       "</style>\n",
       "<table border=\"1\" class=\"dataframe\">\n",
       "  <thead>\n",
       "    <tr style=\"text-align: right;\">\n",
       "      <th></th>\n",
       "      <th>ID_Customer</th>\n",
       "      <th>num_products</th>\n",
       "      <th>Socio_Demo_01</th>\n",
       "      <th>Socio_Demo_02</th>\n",
       "      <th>Socio_Demo_03</th>\n",
       "      <th>Socio_Demo_04</th>\n",
       "      <th>Socio_Demo_05</th>\n",
       "      <th>Prod_601</th>\n",
       "      <th>Prod_301</th>\n",
       "      <th>Prod_1021</th>\n",
       "      <th>...</th>\n",
       "      <th>Prod_502</th>\n",
       "      <th>Prod_9992</th>\n",
       "      <th>Prod_2901</th>\n",
       "      <th>Prod_1308</th>\n",
       "      <th>previous</th>\n",
       "      <th>pre_previous</th>\n",
       "      <th>delta_old</th>\n",
       "      <th>delta_recent</th>\n",
       "      <th>dif_days_product</th>\n",
       "      <th>days_product</th>\n",
       "    </tr>\n",
       "  </thead>\n",
       "  <tbody>\n",
       "    <tr>\n",
       "      <th>0</th>\n",
       "      <td>B0676372</td>\n",
       "      <td>0</td>\n",
       "      <td>5.0</td>\n",
       "      <td>5.0</td>\n",
       "      <td>2.0</td>\n",
       "      <td>1.0</td>\n",
       "      <td>0.0</td>\n",
       "      <td>0.0</td>\n",
       "      <td>0.0</td>\n",
       "      <td>0.0</td>\n",
       "      <td>...</td>\n",
       "      <td>0.0</td>\n",
       "      <td>0.0</td>\n",
       "      <td>0.0</td>\n",
       "      <td>0.0</td>\n",
       "      <td>0</td>\n",
       "      <td>0</td>\n",
       "      <td>NaN</td>\n",
       "      <td>NaN</td>\n",
       "      <td>0.00</td>\n",
       "      <td>0.000</td>\n",
       "    </tr>\n",
       "    <tr>\n",
       "      <th>1</th>\n",
       "      <td>B0676373</td>\n",
       "      <td>0</td>\n",
       "      <td>5.0</td>\n",
       "      <td>5.0</td>\n",
       "      <td>2.0</td>\n",
       "      <td>1.0</td>\n",
       "      <td>0.0</td>\n",
       "      <td>0.0</td>\n",
       "      <td>0.0</td>\n",
       "      <td>0.0</td>\n",
       "      <td>...</td>\n",
       "      <td>0.0</td>\n",
       "      <td>0.0</td>\n",
       "      <td>0.0</td>\n",
       "      <td>0.0</td>\n",
       "      <td>0</td>\n",
       "      <td>0</td>\n",
       "      <td>NaN</td>\n",
       "      <td>NaN</td>\n",
       "      <td>0.00</td>\n",
       "      <td>0.000</td>\n",
       "    </tr>\n",
       "    <tr>\n",
       "      <th>2</th>\n",
       "      <td>B0676374</td>\n",
       "      <td>8</td>\n",
       "      <td>3.0</td>\n",
       "      <td>5.0</td>\n",
       "      <td>3.0</td>\n",
       "      <td>1.0</td>\n",
       "      <td>3.0</td>\n",
       "      <td>1.0</td>\n",
       "      <td>1.0</td>\n",
       "      <td>0.0</td>\n",
       "      <td>...</td>\n",
       "      <td>0.0</td>\n",
       "      <td>1.0</td>\n",
       "      <td>0.0</td>\n",
       "      <td>0.0</td>\n",
       "      <td>9992</td>\n",
       "      <td>1011</td>\n",
       "      <td>-7883.0</td>\n",
       "      <td>-759.0</td>\n",
       "      <td>-1080.25</td>\n",
       "      <td>-985.375</td>\n",
       "    </tr>\n",
       "    <tr>\n",
       "      <th>3</th>\n",
       "      <td>B0676376</td>\n",
       "      <td>4</td>\n",
       "      <td>5.0</td>\n",
       "      <td>5.0</td>\n",
       "      <td>3.0</td>\n",
       "      <td>2.0</td>\n",
       "      <td>0.0</td>\n",
       "      <td>1.0</td>\n",
       "      <td>0.0</td>\n",
       "      <td>0.0</td>\n",
       "      <td>...</td>\n",
       "      <td>0.0</td>\n",
       "      <td>0.0</td>\n",
       "      <td>0.0</td>\n",
       "      <td>0.0</td>\n",
       "      <td>707</td>\n",
       "      <td>201</td>\n",
       "      <td>-4687.0</td>\n",
       "      <td>-243.0</td>\n",
       "      <td>-1232.50</td>\n",
       "      <td>-1171.750</td>\n",
       "    </tr>\n",
       "    <tr>\n",
       "      <th>4</th>\n",
       "      <td>B0676377</td>\n",
       "      <td>1</td>\n",
       "      <td>5.0</td>\n",
       "      <td>5.0</td>\n",
       "      <td>3.0</td>\n",
       "      <td>2.0</td>\n",
       "      <td>0.0</td>\n",
       "      <td>1.0</td>\n",
       "      <td>0.0</td>\n",
       "      <td>0.0</td>\n",
       "      <td>...</td>\n",
       "      <td>0.0</td>\n",
       "      <td>0.0</td>\n",
       "      <td>0.0</td>\n",
       "      <td>0.0</td>\n",
       "      <td>601</td>\n",
       "      <td>0</td>\n",
       "      <td>-7456.0</td>\n",
       "      <td>-7456.0</td>\n",
       "      <td>-14912.00</td>\n",
       "      <td>-7456.000</td>\n",
       "    </tr>\n",
       "  </tbody>\n",
       "</table>\n",
       "<p>5 rows × 107 columns</p>\n",
       "</div>"
      ],
      "text/plain": [
       "  ID_Customer  num_products  Socio_Demo_01  Socio_Demo_02  Socio_Demo_03  \\\n",
       "0    B0676372             0            5.0            5.0            2.0   \n",
       "1    B0676373             0            5.0            5.0            2.0   \n",
       "2    B0676374             8            3.0            5.0            3.0   \n",
       "3    B0676376             4            5.0            5.0            3.0   \n",
       "4    B0676377             1            5.0            5.0            3.0   \n",
       "\n",
       "   Socio_Demo_04  Socio_Demo_05  Prod_601  Prod_301  Prod_1021      ...       \\\n",
       "0            1.0            0.0       0.0       0.0        0.0      ...        \n",
       "1            1.0            0.0       0.0       0.0        0.0      ...        \n",
       "2            1.0            3.0       1.0       1.0        0.0      ...        \n",
       "3            2.0            0.0       1.0       0.0        0.0      ...        \n",
       "4            2.0            0.0       1.0       0.0        0.0      ...        \n",
       "\n",
       "   Prod_502  Prod_9992  Prod_2901  Prod_1308  previous  pre_previous  \\\n",
       "0       0.0        0.0        0.0        0.0         0             0   \n",
       "1       0.0        0.0        0.0        0.0         0             0   \n",
       "2       0.0        1.0        0.0        0.0      9992          1011   \n",
       "3       0.0        0.0        0.0        0.0       707           201   \n",
       "4       0.0        0.0        0.0        0.0       601             0   \n",
       "\n",
       "   delta_old  delta_recent  dif_days_product  days_product  \n",
       "0        NaN           NaN              0.00         0.000  \n",
       "1        NaN           NaN              0.00         0.000  \n",
       "2    -7883.0        -759.0          -1080.25      -985.375  \n",
       "3    -4687.0        -243.0          -1232.50     -1171.750  \n",
       "4    -7456.0       -7456.0         -14912.00     -7456.000  \n",
       "\n",
       "[5 rows x 107 columns]"
      ]
     },
     "execution_count": 20,
     "metadata": {},
     "output_type": "execute_result"
    }
   ],
   "source": [
    "test_data = time_variables(test_data, test_dates)\n",
    "test_data.head()"
   ]
  },
  {
   "cell_type": "code",
   "execution_count": 21,
   "metadata": {
    "collapsed": true
   },
   "outputs": [],
   "source": [
    "def merge_xy_save(x_data, y_data, name):\n",
    "    \"\"\"\n",
    "    merges x data and y data and saves the file\n",
    "    \"\"\"\n",
    "    data = x_data.merge(y_data, on='ID_Customer', how='left')\n",
    "    \n",
    "    data.to_csv(name)"
   ]
  },
  {
   "cell_type": "code",
   "execution_count": 22,
   "metadata": {
    "collapsed": true
   },
   "outputs": [],
   "source": [
    "merge_xy_save(train_data, train_target, 'new_train3.csv')\n",
    "merge_xy_save(test_data, test_target, 'new_test3.csv')"
   ]
  },
  {
   "cell_type": "code",
   "execution_count": null,
   "metadata": {
    "collapsed": true
   },
   "outputs": [],
   "source": []
  },
  {
   "cell_type": "code",
   "execution_count": null,
   "metadata": {
    "collapsed": true
   },
   "outputs": [],
   "source": []
  },
  {
   "cell_type": "code",
   "execution_count": 3,
   "metadata": {
    "collapsed": true
   },
   "outputs": [],
   "source": [
    "train_data = pd.read_csv('new_train3.csv')\n",
    "test_data = pd.read_csv('new_test3.csv')"
   ]
  },
  {
   "cell_type": "code",
   "execution_count": 5,
   "metadata": {},
   "outputs": [
    {
     "data": {
      "text/plain": [
       "(676370, 109)"
      ]
     },
     "execution_count": 5,
     "metadata": {},
     "output_type": "execute_result"
    }
   ],
   "source": [
    "train_data.shape"
   ]
  },
  {
   "cell_type": "code",
   "execution_count": 6,
   "metadata": {},
   "outputs": [
    {
     "data": {
      "text/plain": [
       "(258989, 109)"
      ]
     },
     "execution_count": 6,
     "metadata": {},
     "output_type": "execute_result"
    }
   ],
   "source": [
    "test_data.shape"
   ]
  },
  {
   "cell_type": "markdown",
   "metadata": {
    "collapsed": true
   },
   "source": [
    "#### join all the data and get dumies for the categorical variables and then separate again"
   ]
  },
  {
   "cell_type": "code",
   "execution_count": 7,
   "metadata": {
    "collapsed": true
   },
   "outputs": [],
   "source": [
    "new = pd.concat([train_data, test_data])"
   ]
  },
  {
   "cell_type": "code",
   "execution_count": 8,
   "metadata": {
    "collapsed": true
   },
   "outputs": [],
   "source": [
    "new = pd.get_dummies(new,columns=['Socio_Demo_01'],drop_first=True)\n",
    "new = pd.get_dummies(new,columns=['Socio_Demo_02'],drop_first=True)\n",
    "new = pd.get_dummies(new,columns=['Socio_Demo_03'],drop_first=True)\n",
    "new = pd.get_dummies(new,columns=['Socio_Demo_04'],drop_first=True)\n",
    "new = pd.get_dummies(new,columns=['Socio_Demo_05'],drop_first=True)\n",
    "new = pd.get_dummies(new,columns=['previous'],drop_first=True)\n",
    "new = pd.get_dummies(new,columns=['pre_previous'],drop_first=True)"
   ]
  },
  {
   "cell_type": "code",
   "execution_count": 9,
   "metadata": {
    "collapsed": true
   },
   "outputs": [],
   "source": [
    "train_data = new.iloc[:676370]\n",
    "test_data = new.iloc[676371:]"
   ]
  },
  {
   "cell_type": "markdown",
   "metadata": {
    "collapsed": true
   },
   "source": [
    "## Random Forests"
   ]
  },
  {
   "cell_type": "markdown",
   "metadata": {},
   "source": [
    "### Training and testing on the train file with spliting"
   ]
  },
  {
   "cell_type": "code",
   "execution_count": 10,
   "metadata": {
    "collapsed": true
   },
   "outputs": [],
   "source": [
    "X_train, X_test, y_train, y_test = train_test_split(train_data, train_data['last_prod'])"
   ]
  },
  {
   "cell_type": "code",
   "execution_count": 11,
   "metadata": {},
   "outputs": [
    {
     "data": {
      "text/plain": [
       "RandomForestClassifier(bootstrap=True, class_weight=None, criterion='entropy',\n",
       "            max_depth=None, max_features=0.2, max_leaf_nodes=None,\n",
       "            min_impurity_decrease=0.0, min_impurity_split=None,\n",
       "            min_samples_leaf=50, min_samples_split=2,\n",
       "            min_weight_fraction_leaf=0.0, n_estimators=100, n_jobs=1,\n",
       "            oob_score=False, random_state=None, verbose=0,\n",
       "            warm_start=False)"
      ]
     },
     "execution_count": 11,
     "metadata": {},
     "output_type": "execute_result"
    }
   ],
   "source": [
    "model = RandomForestClassifier(n_estimators=100, max_features=0.2, min_samples_leaf=50, criterion='entropy')\n",
    "model.fit(X_train.fillna(0).drop(['ID_Customer', 'last_prod', 'Unnamed: 0'], axis=1), y_train)"
   ]
  },
  {
   "cell_type": "code",
   "execution_count": 12,
   "metadata": {},
   "outputs": [
    {
     "name": "stdout",
     "output_type": "stream",
     "text": [
      "0.575310627879\n"
     ]
    }
   ],
   "source": [
    "print(accuracy_score(y_test, model.predict(X_test.fillna(0).drop(['ID_Customer', 'last_prod', 'Unnamed: 0'], axis=1))))"
   ]
  },
  {
   "cell_type": "code",
   "execution_count": null,
   "metadata": {
    "collapsed": true
   },
   "outputs": [],
   "source": []
  },
  {
   "cell_type": "markdown",
   "metadata": {},
   "source": [
    "### Train on training file and testing on test file"
   ]
  },
  {
   "cell_type": "code",
   "execution_count": 39,
   "metadata": {},
   "outputs": [
    {
     "data": {
      "text/plain": [
       "RandomForestClassifier(bootstrap=True, class_weight=None, criterion='entropy',\n",
       "            max_depth=None, max_features=0.2, max_leaf_nodes=None,\n",
       "            min_impurity_decrease=0.0, min_impurity_split=None,\n",
       "            min_samples_leaf=50, min_samples_split=2,\n",
       "            min_weight_fraction_leaf=0.0, n_estimators=100, n_jobs=1,\n",
       "            oob_score=False, random_state=None, verbose=0,\n",
       "            warm_start=False)"
      ]
     },
     "execution_count": 39,
     "metadata": {},
     "output_type": "execute_result"
    }
   ],
   "source": [
    "model = RandomForestClassifier(n_estimators=100, max_features=0.2, min_samples_leaf=50, criterion='entropy')\n",
    "model.fit(train_data.fillna(0).drop(['ID_Customer', 'last_prod', 'Unnamed: 0'], axis=1), train_data['last_prod'])"
   ]
  },
  {
   "cell_type": "code",
   "execution_count": 40,
   "metadata": {},
   "outputs": [
    {
     "name": "stdout",
     "output_type": "stream",
     "text": [
      "0.443561091634\n"
     ]
    }
   ],
   "source": [
    "print(accuracy_score(test_data['last_prod'], model.predict(test_data.fillna(0).drop(['ID_Customer', 'last_prod', 'Unnamed: 0'], axis=1))))"
   ]
  },
  {
   "cell_type": "markdown",
   "metadata": {
    "collapsed": true
   },
   "source": [
    "### Features importance"
   ]
  },
  {
   "cell_type": "code",
   "execution_count": 16,
   "metadata": {},
   "outputs": [
    {
     "data": {
      "text/plain": [
       "<matplotlib.axes._subplots.AxesSubplot at 0x1a18fd706a0>"
      ]
     },
     "execution_count": 16,
     "metadata": {},
     "output_type": "execute_result"
    },
    {
     "data": {
      "image/png": "[encoded data removed]",
      "text/plain": [
       "<matplotlib.figure.Figure at 0x1a190240b70>"
      ]
     },
     "metadata": {},
     "output_type": "display_data"
    }
   ],
   "source": [
    "plt.figure(figsize=(20,50))\n",
    "sns.barplot(model.feature_importances_, train_data.drop(['ID_Customer','Unnamed: 0', 'last_prod'], axis=1).columns)"
   ]
  },
  {
   "cell_type": "markdown",
   "metadata": {
    "collapsed": true
   },
   "source": [
    "## XGBOOST"
   ]
  },
  {
   "cell_type": "code",
   "execution_count": 2,
   "metadata": {
    "collapsed": true
   },
   "outputs": [],
   "source": [
    "import xgboost as xgb"
   ]
  },
  {
   "cell_type": "code",
   "execution_count": 3,
   "metadata": {
    "collapsed": true
   },
   "outputs": [],
   "source": [
    "train_data = pd.read_csv('new_train3.csv')\n",
    "test_data = pd.read_csv('new_test3.csv')"
   ]
  },
  {
   "cell_type": "code",
   "execution_count": 4,
   "metadata": {
    "collapsed": true
   },
   "outputs": [],
   "source": [
    "new = pd.concat([train_data, test_data])"
   ]
  },
  {
   "cell_type": "markdown",
   "metadata": {},
   "source": [
    "#### encode last product"
   ]
  },
  {
   "cell_type": "code",
   "execution_count": 5,
   "metadata": {},
   "outputs": [
    {
     "data": {
      "text/plain": [
       "array([ 101,  102,  103,  104,  201,  301,  503,  504,  506,  601,  702,\n",
       "        703,  704,  705,  706,  707,  708,  801,  803,  804, 1001, 1002,\n",
       "       1004, 1005, 1006, 1007, 1008, 1009, 1010, 1011, 1012, 1013, 1014,\n",
       "       1015, 1017, 1019, 1020, 1021, 1022, 1301, 1302, 1303, 1304, 1305,\n",
       "       1306, 1307, 1308, 1309, 1310, 1311, 1401, 1501, 1801, 1802, 1803,\n",
       "       1804, 1805, 1806, 2102, 2103, 2104, 2105, 2106, 2201, 2202, 2203,\n",
       "       2204, 2205, 2206, 2301, 2302, 2401, 2501, 2503, 2601, 2602, 2701,\n",
       "       2702, 2703, 2704, 2705, 2706, 2707, 2801, 2901, 3001, 3101, 3401,\n",
       "       9991, 9992, 9993], dtype=int64)"
      ]
     },
     "execution_count": 5,
     "metadata": {},
     "output_type": "execute_result"
    }
   ],
   "source": [
    "from sklearn.preprocessing import LabelEncoder,OneHotEncoder\n",
    "le = LabelEncoder()\n",
    "le.fit(new['last_prod'])\n",
    "le.classes_"
   ]
  },
  {
   "cell_type": "code",
   "execution_count": 6,
   "metadata": {
    "collapsed": true
   },
   "outputs": [],
   "source": [
    "target = le.transform(new['last_prod'])"
   ]
  },
  {
   "cell_type": "markdown",
   "metadata": {},
   "source": [
    "#### normalize the columns with days"
   ]
  },
  {
   "cell_type": "code",
   "execution_count": 7,
   "metadata": {
    "collapsed": true
   },
   "outputs": [],
   "source": [
    "from sklearn.preprocessing import normalize"
   ]
  },
  {
   "cell_type": "code",
   "execution_count": 8,
   "metadata": {
    "collapsed": true
   },
   "outputs": [],
   "source": [
    "to_normalize = new[['delta_old', 'delta_recent', 'dif_days_product', 'days_product']].fillna(0)"
   ]
  },
  {
   "cell_type": "code",
   "execution_count": 9,
   "metadata": {
    "collapsed": true
   },
   "outputs": [],
   "source": [
    "normalized = normalize(to_normalize, norm='l2')"
   ]
  },
  {
   "cell_type": "code",
   "execution_count": 10,
   "metadata": {
    "collapsed": true
   },
   "outputs": [],
   "source": [
    "new[['delta_old', 'delta_recent', 'dif_days_product', 'days_product']] = normalized"
   ]
  },
  {
   "cell_type": "code",
   "execution_count": 11,
   "metadata": {},
   "outputs": [
    {
     "data": {
      "text/html": [
       "<div>\n",
       "<style>\n",
       "    .dataframe thead tr:only-child th {\n",
       "        text-align: right;\n",
       "    }\n",
       "\n",
       "    .dataframe thead th {\n",
       "        text-align: left;\n",
       "    }\n",
       "\n",
       "    .dataframe tbody tr th {\n",
       "        vertical-align: top;\n",
       "    }\n",
       "</style>\n",
       "<table border=\"1\" class=\"dataframe\">\n",
       "  <thead>\n",
       "    <tr style=\"text-align: right;\">\n",
       "      <th></th>\n",
       "      <th>ID_Customer</th>\n",
       "      <th>Prod_1001</th>\n",
       "      <th>Prod_1002</th>\n",
       "      <th>Prod_1004</th>\n",
       "      <th>Prod_1005</th>\n",
       "      <th>Prod_1006</th>\n",
       "      <th>Prod_1007</th>\n",
       "      <th>Prod_1008</th>\n",
       "      <th>Prod_1009</th>\n",
       "      <th>Prod_101</th>\n",
       "      <th>...</th>\n",
       "      <th>Socio_Demo_05</th>\n",
       "      <th>Unnamed: 0</th>\n",
       "      <th>days_product</th>\n",
       "      <th>delta_old</th>\n",
       "      <th>delta_recent</th>\n",
       "      <th>dif_days_product</th>\n",
       "      <th>last_prod</th>\n",
       "      <th>num_products</th>\n",
       "      <th>pre_previous</th>\n",
       "      <th>previous</th>\n",
       "    </tr>\n",
       "  </thead>\n",
       "  <tbody>\n",
       "    <tr>\n",
       "      <th>0</th>\n",
       "      <td>A0000001</td>\n",
       "      <td>0.0</td>\n",
       "      <td>0.0</td>\n",
       "      <td>0.0</td>\n",
       "      <td>0.0</td>\n",
       "      <td>0.0</td>\n",
       "      <td>0.0</td>\n",
       "      <td>0.0</td>\n",
       "      <td>0.0</td>\n",
       "      <td>0.0</td>\n",
       "      <td>...</td>\n",
       "      <td>0.0</td>\n",
       "      <td>0</td>\n",
       "      <td>-0.204154</td>\n",
       "      <td>-0.816614</td>\n",
       "      <td>-0.439199</td>\n",
       "      <td>-0.313953</td>\n",
       "      <td>704</td>\n",
       "      <td>4</td>\n",
       "      <td>601</td>\n",
       "      <td>1011</td>\n",
       "    </tr>\n",
       "    <tr>\n",
       "      <th>1</th>\n",
       "      <td>A0000002</td>\n",
       "      <td>0.0</td>\n",
       "      <td>0.0</td>\n",
       "      <td>0.0</td>\n",
       "      <td>0.0</td>\n",
       "      <td>0.0</td>\n",
       "      <td>0.0</td>\n",
       "      <td>0.0</td>\n",
       "      <td>0.0</td>\n",
       "      <td>0.0</td>\n",
       "      <td>...</td>\n",
       "      <td>0.0</td>\n",
       "      <td>1</td>\n",
       "      <td>-0.262234</td>\n",
       "      <td>-0.786702</td>\n",
       "      <td>-0.396092</td>\n",
       "      <td>-0.394265</td>\n",
       "      <td>9992</td>\n",
       "      <td>3</td>\n",
       "      <td>601</td>\n",
       "      <td>801</td>\n",
       "    </tr>\n",
       "    <tr>\n",
       "      <th>2</th>\n",
       "      <td>A0000003</td>\n",
       "      <td>0.0</td>\n",
       "      <td>0.0</td>\n",
       "      <td>0.0</td>\n",
       "      <td>0.0</td>\n",
       "      <td>0.0</td>\n",
       "      <td>0.0</td>\n",
       "      <td>0.0</td>\n",
       "      <td>0.0</td>\n",
       "      <td>0.0</td>\n",
       "      <td>...</td>\n",
       "      <td>0.0</td>\n",
       "      <td>2</td>\n",
       "      <td>-0.231169</td>\n",
       "      <td>-0.924675</td>\n",
       "      <td>-0.142624</td>\n",
       "      <td>-0.266825</td>\n",
       "      <td>201</td>\n",
       "      <td>4</td>\n",
       "      <td>2503</td>\n",
       "      <td>301</td>\n",
       "    </tr>\n",
       "    <tr>\n",
       "      <th>3</th>\n",
       "      <td>A0000004</td>\n",
       "      <td>0.0</td>\n",
       "      <td>0.0</td>\n",
       "      <td>0.0</td>\n",
       "      <td>0.0</td>\n",
       "      <td>0.0</td>\n",
       "      <td>0.0</td>\n",
       "      <td>0.0</td>\n",
       "      <td>0.0</td>\n",
       "      <td>0.0</td>\n",
       "      <td>...</td>\n",
       "      <td>0.0</td>\n",
       "      <td>3</td>\n",
       "      <td>-0.286809</td>\n",
       "      <td>-0.860427</td>\n",
       "      <td>-0.218974</td>\n",
       "      <td>-0.359800</td>\n",
       "      <td>2301</td>\n",
       "      <td>3</td>\n",
       "      <td>301</td>\n",
       "      <td>201</td>\n",
       "    </tr>\n",
       "    <tr>\n",
       "      <th>4</th>\n",
       "      <td>A0000005</td>\n",
       "      <td>0.0</td>\n",
       "      <td>0.0</td>\n",
       "      <td>0.0</td>\n",
       "      <td>0.0</td>\n",
       "      <td>0.0</td>\n",
       "      <td>0.0</td>\n",
       "      <td>0.0</td>\n",
       "      <td>0.0</td>\n",
       "      <td>0.0</td>\n",
       "      <td>...</td>\n",
       "      <td>0.0</td>\n",
       "      <td>4</td>\n",
       "      <td>-0.377964</td>\n",
       "      <td>-0.377964</td>\n",
       "      <td>-0.377964</td>\n",
       "      <td>-0.755929</td>\n",
       "      <td>601</td>\n",
       "      <td>1</td>\n",
       "      <td>0</td>\n",
       "      <td>301</td>\n",
       "    </tr>\n",
       "  </tbody>\n",
       "</table>\n",
       "<p>5 rows × 109 columns</p>\n",
       "</div>"
      ],
      "text/plain": [
       "  ID_Customer  Prod_1001  Prod_1002  Prod_1004  Prod_1005  Prod_1006  \\\n",
       "0    A0000001        0.0        0.0        0.0        0.0        0.0   \n",
       "1    A0000002        0.0        0.0        0.0        0.0        0.0   \n",
       "2    A0000003        0.0        0.0        0.0        0.0        0.0   \n",
       "3    A0000004        0.0        0.0        0.0        0.0        0.0   \n",
       "4    A0000005        0.0        0.0        0.0        0.0        0.0   \n",
       "\n",
       "   Prod_1007  Prod_1008  Prod_1009  Prod_101    ...     Socio_Demo_05  \\\n",
       "0        0.0        0.0        0.0       0.0    ...               0.0   \n",
       "1        0.0        0.0        0.0       0.0    ...               0.0   \n",
       "2        0.0        0.0        0.0       0.0    ...               0.0   \n",
       "3        0.0        0.0        0.0       0.0    ...               0.0   \n",
       "4        0.0        0.0        0.0       0.0    ...               0.0   \n",
       "\n",
       "   Unnamed: 0  days_product  delta_old  delta_recent  dif_days_product  \\\n",
       "0           0     -0.204154  -0.816614     -0.439199         -0.313953   \n",
       "1           1     -0.262234  -0.786702     -0.396092         -0.394265   \n",
       "2           2     -0.231169  -0.924675     -0.142624         -0.266825   \n",
       "3           3     -0.286809  -0.860427     -0.218974         -0.359800   \n",
       "4           4     -0.377964  -0.377964     -0.377964         -0.755929   \n",
       "\n",
       "   last_prod  num_products  pre_previous  previous  \n",
       "0        704             4           601      1011  \n",
       "1       9992             3           601       801  \n",
       "2        201             4          2503       301  \n",
       "3       2301             3           301       201  \n",
       "4        601             1             0       301  \n",
       "\n",
       "[5 rows x 109 columns]"
      ]
     },
     "execution_count": 11,
     "metadata": {},
     "output_type": "execute_result"
    }
   ],
   "source": [
    "new.head()"
   ]
  },
  {
   "cell_type": "code",
   "execution_count": 12,
   "metadata": {
    "collapsed": true
   },
   "outputs": [],
   "source": [
    "new = pd.get_dummies(new,columns=['Socio_Demo_01'],drop_first=True)\n",
    "new = pd.get_dummies(new,columns=['Socio_Demo_02'],drop_first=True)\n",
    "new = pd.get_dummies(new,columns=['Socio_Demo_03'],drop_first=True)\n",
    "new = pd.get_dummies(new,columns=['Socio_Demo_04'],drop_first=True)\n",
    "new = pd.get_dummies(new,columns=['Socio_Demo_05'],drop_first=True)\n",
    "# new = pd.get_dummies(new,columns=['previous'],drop_first=True)"
   ]
  },
  {
   "cell_type": "code",
   "execution_count": 13,
   "metadata": {
    "collapsed": true
   },
   "outputs": [],
   "source": [
    "train_target = target[:676370]\n",
    "test_target = target[676371:]"
   ]
  },
  {
   "cell_type": "code",
   "execution_count": 14,
   "metadata": {
    "collapsed": true
   },
   "outputs": [],
   "source": [
    "train_data = new[:676370]\n",
    "test_data = new[676371:]"
   ]
  },
  {
   "cell_type": "code",
   "execution_count": 17,
   "metadata": {
    "collapsed": true
   },
   "outputs": [],
   "source": [
    "dtrain=xgb.DMatrix(train_data.fillna(0).drop(['ID_Customer', 'last_prod', 'Unnamed: 0', 'pre_previous'], axis=1),label=train_target)\n",
    "dtest=xgb.DMatrix(test_data.fillna(0).drop(['ID_Customer', 'last_prod', 'Unnamed: 0', 'pre_previous'], axis=1), label=test_target)"
   ]
  },
  {
   "cell_type": "code",
   "execution_count": 18,
   "metadata": {
    "collapsed": true
   },
   "outputs": [],
   "source": [
    "parameters={'max_depth':8, 'eta':1,'objective':'multi:softmax','eval_metric':'mlogloss','learning_rate':0.05, 'num_class':91}\n",
    "num_round=10\n",
    "xg=xgb.train(parameters,dtrain,num_round)"
   ]
  },
  {
   "cell_type": "code",
   "execution_count": 19,
   "metadata": {
    "collapsed": true
   },
   "outputs": [],
   "source": [
    "predictions = xg.predict(dtest)"
   ]
  },
  {
   "cell_type": "code",
   "execution_count": 20,
   "metadata": {},
   "outputs": [
    {
     "name": "stdout",
     "output_type": "stream",
     "text": [
      "0.443561091634\n"
     ]
    }
   ],
   "source": [
    "print(accuracy_score(le.transform(test_data['last_prod']), predictions))"
   ]
  },
  {
   "cell_type": "code",
   "execution_count": null,
   "metadata": {
    "collapsed": true
   },
   "outputs": [],
   "source": []
  },
  {
   "cell_type": "code",
   "execution_count": null,
   "metadata": {
    "collapsed": true
   },
   "outputs": [],
   "source": []
  },
  {
   "cell_type": "code",
   "execution_count": null,
   "metadata": {
    "collapsed": true
   },
   "outputs": [],
   "source": []
  },
  {
   "cell_type": "code",
   "execution_count": null,
   "metadata": {
    "collapsed": true
   },
   "outputs": [],
   "source": []
  },
  {
   "cell_type": "code",
   "execution_count": 13,
   "metadata": {
    "collapsed": true
   },
   "outputs": [],
   "source": [
    "from sklearn.ensemble import AdaBoostClassifier"
   ]
  },
  {
   "cell_type": "code",
   "execution_count": 51,
   "metadata": {},
   "outputs": [
    {
     "ename": "MemoryError",
     "evalue": "",
     "output_type": "error",
     "traceback": [
      "\u001b[1;31m---------------------------------------------------------------------------\u001b[0m",
      "\u001b[1;31mMemoryError\u001b[0m                               Traceback (most recent call last)",
      "\u001b[1;32m<ipython-input-51-63b458ba7d5a>\u001b[0m in \u001b[0;36m<module>\u001b[1;34m()\u001b[0m\n\u001b[0;32m      1\u001b[0m \u001b[0mada\u001b[0m \u001b[1;33m=\u001b[0m \u001b[0mAdaBoostClassifier\u001b[0m\u001b[1;33m(\u001b[0m\u001b[0mn_estimators\u001b[0m\u001b[1;33m=\u001b[0m\u001b[1;36m300\u001b[0m\u001b[1;33m)\u001b[0m\u001b[1;33m\u001b[0m\u001b[0m\n\u001b[1;32m----> 2\u001b[1;33m \u001b[0mada\u001b[0m\u001b[1;33m.\u001b[0m\u001b[0mfit\u001b[0m\u001b[1;33m(\u001b[0m\u001b[0mtrain_data\u001b[0m\u001b[1;33m.\u001b[0m\u001b[0mfillna\u001b[0m\u001b[1;33m(\u001b[0m\u001b[1;36m0\u001b[0m\u001b[1;33m)\u001b[0m\u001b[1;33m.\u001b[0m\u001b[0mdrop\u001b[0m\u001b[1;33m(\u001b[0m\u001b[1;33m[\u001b[0m\u001b[1;34m'ID_Customer'\u001b[0m\u001b[1;33m,\u001b[0m \u001b[1;34m'last_prod'\u001b[0m\u001b[1;33m,\u001b[0m \u001b[1;34m'Unnamed: 0'\u001b[0m\u001b[1;33m]\u001b[0m\u001b[1;33m,\u001b[0m \u001b[0maxis\u001b[0m\u001b[1;33m=\u001b[0m\u001b[1;36m1\u001b[0m\u001b[1;33m)\u001b[0m\u001b[1;33m,\u001b[0m \u001b[0mtrain_data\u001b[0m\u001b[1;33m[\u001b[0m\u001b[1;34m'last_prod'\u001b[0m\u001b[1;33m]\u001b[0m\u001b[1;33m)\u001b[0m\u001b[1;33m\u001b[0m\u001b[0m\n\u001b[0m",
      "\u001b[1;32mC:\\ProgramData\\Anaconda3\\lib\\site-packages\\pandas\\core\\frame.py\u001b[0m in \u001b[0;36mfillna\u001b[1;34m(self, value, method, axis, inplace, limit, downcast, **kwargs)\u001b[0m\n\u001b[0;32m   2752\u001b[0m                      \u001b[0mself\u001b[0m\u001b[1;33m)\u001b[0m\u001b[1;33m.\u001b[0m\u001b[0mfillna\u001b[0m\u001b[1;33m(\u001b[0m\u001b[0mvalue\u001b[0m\u001b[1;33m=\u001b[0m\u001b[0mvalue\u001b[0m\u001b[1;33m,\u001b[0m \u001b[0mmethod\u001b[0m\u001b[1;33m=\u001b[0m\u001b[0mmethod\u001b[0m\u001b[1;33m,\u001b[0m \u001b[0maxis\u001b[0m\u001b[1;33m=\u001b[0m\u001b[0maxis\u001b[0m\u001b[1;33m,\u001b[0m\u001b[1;33m\u001b[0m\u001b[0m\n\u001b[0;32m   2753\u001b[0m                                   \u001b[0minplace\u001b[0m\u001b[1;33m=\u001b[0m\u001b[0minplace\u001b[0m\u001b[1;33m,\u001b[0m \u001b[0mlimit\u001b[0m\u001b[1;33m=\u001b[0m\u001b[0mlimit\u001b[0m\u001b[1;33m,\u001b[0m\u001b[1;33m\u001b[0m\u001b[0m\n\u001b[1;32m-> 2754\u001b[1;33m                                   downcast=downcast, **kwargs)\n\u001b[0m\u001b[0;32m   2755\u001b[0m \u001b[1;33m\u001b[0m\u001b[0m\n\u001b[0;32m   2756\u001b[0m     \u001b[1;33m@\u001b[0m\u001b[0mAppender\u001b[0m\u001b[1;33m(\u001b[0m\u001b[0m_shared_docs\u001b[0m\u001b[1;33m[\u001b[0m\u001b[1;34m'shift'\u001b[0m\u001b[1;33m]\u001b[0m \u001b[1;33m%\u001b[0m \u001b[0m_shared_doc_kwargs\u001b[0m\u001b[1;33m)\u001b[0m\u001b[1;33m\u001b[0m\u001b[0m\n",
      "\u001b[1;32mC:\\ProgramData\\Anaconda3\\lib\\site-packages\\pandas\\core\\generic.py\u001b[0m in \u001b[0;36mfillna\u001b[1;34m(self, value, method, axis, inplace, limit, downcast)\u001b[0m\n\u001b[0;32m   3651\u001b[0m                 new_data = self._data.fillna(value=value, limit=limit,\n\u001b[0;32m   3652\u001b[0m                                              \u001b[0minplace\u001b[0m\u001b[1;33m=\u001b[0m\u001b[0minplace\u001b[0m\u001b[1;33m,\u001b[0m\u001b[1;33m\u001b[0m\u001b[0m\n\u001b[1;32m-> 3653\u001b[1;33m                                              downcast=downcast)\n\u001b[0m\u001b[0;32m   3654\u001b[0m             \u001b[1;32melif\u001b[0m \u001b[0misinstance\u001b[0m\u001b[1;33m(\u001b[0m\u001b[0mvalue\u001b[0m\u001b[1;33m,\u001b[0m \u001b[0mDataFrame\u001b[0m\u001b[1;33m)\u001b[0m \u001b[1;32mand\u001b[0m \u001b[0mself\u001b[0m\u001b[1;33m.\u001b[0m\u001b[0mndim\u001b[0m \u001b[1;33m==\u001b[0m \u001b[1;36m2\u001b[0m\u001b[1;33m:\u001b[0m\u001b[1;33m\u001b[0m\u001b[0m\n\u001b[0;32m   3655\u001b[0m                 \u001b[0mnew_data\u001b[0m \u001b[1;33m=\u001b[0m \u001b[0mself\u001b[0m\u001b[1;33m.\u001b[0m\u001b[0mwhere\u001b[0m\u001b[1;33m(\u001b[0m\u001b[0mself\u001b[0m\u001b[1;33m.\u001b[0m\u001b[0mnotnull\u001b[0m\u001b[1;33m(\u001b[0m\u001b[1;33m)\u001b[0m\u001b[1;33m,\u001b[0m \u001b[0mvalue\u001b[0m\u001b[1;33m)\u001b[0m\u001b[1;33m\u001b[0m\u001b[0m\n",
      "\u001b[1;32mC:\\ProgramData\\Anaconda3\\lib\\site-packages\\pandas\\core\\internals.py\u001b[0m in \u001b[0;36mfillna\u001b[1;34m(self, **kwargs)\u001b[0m\n\u001b[0;32m   3216\u001b[0m \u001b[1;33m\u001b[0m\u001b[0m\n\u001b[0;32m   3217\u001b[0m     \u001b[1;32mdef\u001b[0m \u001b[0mfillna\u001b[0m\u001b[1;33m(\u001b[0m\u001b[0mself\u001b[0m\u001b[1;33m,\u001b[0m \u001b[1;33m**\u001b[0m\u001b[0mkwargs\u001b[0m\u001b[1;33m)\u001b[0m\u001b[1;33m:\u001b[0m\u001b[1;33m\u001b[0m\u001b[0m\n\u001b[1;32m-> 3218\u001b[1;33m         \u001b[1;32mreturn\u001b[0m \u001b[0mself\u001b[0m\u001b[1;33m.\u001b[0m\u001b[0mapply\u001b[0m\u001b[1;33m(\u001b[0m\u001b[1;34m'fillna'\u001b[0m\u001b[1;33m,\u001b[0m \u001b[1;33m**\u001b[0m\u001b[0mkwargs\u001b[0m\u001b[1;33m)\u001b[0m\u001b[1;33m\u001b[0m\u001b[0m\n\u001b[0m\u001b[0;32m   3219\u001b[0m \u001b[1;33m\u001b[0m\u001b[0m\n\u001b[0;32m   3220\u001b[0m     \u001b[1;32mdef\u001b[0m \u001b[0mdowncast\u001b[0m\u001b[1;33m(\u001b[0m\u001b[0mself\u001b[0m\u001b[1;33m,\u001b[0m \u001b[1;33m**\u001b[0m\u001b[0mkwargs\u001b[0m\u001b[1;33m)\u001b[0m\u001b[1;33m:\u001b[0m\u001b[1;33m\u001b[0m\u001b[0m\n",
      "\u001b[1;32mC:\\ProgramData\\Anaconda3\\lib\\site-packages\\pandas\\core\\internals.py\u001b[0m in \u001b[0;36mapply\u001b[1;34m(self, f, axes, filter, do_integrity_check, consolidate, **kwargs)\u001b[0m\n\u001b[0;32m   3089\u001b[0m \u001b[1;33m\u001b[0m\u001b[0m\n\u001b[0;32m   3090\u001b[0m             \u001b[0mkwargs\u001b[0m\u001b[1;33m[\u001b[0m\u001b[1;34m'mgr'\u001b[0m\u001b[1;33m]\u001b[0m \u001b[1;33m=\u001b[0m \u001b[0mself\u001b[0m\u001b[1;33m\u001b[0m\u001b[0m\n\u001b[1;32m-> 3091\u001b[1;33m             \u001b[0mapplied\u001b[0m \u001b[1;33m=\u001b[0m \u001b[0mgetattr\u001b[0m\u001b[1;33m(\u001b[0m\u001b[0mb\u001b[0m\u001b[1;33m,\u001b[0m \u001b[0mf\u001b[0m\u001b[1;33m)\u001b[0m\u001b[1;33m(\u001b[0m\u001b[1;33m**\u001b[0m\u001b[0mkwargs\u001b[0m\u001b[1;33m)\u001b[0m\u001b[1;33m\u001b[0m\u001b[0m\n\u001b[0m\u001b[0;32m   3092\u001b[0m             \u001b[0mresult_blocks\u001b[0m \u001b[1;33m=\u001b[0m \u001b[0m_extend_blocks\u001b[0m\u001b[1;33m(\u001b[0m\u001b[0mapplied\u001b[0m\u001b[1;33m,\u001b[0m \u001b[0mresult_blocks\u001b[0m\u001b[1;33m)\u001b[0m\u001b[1;33m\u001b[0m\u001b[0m\n\u001b[0;32m   3093\u001b[0m \u001b[1;33m\u001b[0m\u001b[0m\n",
      "\u001b[1;32mC:\\ProgramData\\Anaconda3\\lib\\site-packages\\pandas\\core\\internals.py\u001b[0m in \u001b[0;36mfillna\u001b[1;34m(self, value, limit, inplace, downcast, mgr)\u001b[0m\n\u001b[0;32m    390\u001b[0m         \u001b[1;32mtry\u001b[0m\u001b[1;33m:\u001b[0m\u001b[1;33m\u001b[0m\u001b[0m\n\u001b[0;32m    391\u001b[0m             \u001b[0mvalues\u001b[0m\u001b[1;33m,\u001b[0m \u001b[0m_\u001b[0m\u001b[1;33m,\u001b[0m \u001b[0mvalue\u001b[0m\u001b[1;33m,\u001b[0m \u001b[0m_\u001b[0m \u001b[1;33m=\u001b[0m \u001b[0mself\u001b[0m\u001b[1;33m.\u001b[0m\u001b[0m_try_coerce_args\u001b[0m\u001b[1;33m(\u001b[0m\u001b[0mself\u001b[0m\u001b[1;33m.\u001b[0m\u001b[0mvalues\u001b[0m\u001b[1;33m,\u001b[0m \u001b[0mvalue\u001b[0m\u001b[1;33m)\u001b[0m\u001b[1;33m\u001b[0m\u001b[0m\n\u001b[1;32m--> 392\u001b[1;33m             \u001b[0mblocks\u001b[0m \u001b[1;33m=\u001b[0m \u001b[0mself\u001b[0m\u001b[1;33m.\u001b[0m\u001b[0mputmask\u001b[0m\u001b[1;33m(\u001b[0m\u001b[0mmask\u001b[0m\u001b[1;33m,\u001b[0m \u001b[0mvalue\u001b[0m\u001b[1;33m,\u001b[0m \u001b[0minplace\u001b[0m\u001b[1;33m=\u001b[0m\u001b[0minplace\u001b[0m\u001b[1;33m)\u001b[0m\u001b[1;33m\u001b[0m\u001b[0m\n\u001b[0m\u001b[0;32m    393\u001b[0m             blocks = [b.make_block(values=self._try_coerce_result(b.values))\n\u001b[0;32m    394\u001b[0m                       for b in blocks]\n",
      "\u001b[1;32mC:\\ProgramData\\Anaconda3\\lib\\site-packages\\pandas\\core\\internals.py\u001b[0m in \u001b[0;36mputmask\u001b[1;34m(self, mask, new, align, inplace, axis, transpose, mgr)\u001b[0m\n\u001b[0;32m    818\u001b[0m         \"\"\"\n\u001b[0;32m    819\u001b[0m \u001b[1;33m\u001b[0m\u001b[0m\n\u001b[1;32m--> 820\u001b[1;33m         \u001b[0mnew_values\u001b[0m \u001b[1;33m=\u001b[0m \u001b[0mself\u001b[0m\u001b[1;33m.\u001b[0m\u001b[0mvalues\u001b[0m \u001b[1;32mif\u001b[0m \u001b[0minplace\u001b[0m \u001b[1;32melse\u001b[0m \u001b[0mself\u001b[0m\u001b[1;33m.\u001b[0m\u001b[0mvalues\u001b[0m\u001b[1;33m.\u001b[0m\u001b[0mcopy\u001b[0m\u001b[1;33m(\u001b[0m\u001b[1;33m)\u001b[0m\u001b[1;33m\u001b[0m\u001b[0m\n\u001b[0m\u001b[0;32m    821\u001b[0m \u001b[1;33m\u001b[0m\u001b[0m\n\u001b[0;32m    822\u001b[0m         \u001b[1;32mif\u001b[0m \u001b[0mhasattr\u001b[0m\u001b[1;33m(\u001b[0m\u001b[0mnew\u001b[0m\u001b[1;33m,\u001b[0m \u001b[1;34m'reindex_axis'\u001b[0m\u001b[1;33m)\u001b[0m\u001b[1;33m:\u001b[0m\u001b[1;33m\u001b[0m\u001b[0m\n",
      "\u001b[1;31mMemoryError\u001b[0m: "
     ]
    }
   ],
   "source": [
    "ada = AdaBoostClassifier(n_estimators=300)\n",
    "ada.fit(train_data.fillna(0).drop(['ID_Customer', 'last_prod', 'Unnamed: 0'], axis=1), train_data['last_prod'])"
   ]
  },
  {
   "cell_type": "code",
   "execution_count": 20,
   "metadata": {},
   "outputs": [
    {
     "name": "stdout",
     "output_type": "stream",
     "text": [
      "0.0836834139033\n"
     ]
    }
   ],
   "source": [
    "print(accuracy_score(test_data['last_prod'], ada.predict(test_data.fillna(0).drop(['ID_Customer', 'last_prod', 'Unnamed: 0'], axis=1))))"
   ]
  },
  {
   "cell_type": "code",
   "execution_count": 28,
   "metadata": {
    "collapsed": true
   },
   "outputs": [],
   "source": [
    "from sklearn.ensemble import GradientBoostingClassifier\n",
    "gb = GradientBoostingClassifier(n_estimators=50)"
   ]
  },
  {
   "cell_type": "code",
   "execution_count": 35,
   "metadata": {},
   "outputs": [
    {
     "ename": "KeyboardInterrupt",
     "evalue": "",
     "output_type": "error",
     "traceback": [
      "\u001b[1;31m---------------------------------------------------------------------------\u001b[0m",
      "\u001b[1;31mKeyboardInterrupt\u001b[0m                         Traceback (most recent call last)",
      "\u001b[1;32m<ipython-input-35-c16bab04d2f1>\u001b[0m in \u001b[0;36m<module>\u001b[1;34m()\u001b[0m\n\u001b[1;32m----> 1\u001b[1;33m \u001b[0mgb\u001b[0m\u001b[1;33m.\u001b[0m\u001b[0mfit\u001b[0m\u001b[1;33m(\u001b[0m\u001b[0mtrain_data\u001b[0m\u001b[1;33m.\u001b[0m\u001b[0mfillna\u001b[0m\u001b[1;33m(\u001b[0m\u001b[1;36m0\u001b[0m\u001b[1;33m)\u001b[0m\u001b[1;33m.\u001b[0m\u001b[0mdrop\u001b[0m\u001b[1;33m(\u001b[0m\u001b[1;33m[\u001b[0m\u001b[1;34m'ID_Customer'\u001b[0m\u001b[1;33m,\u001b[0m \u001b[1;34m'last_prod'\u001b[0m\u001b[1;33m,\u001b[0m \u001b[1;34m'Unnamed: 0'\u001b[0m\u001b[1;33m]\u001b[0m\u001b[1;33m,\u001b[0m \u001b[0maxis\u001b[0m\u001b[1;33m=\u001b[0m\u001b[1;36m1\u001b[0m\u001b[1;33m)\u001b[0m\u001b[1;33m,\u001b[0m \u001b[0mtrain_data\u001b[0m\u001b[1;33m[\u001b[0m\u001b[1;34m'last_prod'\u001b[0m\u001b[1;33m]\u001b[0m\u001b[1;33m)\u001b[0m\u001b[1;33m\u001b[0m\u001b[0m\n\u001b[0m",
      "\u001b[1;32mC:\\ProgramData\\Anaconda3\\lib\\site-packages\\sklearn\\ensemble\\gradient_boosting.py\u001b[0m in \u001b[0;36mfit\u001b[1;34m(self, X, y, sample_weight, monitor)\u001b[0m\n\u001b[0;32m   1032\u001b[0m         \u001b[1;31m# fit the boosting stages\u001b[0m\u001b[1;33m\u001b[0m\u001b[1;33m\u001b[0m\u001b[0m\n\u001b[0;32m   1033\u001b[0m         n_stages = self._fit_stages(X, y, y_pred, sample_weight, random_state,\n\u001b[1;32m-> 1034\u001b[1;33m                                     begin_at_stage, monitor, X_idx_sorted)\n\u001b[0m\u001b[0;32m   1035\u001b[0m         \u001b[1;31m# change shape of arrays after fit (early-stopping or additional ests)\u001b[0m\u001b[1;33m\u001b[0m\u001b[1;33m\u001b[0m\u001b[0m\n\u001b[0;32m   1036\u001b[0m         \u001b[1;32mif\u001b[0m \u001b[0mn_stages\u001b[0m \u001b[1;33m!=\u001b[0m \u001b[0mself\u001b[0m\u001b[1;33m.\u001b[0m\u001b[0mestimators_\u001b[0m\u001b[1;33m.\u001b[0m\u001b[0mshape\u001b[0m\u001b[1;33m[\u001b[0m\u001b[1;36m0\u001b[0m\u001b[1;33m]\u001b[0m\u001b[1;33m:\u001b[0m\u001b[1;33m\u001b[0m\u001b[0m\n",
      "\u001b[1;32mC:\\ProgramData\\Anaconda3\\lib\\site-packages\\sklearn\\ensemble\\gradient_boosting.py\u001b[0m in \u001b[0;36m_fit_stages\u001b[1;34m(self, X, y, y_pred, sample_weight, random_state, begin_at_stage, monitor, X_idx_sorted)\u001b[0m\n\u001b[0;32m   1087\u001b[0m             y_pred = self._fit_stage(i, X, y, y_pred, sample_weight,\n\u001b[0;32m   1088\u001b[0m                                      \u001b[0msample_mask\u001b[0m\u001b[1;33m,\u001b[0m \u001b[0mrandom_state\u001b[0m\u001b[1;33m,\u001b[0m \u001b[0mX_idx_sorted\u001b[0m\u001b[1;33m,\u001b[0m\u001b[1;33m\u001b[0m\u001b[0m\n\u001b[1;32m-> 1089\u001b[1;33m                                      X_csc, X_csr)\n\u001b[0m\u001b[0;32m   1090\u001b[0m \u001b[1;33m\u001b[0m\u001b[0m\n\u001b[0;32m   1091\u001b[0m             \u001b[1;31m# track deviance (= loss)\u001b[0m\u001b[1;33m\u001b[0m\u001b[1;33m\u001b[0m\u001b[0m\n",
      "\u001b[1;32mC:\\ProgramData\\Anaconda3\\lib\\site-packages\\sklearn\\ensemble\\gradient_boosting.py\u001b[0m in \u001b[0;36m_fit_stage\u001b[1;34m(self, i, X, y, y_pred, sample_weight, sample_mask, random_state, X_idx_sorted, X_csc, X_csr)\u001b[0m\n\u001b[0;32m    786\u001b[0m             \u001b[1;32melse\u001b[0m\u001b[1;33m:\u001b[0m\u001b[1;33m\u001b[0m\u001b[0m\n\u001b[0;32m    787\u001b[0m                 tree.fit(X, residual, sample_weight=sample_weight,\n\u001b[1;32m--> 788\u001b[1;33m                          check_input=False, X_idx_sorted=X_idx_sorted)\n\u001b[0m\u001b[0;32m    789\u001b[0m \u001b[1;33m\u001b[0m\u001b[0m\n\u001b[0;32m    790\u001b[0m             \u001b[1;31m# update tree leaves\u001b[0m\u001b[1;33m\u001b[0m\u001b[1;33m\u001b[0m\u001b[0m\n",
      "\u001b[1;32mC:\\ProgramData\\Anaconda3\\lib\\site-packages\\sklearn\\tree\\tree.py\u001b[0m in \u001b[0;36mfit\u001b[1;34m(self, X, y, sample_weight, check_input, X_idx_sorted)\u001b[0m\n\u001b[0;32m   1122\u001b[0m             \u001b[0msample_weight\u001b[0m\u001b[1;33m=\u001b[0m\u001b[0msample_weight\u001b[0m\u001b[1;33m,\u001b[0m\u001b[1;33m\u001b[0m\u001b[0m\n\u001b[0;32m   1123\u001b[0m             \u001b[0mcheck_input\u001b[0m\u001b[1;33m=\u001b[0m\u001b[0mcheck_input\u001b[0m\u001b[1;33m,\u001b[0m\u001b[1;33m\u001b[0m\u001b[0m\n\u001b[1;32m-> 1124\u001b[1;33m             X_idx_sorted=X_idx_sorted)\n\u001b[0m\u001b[0;32m   1125\u001b[0m         \u001b[1;32mreturn\u001b[0m \u001b[0mself\u001b[0m\u001b[1;33m\u001b[0m\u001b[0m\n\u001b[0;32m   1126\u001b[0m \u001b[1;33m\u001b[0m\u001b[0m\n",
      "\u001b[1;32mC:\\ProgramData\\Anaconda3\\lib\\site-packages\\sklearn\\tree\\tree.py\u001b[0m in \u001b[0;36mfit\u001b[1;34m(self, X, y, sample_weight, check_input, X_idx_sorted)\u001b[0m\n\u001b[0;32m    360\u001b[0m                                            min_impurity_split)\n\u001b[0;32m    361\u001b[0m \u001b[1;33m\u001b[0m\u001b[0m\n\u001b[1;32m--> 362\u001b[1;33m         \u001b[0mbuilder\u001b[0m\u001b[1;33m.\u001b[0m\u001b[0mbuild\u001b[0m\u001b[1;33m(\u001b[0m\u001b[0mself\u001b[0m\u001b[1;33m.\u001b[0m\u001b[0mtree_\u001b[0m\u001b[1;33m,\u001b[0m \u001b[0mX\u001b[0m\u001b[1;33m,\u001b[0m \u001b[0my\u001b[0m\u001b[1;33m,\u001b[0m \u001b[0msample_weight\u001b[0m\u001b[1;33m,\u001b[0m \u001b[0mX_idx_sorted\u001b[0m\u001b[1;33m)\u001b[0m\u001b[1;33m\u001b[0m\u001b[0m\n\u001b[0m\u001b[0;32m    363\u001b[0m \u001b[1;33m\u001b[0m\u001b[0m\n\u001b[0;32m    364\u001b[0m         \u001b[1;32mif\u001b[0m \u001b[0mself\u001b[0m\u001b[1;33m.\u001b[0m\u001b[0mn_outputs_\u001b[0m \u001b[1;33m==\u001b[0m \u001b[1;36m1\u001b[0m\u001b[1;33m:\u001b[0m\u001b[1;33m\u001b[0m\u001b[0m\n",
      "\u001b[1;31mKeyboardInterrupt\u001b[0m: "
     ]
    }
   ],
   "source": [
    "gb.fit(train_data.fillna(0).drop(['ID_Customer', 'last_prod', 'Unnamed: 0'], axis=1), train_data['last_prod'])"
   ]
  },
  {
   "cell_type": "code",
   "execution_count": null,
   "metadata": {
    "collapsed": true
   },
   "outputs": [],
   "source": []
  }
 ],
 "metadata": {
  "kernelspec": {
   "display_name": "Python 3",
   "language": "python",
   "name": "python3"
  },
  "language_info": {
   "codemirror_mode": {
    "name": "ipython",
    "version": 3
   },
   "file_extension": ".py",
   "mimetype": "text/x-python",
   "name": "python",
   "nbconvert_exporter": "python",
   "pygments_lexer": "ipython3",
   "version": "3.6.4"
  }
 },
 "nbformat": 4,
 "nbformat_minor": 2
}
